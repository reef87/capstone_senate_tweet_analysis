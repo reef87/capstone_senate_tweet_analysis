{
 "cells": [
  {
   "cell_type": "code",
   "execution_count": 24,
   "metadata": {},
   "outputs": [],
   "source": [
    "import pandas as pd\n",
    "import numpy as np\n",
    "import seaborn as sns\n",
    "import matplotlib.pyplot as plt\n",
    "import os\n",
    "from wordcloud import STOPWORDS\n",
    "import re\n",
    "import scipy.stats as stats\n",
    "\n",
    "from nltk.tokenize import RegexpTokenizer\n",
    "from nltk.stem import PorterStemmer, WordNetLemmatizer\n",
    "from nltk.corpus import stopwords\n",
    "\n",
    "from sklearn.ensemble import RandomForestRegressor, RandomForestClassifier\n",
    "from sklearn.feature_extraction.text import CountVectorizer, TfidfVectorizer, TfidfTransformer\n",
    "from sklearn.preprocessing import LabelEncoder\n",
    "from sklearn.model_selection import train_test_split, GridSearchCV, cross_val_score, cross_validate\n",
    "from sklearn.pipeline import Pipeline\n",
    "from sklearn.linear_model import LogisticRegression, LinearRegression\n",
    "from sklearn.metrics import classification_report"
   ]
  },
  {
   "cell_type": "markdown",
   "metadata": {},
   "source": [
    "#### 1. Loading in the data and engineering some features"
   ]
  },
  {
   "cell_type": "code",
   "execution_count": 6,
   "metadata": {},
   "outputs": [],
   "source": [
    "senate = pd.read_csv('./data/senate_processed.csv')"
   ]
  },
  {
   "cell_type": "code",
   "execution_count": 7,
   "metadata": {},
   "outputs": [
    {
     "name": "stdout",
     "output_type": "stream",
     "text": [
      "<class 'pandas.core.frame.DataFrame'>\n",
      "RangeIndex: 219539 entries, 0 to 219538\n",
      "Data columns (total 11 columns):\n",
      "created_at        219539 non-null object\n",
      "id_str            219539 non-null float64\n",
      "reply_count       219539 non-null float64\n",
      "retweet_count     219539 non-null float64\n",
      "text              219539 non-null object\n",
      "user              219539 non-null object\n",
      "name              219539 non-null object\n",
      "state             219539 non-null object\n",
      "party             219539 non-null object\n",
      "the_ratio         219539 non-null float64\n",
      "text_processed    219536 non-null object\n",
      "dtypes: float64(4), object(7)\n",
      "memory usage: 18.4+ MB\n"
     ]
    }
   ],
   "source": [
    "senate.info()"
   ]
  },
  {
   "cell_type": "code",
   "execution_count": 8,
   "metadata": {},
   "outputs": [],
   "source": [
    "senate.dropna(inplace=True)"
   ]
  },
  {
   "cell_type": "code",
   "execution_count": 9,
   "metadata": {},
   "outputs": [
    {
     "data": {
      "text/html": [
       "<div>\n",
       "<style>\n",
       "    .dataframe thead tr:only-child th {\n",
       "        text-align: right;\n",
       "    }\n",
       "\n",
       "    .dataframe thead th {\n",
       "        text-align: left;\n",
       "    }\n",
       "\n",
       "    .dataframe tbody tr th {\n",
       "        vertical-align: top;\n",
       "    }\n",
       "</style>\n",
       "<table border=\"1\" class=\"dataframe\">\n",
       "  <thead>\n",
       "    <tr style=\"text-align: right;\">\n",
       "      <th></th>\n",
       "      <th>created_at</th>\n",
       "      <th>id_str</th>\n",
       "      <th>reply_count</th>\n",
       "      <th>retweet_count</th>\n",
       "      <th>text</th>\n",
       "      <th>user</th>\n",
       "      <th>name</th>\n",
       "      <th>state</th>\n",
       "      <th>party</th>\n",
       "      <th>the_ratio</th>\n",
       "      <th>text_processed</th>\n",
       "    </tr>\n",
       "  </thead>\n",
       "  <tbody>\n",
       "    <tr>\n",
       "      <th>0</th>\n",
       "      <td>Sun May 21 19:26:26 +0000 2017</td>\n",
       "      <td>8.660000e+17</td>\n",
       "      <td>116.0</td>\n",
       "      <td>174.0</td>\n",
       "      <td>Franni here. Since it's Al's birthday, and sin...</td>\n",
       "      <td>alfranken</td>\n",
       "      <td>Al Franken</td>\n",
       "      <td>New York</td>\n",
       "      <td>Democratic</td>\n",
       "      <td>0.666667</td>\n",
       "      <td>franni since al birthday since working hard wa...</td>\n",
       "    </tr>\n",
       "    <tr>\n",
       "      <th>1</th>\n",
       "      <td>Tue May 16 01:44:44 +0000 2017</td>\n",
       "      <td>8.640000e+17</td>\n",
       "      <td>718.0</td>\n",
       "      <td>1248.0</td>\n",
       "      <td>This is profoundly troubling. Why would Presid...</td>\n",
       "      <td>alfranken</td>\n",
       "      <td>Al Franken</td>\n",
       "      <td>New York</td>\n",
       "      <td>Democratic</td>\n",
       "      <td>0.575321</td>\n",
       "      <td>profoundly troubling would president trump giv...</td>\n",
       "    </tr>\n",
       "    <tr>\n",
       "      <th>2</th>\n",
       "      <td>Wed May 10 19:55:37 +0000 2017</td>\n",
       "      <td>8.620000e+17</td>\n",
       "      <td>218.0</td>\n",
       "      <td>1334.0</td>\n",
       "      <td>It couldn't be clearer: we need an independent...</td>\n",
       "      <td>alfranken</td>\n",
       "      <td>Al Franken</td>\n",
       "      <td>New York</td>\n",
       "      <td>Democratic</td>\n",
       "      <td>0.163418</td>\n",
       "      <td>clearer need independent investigation preside...</td>\n",
       "    </tr>\n",
       "    <tr>\n",
       "      <th>3</th>\n",
       "      <td>Wed May 10 19:54:55 +0000 2017</td>\n",
       "      <td>8.620000e+17</td>\n",
       "      <td>134.0</td>\n",
       "      <td>794.0</td>\n",
       "      <td>More troubling news: AG Sessions was involved ...</td>\n",
       "      <td>alfranken</td>\n",
       "      <td>Al Franken</td>\n",
       "      <td>New York</td>\n",
       "      <td>Democratic</td>\n",
       "      <td>0.168766</td>\n",
       "      <td>troubling news ag session involved firing jeff...</td>\n",
       "    </tr>\n",
       "    <tr>\n",
       "      <th>4</th>\n",
       "      <td>Wed May 10 19:54:20 +0000 2017</td>\n",
       "      <td>8.620000e+17</td>\n",
       "      <td>131.0</td>\n",
       "      <td>556.0</td>\n",
       "      <td>Troubling news that you probably know by now: ...</td>\n",
       "      <td>alfranken</td>\n",
       "      <td>Al Franken</td>\n",
       "      <td>New York</td>\n",
       "      <td>Democratic</td>\n",
       "      <td>0.235612</td>\n",
       "      <td>troubling news probably know president trump f...</td>\n",
       "    </tr>\n",
       "  </tbody>\n",
       "</table>\n",
       "</div>"
      ],
      "text/plain": [
       "                       created_at        id_str  reply_count  retweet_count  \\\n",
       "0  Sun May 21 19:26:26 +0000 2017  8.660000e+17        116.0          174.0   \n",
       "1  Tue May 16 01:44:44 +0000 2017  8.640000e+17        718.0         1248.0   \n",
       "2  Wed May 10 19:55:37 +0000 2017  8.620000e+17        218.0         1334.0   \n",
       "3  Wed May 10 19:54:55 +0000 2017  8.620000e+17        134.0          794.0   \n",
       "4  Wed May 10 19:54:20 +0000 2017  8.620000e+17        131.0          556.0   \n",
       "\n",
       "                                                text       user        name  \\\n",
       "0  Franni here. Since it's Al's birthday, and sin...  alfranken  Al Franken   \n",
       "1  This is profoundly troubling. Why would Presid...  alfranken  Al Franken   \n",
       "2  It couldn't be clearer: we need an independent...  alfranken  Al Franken   \n",
       "3  More troubling news: AG Sessions was involved ...  alfranken  Al Franken   \n",
       "4  Troubling news that you probably know by now: ...  alfranken  Al Franken   \n",
       "\n",
       "      state       party  the_ratio  \\\n",
       "0  New York  Democratic   0.666667   \n",
       "1  New York  Democratic   0.575321   \n",
       "2  New York  Democratic   0.163418   \n",
       "3  New York  Democratic   0.168766   \n",
       "4  New York  Democratic   0.235612   \n",
       "\n",
       "                                      text_processed  \n",
       "0  franni since al birthday since working hard wa...  \n",
       "1  profoundly troubling would president trump giv...  \n",
       "2  clearer need independent investigation preside...  \n",
       "3  troubling news ag session involved firing jeff...  \n",
       "4  troubling news probably know president trump f...  "
      ]
     },
     "execution_count": 9,
     "metadata": {},
     "output_type": "execute_result"
    }
   ],
   "source": [
    "senate.head()"
   ]
  },
  {
   "cell_type": "code",
   "execution_count": 10,
   "metadata": {},
   "outputs": [
    {
     "data": {
      "text/plain": [
       "count    219536.000000\n",
       "mean          0.677341\n",
       "std           1.847243\n",
       "min           0.000000\n",
       "25%           0.046512\n",
       "50%           0.250000\n",
       "75%           0.636364\n",
       "max         138.000000\n",
       "Name: the_ratio, dtype: float64"
      ]
     },
     "execution_count": 10,
     "metadata": {},
     "output_type": "execute_result"
    }
   ],
   "source": [
    "senate.the_ratio.describe()"
   ]
  },
  {
   "cell_type": "code",
   "execution_count": 11,
   "metadata": {},
   "outputs": [],
   "source": [
    "# This divides the_ratio column into quartiles and labels them by the corresponding number\n",
    "senate['ratio_quartile'] = pd.qcut(senate['the_ratio'], 4, labels=False)"
   ]
  },
  {
   "cell_type": "markdown",
   "metadata": {},
   "source": [
    "####  2. Establishing a baseline accuracy"
   ]
  },
  {
   "cell_type": "code",
   "execution_count": 12,
   "metadata": {},
   "outputs": [
    {
     "data": {
      "text/plain": [
       "1    59427\n",
       "0    54906\n",
       "3    54855\n",
       "2    50348\n",
       "Name: ratio_quartile, dtype: int64"
      ]
     },
     "execution_count": 12,
     "metadata": {},
     "output_type": "execute_result"
    }
   ],
   "source": [
    "senate['ratio_quartile'].value_counts()"
   ]
  },
  {
   "cell_type": "code",
   "execution_count": 13,
   "metadata": {},
   "outputs": [
    {
     "data": {
      "text/plain": [
       "0.2501002113548575"
      ]
     },
     "execution_count": 13,
     "metadata": {},
     "output_type": "execute_result"
    }
   ],
   "source": [
    "# The baseline accuracy will be the percentage of the most frequent class\n",
    "baseline_accuracy = senate['ratio_quartile'].value_counts()[0]/len(senate['ratio_quartile'])\n",
    "baseline_accuracy"
   ]
  },
  {
   "cell_type": "markdown",
   "metadata": {},
   "source": [
    "### 3. Logistic Regression model"
   ]
  },
  {
   "cell_type": "code",
   "execution_count": 14,
   "metadata": {},
   "outputs": [],
   "source": [
    "# Added more stopwords after a deep dive into EDA\n",
    "stopwords = set(STOPWORDS)\n",
    "stopwords.add(\"http\")\n",
    "stopwords.add(\"co\")\n",
    "stopwords.add(\"amp\")\n",
    "stopwords.add(\"u\")\n",
    "stopwords.add(\"w\")\n",
    "stopwords.add(\"bit\")\n",
    "stopwords.add(\"ly\")"
   ]
  },
  {
   "cell_type": "code",
   "execution_count": 17,
   "metadata": {},
   "outputs": [],
   "source": [
    "# setting up X and y\n",
    "y = senate['ratio_quartile']\n",
    "X = senate['text_processed']\n",
    "\n",
    "X_train, X_test, y_train, y_test = train_test_split(X,y, test_size= 0.3, random_state=42)\n",
    "\n",
    "le = LabelEncoder()\n",
    "le.fit(y)\n",
    "\n",
    "y_train = le.transform(y_train)\n",
    "y_test = le.transform(y_test)"
   ]
  },
  {
   "cell_type": "code",
   "execution_count": 18,
   "metadata": {},
   "outputs": [
    {
     "name": "stdout",
     "output_type": "stream",
     "text": [
      "0.8099951195705222\n",
      "0.4157240248401937\n",
      "0.3888034547167317\n",
      "CPU times: user 1min 22s, sys: 818 ms, total: 1min 23s\n",
      "Wall time: 1min 23s\n"
     ]
    },
    {
     "name": "stderr",
     "output_type": "stream",
     "text": [
      "[Parallel(n_jobs=1)]: Done   5 out of   5 | elapsed:   40.8s finished\n"
     ]
    }
   ],
   "source": [
    "%%time \n",
    "\n",
    "pipeline = Pipeline([\n",
    "    ('vect', CountVectorizer(stop_words=stopwords, ngram_range=(1,1))), \n",
    "    ('logit', LogisticRegression())\n",
    "]) \n",
    "pipeline.fit(X_train, y_train)\n",
    "print(pipeline.score(X_train, y_train))\n",
    "print(pipeline.score(X_test, y_test))\n",
    "print(cross_val_score(pipeline, X_test, y_test, cv=5, verbose=1).mean()\n",
    ")"
   ]
  },
  {
   "cell_type": "code",
   "execution_count": 19,
   "metadata": {},
   "outputs": [
    {
     "name": "stdout",
     "output_type": "stream",
     "text": [
      "0.809858467545144\n",
      "0.4156784743626729\n",
      "0.3889552942556505\n",
      "CPU times: user 1min 23s, sys: 732 ms, total: 1min 24s\n",
      "Wall time: 1min 24s\n"
     ]
    },
    {
     "name": "stderr",
     "output_type": "stream",
     "text": [
      "[Parallel(n_jobs=1)]: Done   5 out of   5 | elapsed:   41.6s finished\n"
     ]
    }
   ],
   "source": [
    "%%time \n",
    "\n",
    "pipeline = Pipeline([\n",
    "    ('vect', CountVectorizer(stop_words=stopwords, \n",
    "                             ngram_range=(1,1),\n",
    "                             min_df=1,\n",
    "                             strip_accents='unicode')), \n",
    "    ('logit', LogisticRegression())\n",
    "]) \n",
    "pipeline.fit(X_train, y_train)\n",
    "print(pipeline.score(X_train, y_train))\n",
    "print(pipeline.score(X_test, y_test))\n",
    "print(cross_val_score(pipeline, X_test, y_test, cv=5, verbose=1).mean()\n",
    ")"
   ]
  },
  {
   "cell_type": "code",
   "execution_count": 20,
   "metadata": {},
   "outputs": [
    {
     "name": "stdout",
     "output_type": "stream",
     "text": [
      "0.5646266471449487\n",
      "0.41765232838857597\n",
      "0.39067096046559513\n",
      "CPU times: user 44.6 s, sys: 673 ms, total: 45.2 s\n",
      "Wall time: 45.3 s\n"
     ]
    },
    {
     "name": "stderr",
     "output_type": "stream",
     "text": [
      "[Parallel(n_jobs=1)]: Done   5 out of   5 | elapsed:   23.8s finished\n"
     ]
    }
   ],
   "source": [
    "%%time \n",
    "pipeline = Pipeline([\n",
    "    ('vect', CountVectorizer(stop_words=stopwords, \n",
    "                             ngram_range=(1,1),\n",
    "                             strip_accents='ascii')), \n",
    "    ('logit', LogisticRegression(penalty='l1'))\n",
    "]) \n",
    "pipeline.fit(X_train, y_train)\n",
    "print(pipeline.score(X_train, y_train))\n",
    "print(pipeline.score(X_test, y_test))\n",
    "print(cross_val_score(pipeline, X_test, y_test, cv=5, verbose=1).mean()\n",
    ")"
   ]
  },
  {
   "cell_type": "code",
   "execution_count": 22,
   "metadata": {},
   "outputs": [
    {
     "data": {
      "text/html": [
       "<div>\n",
       "<style>\n",
       "    .dataframe thead tr:only-child th {\n",
       "        text-align: right;\n",
       "    }\n",
       "\n",
       "    .dataframe thead th {\n",
       "        text-align: left;\n",
       "    }\n",
       "\n",
       "    .dataframe tbody tr th {\n",
       "        vertical-align: top;\n",
       "    }\n",
       "</style>\n",
       "<table border=\"1\" class=\"dataframe\">\n",
       "  <thead>\n",
       "    <tr style=\"text-align: right;\">\n",
       "      <th>Predicted</th>\n",
       "      <th>0</th>\n",
       "      <th>1</th>\n",
       "      <th>2</th>\n",
       "      <th>3</th>\n",
       "      <th>All</th>\n",
       "    </tr>\n",
       "    <tr>\n",
       "      <th>Actual</th>\n",
       "      <th></th>\n",
       "      <th></th>\n",
       "      <th></th>\n",
       "      <th></th>\n",
       "      <th></th>\n",
       "    </tr>\n",
       "  </thead>\n",
       "  <tbody>\n",
       "    <tr>\n",
       "      <th>0</th>\n",
       "      <td>8431</td>\n",
       "      <td>3196</td>\n",
       "      <td>1605</td>\n",
       "      <td>3191</td>\n",
       "      <td>16423</td>\n",
       "    </tr>\n",
       "    <tr>\n",
       "      <th>1</th>\n",
       "      <td>3617</td>\n",
       "      <td>8817</td>\n",
       "      <td>2550</td>\n",
       "      <td>2935</td>\n",
       "      <td>17919</td>\n",
       "    </tr>\n",
       "    <tr>\n",
       "      <th>2</th>\n",
       "      <td>3387</td>\n",
       "      <td>4784</td>\n",
       "      <td>2760</td>\n",
       "      <td>4177</td>\n",
       "      <td>15108</td>\n",
       "    </tr>\n",
       "    <tr>\n",
       "      <th>3</th>\n",
       "      <td>3591</td>\n",
       "      <td>2943</td>\n",
       "      <td>2378</td>\n",
       "      <td>7499</td>\n",
       "      <td>16411</td>\n",
       "    </tr>\n",
       "    <tr>\n",
       "      <th>All</th>\n",
       "      <td>19026</td>\n",
       "      <td>19740</td>\n",
       "      <td>9293</td>\n",
       "      <td>17802</td>\n",
       "      <td>65861</td>\n",
       "    </tr>\n",
       "  </tbody>\n",
       "</table>\n",
       "</div>"
      ],
      "text/plain": [
       "Predicted      0      1     2      3    All\n",
       "Actual                                     \n",
       "0           8431   3196  1605   3191  16423\n",
       "1           3617   8817  2550   2935  17919\n",
       "2           3387   4784  2760   4177  15108\n",
       "3           3591   2943  2378   7499  16411\n",
       "All        19026  19740  9293  17802  65861"
      ]
     },
     "execution_count": 22,
     "metadata": {},
     "output_type": "execute_result"
    }
   ],
   "source": [
    "y_preds = pipeline.predict(X_test)\n",
    "\n",
    "logit_confusion = pd.crosstab(y_test, y_preds, rownames=['Actual'], colnames=['Predicted'], margins=True)\n",
    "logit_confusion"
   ]
  },
  {
   "cell_type": "code",
   "execution_count": 23,
   "metadata": {},
   "outputs": [
    {
     "name": "stdout",
     "output_type": "stream",
     "text": [
      "             precision    recall  f1-score   support\n",
      "\n",
      "          0       0.44      0.51      0.48     16423\n",
      "          1       0.45      0.49      0.47     17919\n",
      "          2       0.30      0.18      0.23     15108\n",
      "          3       0.42      0.46      0.44     16411\n",
      "\n",
      "avg / total       0.41      0.42      0.41     65861\n",
      "\n"
     ]
    }
   ],
   "source": [
    "metrics = classification_report(y_test, y_preds)\n",
    "print(metrics)"
   ]
  },
  {
   "cell_type": "code",
   "execution_count": null,
   "metadata": {},
   "outputs": [],
   "source": []
  }
 ],
 "metadata": {
  "kernelspec": {
   "display_name": "Python [default]",
   "language": "python",
   "name": "python3"
  },
  "language_info": {
   "codemirror_mode": {
    "name": "ipython",
    "version": 3
   },
   "file_extension": ".py",
   "mimetype": "text/x-python",
   "name": "python",
   "nbconvert_exporter": "python",
   "pygments_lexer": "ipython3",
   "version": "3.6.3"
  }
 },
 "nbformat": 4,
 "nbformat_minor": 2
}
