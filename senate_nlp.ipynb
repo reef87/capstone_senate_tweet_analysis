{
 "cells": [
  {
   "cell_type": "code",
   "execution_count": 48,
   "metadata": {},
   "outputs": [
    {
     "name": "stderr",
     "output_type": "stream",
     "text": [
      "/Users/reef/anaconda3/lib/python3.6/site-packages/sklearn/cross_validation.py:41: DeprecationWarning: This module was deprecated in version 0.18 in favor of the model_selection module into which all the refactored classes and functions are moved. Also note that the interface of the new CV iterators are different from that of this module. This module will be removed in 0.20.\n",
      "  \"This module will be removed in 0.20.\", DeprecationWarning)\n",
      "/Users/reef/anaconda3/lib/python3.6/site-packages/sklearn/grid_search.py:42: DeprecationWarning: This module was deprecated in version 0.18 in favor of the model_selection module into which all the refactored classes and functions are moved. This module will be removed in 0.20.\n",
      "  DeprecationWarning)\n"
     ]
    }
   ],
   "source": [
    "import pandas as pd\n",
    "import numpy as np\n",
    "import seaborn as sns\n",
    "import matplotlib.pyplot as plt\n",
    "import os\n",
    "from nltk.tokenize import RegexpTokenizer\n",
    "from nltk.stem import PorterStemmer\n",
    "from nltk.corpus import stopwords\n",
    "import re\n",
    "from sklearn.grid_search import GridSearchCV\n",
    "from sklearn.ensemble import RandomForestRegressor, RandomForestClassifier\n",
    "from sklearn.feature_extraction.text import CountVectorizer, TfidfVectorizer, TfidfTransformer\n",
    "from sklearn.preprocessing import LabelEncoder\n",
    "from sklearn.model_selection import train_test_split\n",
    "from sklearn.pipeline import Pipeline\n",
    "from sklearn.linear_model import LogisticRegression\n",
    "import scipy.stats as stats\n",
    "import pymc3 as pm\n",
    "\n",
    "%matplotlib inline"
   ]
  },
  {
   "cell_type": "code",
   "execution_count": 4,
   "metadata": {},
   "outputs": [],
   "source": [
    "senate = pd.read_csv('./data/senate.csv')"
   ]
  },
  {
   "cell_type": "code",
   "execution_count": 5,
   "metadata": {},
   "outputs": [],
   "source": [
    "def text_process(text):\n",
    "    '''\n",
    "    Takes in a string of text, then performs the following:\n",
    "        1. Tokenizes and removes punctuation\n",
    "        2. Removes stopwords\n",
    "        3. Stems\n",
    "        4. Returns a list of the cleaned text\n",
    "    '''\n",
    "    if pd.isnull(text):\n",
    "        return []\n",
    "    # tokenizing and removing punctuation\n",
    "    tokenizer = RegexpTokenizer(r'\\w+')\n",
    "    text_processed=tokenizer.tokenize(text)\n",
    "    \n",
    "    # removing any stopwords\n",
    "    text_processed = [word.lower() for word in text_processed if word.lower() not in stopwords.words('english')]\n",
    "    \n",
    "    # steming\n",
    "    porter_stemmer = PorterStemmer()\n",
    "    \n",
    "    text_processed = [porter_stemmer.stem(word) for word in text_processed]\n",
    "    \n",
    "    try:\n",
    "        text_processed.remove('b')\n",
    "    except: \n",
    "        pass\n",
    "\n",
    "    return text_processed "
   ]
  },
  {
   "cell_type": "code",
   "execution_count": 7,
   "metadata": {},
   "outputs": [
    {
     "data": {
      "text/html": [
       "<div>\n",
       "<style>\n",
       "    .dataframe thead tr:only-child th {\n",
       "        text-align: right;\n",
       "    }\n",
       "\n",
       "    .dataframe thead th {\n",
       "        text-align: left;\n",
       "    }\n",
       "\n",
       "    .dataframe tbody tr th {\n",
       "        vertical-align: top;\n",
       "    }\n",
       "</style>\n",
       "<table border=\"1\" class=\"dataframe\">\n",
       "  <thead>\n",
       "    <tr style=\"text-align: right;\">\n",
       "      <th></th>\n",
       "      <th>created_at</th>\n",
       "      <th>id_str</th>\n",
       "      <th>reply_count</th>\n",
       "      <th>retweet_count</th>\n",
       "      <th>text</th>\n",
       "      <th>user</th>\n",
       "      <th>name</th>\n",
       "      <th>state</th>\n",
       "      <th>party</th>\n",
       "      <th>the_ratio</th>\n",
       "    </tr>\n",
       "  </thead>\n",
       "  <tbody>\n",
       "    <tr>\n",
       "      <th>0</th>\n",
       "      <td>Sun May 21 19:26:26 +0000 2017</td>\n",
       "      <td>8.660000e+17</td>\n",
       "      <td>116.0</td>\n",
       "      <td>174.0</td>\n",
       "      <td>Franni here. Since it's Al's birthday, and sin...</td>\n",
       "      <td>alfranken</td>\n",
       "      <td>Al Franken</td>\n",
       "      <td>New York</td>\n",
       "      <td>Democratic</td>\n",
       "      <td>0.666667</td>\n",
       "    </tr>\n",
       "    <tr>\n",
       "      <th>1</th>\n",
       "      <td>Tue May 16 01:44:44 +0000 2017</td>\n",
       "      <td>8.640000e+17</td>\n",
       "      <td>718.0</td>\n",
       "      <td>1248.0</td>\n",
       "      <td>This is profoundly troubling. Why would Presid...</td>\n",
       "      <td>alfranken</td>\n",
       "      <td>Al Franken</td>\n",
       "      <td>New York</td>\n",
       "      <td>Democratic</td>\n",
       "      <td>0.575321</td>\n",
       "    </tr>\n",
       "    <tr>\n",
       "      <th>2</th>\n",
       "      <td>Wed May 10 19:55:37 +0000 2017</td>\n",
       "      <td>8.620000e+17</td>\n",
       "      <td>218.0</td>\n",
       "      <td>1334.0</td>\n",
       "      <td>It couldn't be clearer: we need an independent...</td>\n",
       "      <td>alfranken</td>\n",
       "      <td>Al Franken</td>\n",
       "      <td>New York</td>\n",
       "      <td>Democratic</td>\n",
       "      <td>0.163418</td>\n",
       "    </tr>\n",
       "    <tr>\n",
       "      <th>3</th>\n",
       "      <td>Wed May 10 19:54:55 +0000 2017</td>\n",
       "      <td>8.620000e+17</td>\n",
       "      <td>134.0</td>\n",
       "      <td>794.0</td>\n",
       "      <td>More troubling news: AG Sessions was involved ...</td>\n",
       "      <td>alfranken</td>\n",
       "      <td>Al Franken</td>\n",
       "      <td>New York</td>\n",
       "      <td>Democratic</td>\n",
       "      <td>0.168766</td>\n",
       "    </tr>\n",
       "    <tr>\n",
       "      <th>4</th>\n",
       "      <td>Wed May 10 19:54:20 +0000 2017</td>\n",
       "      <td>8.620000e+17</td>\n",
       "      <td>131.0</td>\n",
       "      <td>556.0</td>\n",
       "      <td>Troubling news that you probably know by now: ...</td>\n",
       "      <td>alfranken</td>\n",
       "      <td>Al Franken</td>\n",
       "      <td>New York</td>\n",
       "      <td>Democratic</td>\n",
       "      <td>0.235612</td>\n",
       "    </tr>\n",
       "  </tbody>\n",
       "</table>\n",
       "</div>"
      ],
      "text/plain": [
       "                       created_at        id_str  reply_count  retweet_count  \\\n",
       "0  Sun May 21 19:26:26 +0000 2017  8.660000e+17        116.0          174.0   \n",
       "1  Tue May 16 01:44:44 +0000 2017  8.640000e+17        718.0         1248.0   \n",
       "2  Wed May 10 19:55:37 +0000 2017  8.620000e+17        218.0         1334.0   \n",
       "3  Wed May 10 19:54:55 +0000 2017  8.620000e+17        134.0          794.0   \n",
       "4  Wed May 10 19:54:20 +0000 2017  8.620000e+17        131.0          556.0   \n",
       "\n",
       "                                                text       user        name  \\\n",
       "0  Franni here. Since it's Al's birthday, and sin...  alfranken  Al Franken   \n",
       "1  This is profoundly troubling. Why would Presid...  alfranken  Al Franken   \n",
       "2  It couldn't be clearer: we need an independent...  alfranken  Al Franken   \n",
       "3  More troubling news: AG Sessions was involved ...  alfranken  Al Franken   \n",
       "4  Troubling news that you probably know by now: ...  alfranken  Al Franken   \n",
       "\n",
       "      state       party  the_ratio  \n",
       "0  New York  Democratic   0.666667  \n",
       "1  New York  Democratic   0.575321  \n",
       "2  New York  Democratic   0.163418  \n",
       "3  New York  Democratic   0.168766  \n",
       "4  New York  Democratic   0.235612  "
      ]
     },
     "execution_count": 7,
     "metadata": {},
     "output_type": "execute_result"
    }
   ],
   "source": [
    "senate.head()"
   ]
  },
  {
   "cell_type": "code",
   "execution_count": 8,
   "metadata": {},
   "outputs": [
    {
     "data": {
      "text/plain": [
       "count    219539.000000\n",
       "mean          0.677336\n",
       "std           1.847231\n",
       "min           0.000000\n",
       "25%           0.046512\n",
       "50%           0.250000\n",
       "75%           0.636364\n",
       "max         138.000000\n",
       "Name: the_ratio, dtype: float64"
      ]
     },
     "execution_count": 8,
     "metadata": {},
     "output_type": "execute_result"
    }
   ],
   "source": [
    "senate.the_ratio.describe()"
   ]
  },
  {
   "cell_type": "code",
   "execution_count": 41,
   "metadata": {},
   "outputs": [],
   "source": [
    "y = senate['the_ratio']\n",
    "X = senate['text']\n",
    "\n",
    "#cv = CountVectorizer(stop_words='english')\n",
    "#cv.fit(X)\n",
    "\n",
    "#X = pd.DataFrame(cv.transform(X).todense(), columns=cv.get_feature_names())\n",
    "\n",
    "X_train, X_test, y_train, y_test = train_test_split(X,y, test_size= 0.3, random_state=42)"
   ]
  },
  {
   "cell_type": "code",
   "execution_count": 21,
   "metadata": {},
   "outputs": [
    {
     "name": "stdout",
     "output_type": "stream",
     "text": [
      "CPU times: user 2h 30min 19s, sys: 28.1 s, total: 2h 30min 48s\n",
      "Wall time: 2h 31min 2s\n"
     ]
    }
   ],
   "source": [
    "%%time\n",
    "pipeline = Pipeline([\n",
    "    ('vect', CountVectorizer(stop_words='english', strip_accents='ascii')), # lowercase=True by defaul\n",
    "    ('rfr', RandomForestRegressor())\n",
    "]) \n",
    "pipeline.fit(X_train, y_train)"
   ]
  },
  {
   "cell_type": "code",
   "execution_count": 22,
   "metadata": {},
   "outputs": [
    {
     "data": {
      "text/plain": [
       "0.8414908077302007"
      ]
     },
     "execution_count": 22,
     "metadata": {},
     "output_type": "execute_result"
    }
   ],
   "source": [
    "pipeline.score(X_train, y_train)"
   ]
  },
  {
   "cell_type": "code",
   "execution_count": 23,
   "metadata": {},
   "outputs": [
    {
     "data": {
      "text/plain": [
       "-0.009979300922180023"
      ]
     },
     "execution_count": 23,
     "metadata": {},
     "output_type": "execute_result"
    }
   ],
   "source": [
    "pipeline.score(X_test, y_test)"
   ]
  },
  {
   "cell_type": "code",
   "execution_count": 26,
   "metadata": {},
   "outputs": [
    {
     "data": {
      "text/plain": [
       "<matplotlib.collections.PathCollection at 0x1c2d7524a8>"
      ]
     },
     "execution_count": 26,
     "metadata": {},
     "output_type": "execute_result"
    },
    {
     "data": {
      "image/png": "[encoded data removed]",
      "text/plain": [
       "<matplotlib.figure.Figure at 0x1c22627f60>"
      ]
     },
     "metadata": {},
     "output_type": "display_data"
    }
   ],
   "source": [
    "y_preds = pipeline.predict(X_test)\n",
    "plt.scatter(y_preds, y_test)"
   ]
  },
  {
   "cell_type": "code",
   "execution_count": null,
   "metadata": {},
   "outputs": [],
   "source": []
  },
  {
   "cell_type": "code",
   "execution_count": null,
   "metadata": {},
   "outputs": [],
   "source": []
  },
  {
   "cell_type": "code",
   "execution_count": 16,
   "metadata": {
    "scrolled": true
   },
   "outputs": [
    {
     "data": {
      "text/plain": [
       "Pipeline(memory=None,\n",
       "     steps=[('vect', CountVectorizer(analyzer='word', binary=False, decode_error='strict',\n",
       "        dtype=<class 'numpy.int64'>, encoding='utf-8', input='content',\n",
       "        lowercase=True, max_df=1.0, max_features=None, min_df=1,\n",
       "        ngram_range=(1, 1), preprocessor=None, stop_words='english',\n",
       "        ...timators=10, n_jobs=1,\n",
       "           oob_score=False, random_state=None, verbose=0, warm_start=False))])"
      ]
     },
     "execution_count": 16,
     "metadata": {},
     "output_type": "execute_result"
    }
   ],
   "source": [
    "pipeline = Pipeline([\n",
    "    ('vect', CountVectorizer(stop_words='english', strip_accents='ascii')), # lowercase=True by default\n",
    "    ('tfidf', TfidfTransformer()),\n",
    "    ('rfr', RandomForestRegressor())\n",
    "]) \n",
    "pipeline.fit(X_train, y_train)\n"
   ]
  },
  {
   "cell_type": "code",
   "execution_count": 18,
   "metadata": {},
   "outputs": [
    {
     "data": {
      "text/plain": [
       "-0.09365265111963894"
      ]
     },
     "execution_count": 18,
     "metadata": {},
     "output_type": "execute_result"
    }
   ],
   "source": [
    "pipeline.score(X_test, y_test)"
   ]
  },
  {
   "cell_type": "code",
   "execution_count": 20,
   "metadata": {},
   "outputs": [
    {
     "data": {
      "text/plain": [
       "0.8391233212269594"
      ]
     },
     "execution_count": 20,
     "metadata": {},
     "output_type": "execute_result"
    }
   ],
   "source": [
    "pipeline.score(X_train, y_train)"
   ]
  },
  {
   "cell_type": "code",
   "execution_count": 17,
   "metadata": {},
   "outputs": [],
   "source": [
    "y_preds = pipeline.predict(X_test)"
   ]
  },
  {
   "cell_type": "code",
   "execution_count": 19,
   "metadata": {},
   "outputs": [
    {
     "data": {
      "text/plain": [
       "<matplotlib.collections.PathCollection at 0x1c2092b160>"
      ]
     },
     "execution_count": 19,
     "metadata": {},
     "output_type": "execute_result"
    },
    {
     "data": {
      "image/png": "[encoded data removed]",
      "text/plain": [
       "<matplotlib.figure.Figure at 0x1c26ffa780>"
      ]
     },
     "metadata": {},
     "output_type": "display_data"
    }
   ],
   "source": [
    "plt.scatter(y_preds, y_test)"
   ]
  },
  {
   "cell_type": "code",
   "execution_count": null,
   "metadata": {},
   "outputs": [],
   "source": []
  },
  {
   "cell_type": "code",
   "execution_count": null,
   "metadata": {},
   "outputs": [],
   "source": []
  },
  {
   "cell_type": "code",
   "execution_count": null,
   "metadata": {},
   "outputs": [],
   "source": []
  },
  {
   "cell_type": "markdown",
   "metadata": {},
   "source": [
    "### Predicting partisanship"
   ]
  },
  {
   "cell_type": "code",
   "execution_count": 42,
   "metadata": {},
   "outputs": [
    {
     "data": {
      "text/plain": [
       "Republican    115566\n",
       "Democratic     98558\n",
       "Name: party, dtype: int64"
      ]
     },
     "execution_count": 42,
     "metadata": {},
     "output_type": "execute_result"
    }
   ],
   "source": [
    "bipartisan['party'].value_counts()"
   ]
  },
  {
   "cell_type": "code",
   "execution_count": 43,
   "metadata": {},
   "outputs": [
    {
     "data": {
      "text/plain": [
       "0.5397153051502868"
      ]
     },
     "execution_count": 43,
     "metadata": {},
     "output_type": "execute_result"
    }
   ],
   "source": [
    "baseline_accuracy = bipartisan['party'].value_counts()[0]/len(bipartisan['party'])\n",
    "baseline_accuracy"
   ]
  },
  {
   "cell_type": "code",
   "execution_count": null,
   "metadata": {},
   "outputs": [],
   "source": []
  },
  {
   "cell_type": "code",
   "execution_count": 44,
   "metadata": {},
   "outputs": [
    {
     "name": "stdout",
     "output_type": "stream",
     "text": [
      "0.9916803437278998\n",
      "0.7665556212833525\n",
      "CPU times: user 4min 15s, sys: 1.32 s, total: 4min 16s\n",
      "Wall time: 4min 17s\n"
     ]
    }
   ],
   "source": [
    "%%time\n",
    "\n",
    "#with count vectorizer\n",
    "y = bipartisan['party']\n",
    "X = bipartisan['text']\n",
    "\n",
    "X_train, X_test, y_train, y_test = train_test_split(X,y, test_size= 0.3, random_state=42)\n",
    "\n",
    "le = LabelEncoder()\n",
    "le.fit(y)\n",
    "\n",
    "y_train = le.transform(y_train)\n",
    "y_test = le.transform(y_test)\n",
    "\n",
    "pipeline = Pipeline([\n",
    "    ('vect', CountVectorizer(stop_words='english', strip_accents='ascii')), # lowercase=True by default\n",
    "    ('rfc', RandomForestClassifier())\n",
    "]) \n",
    "pipeline.fit(X_train, y_train)\n",
    "print(pipeline.score(X_train, y_train))\n",
    "print(pipeline.score(X_test, y_test))"
   ]
  },
  {
   "cell_type": "code",
   "execution_count": 45,
   "metadata": {},
   "outputs": [
    {
     "name": "stdout",
     "output_type": "stream",
     "text": [
      "0.9916803437278998\n",
      "0.7665556212833525\n"
     ]
    }
   ],
   "source": [
    "print(pipeline.score(X_train, y_train))\n",
    "print(pipeline.score(X_test, y_test))"
   ]
  },
  {
   "cell_type": "code",
   "execution_count": 18,
   "metadata": {},
   "outputs": [
    {
     "data": {
      "text/html": [
       "<div>\n",
       "<style>\n",
       "    .dataframe thead tr:only-child th {\n",
       "        text-align: right;\n",
       "    }\n",
       "\n",
       "    .dataframe thead th {\n",
       "        text-align: left;\n",
       "    }\n",
       "\n",
       "    .dataframe tbody tr th {\n",
       "        vertical-align: top;\n",
       "    }\n",
       "</style>\n",
       "<table border=\"1\" class=\"dataframe\">\n",
       "  <thead>\n",
       "    <tr style=\"text-align: right;\">\n",
       "      <th>col_0</th>\n",
       "      <th>0</th>\n",
       "      <th>1</th>\n",
       "    </tr>\n",
       "    <tr>\n",
       "      <th>row_0</th>\n",
       "      <th></th>\n",
       "      <th></th>\n",
       "    </tr>\n",
       "  </thead>\n",
       "  <tbody>\n",
       "    <tr>\n",
       "      <th>0</th>\n",
       "      <td>22625</td>\n",
       "      <td>6755</td>\n",
       "    </tr>\n",
       "    <tr>\n",
       "      <th>1</th>\n",
       "      <td>7982</td>\n",
       "      <td>26876</td>\n",
       "    </tr>\n",
       "  </tbody>\n",
       "</table>\n",
       "</div>"
      ],
      "text/plain": [
       "col_0      0      1\n",
       "row_0              \n",
       "0      22625   6755\n",
       "1       7982  26876"
      ]
     },
     "execution_count": 18,
     "metadata": {},
     "output_type": "execute_result"
    }
   ],
   "source": [
    "y_preds = pipeline.predict(X_test)\n",
    "\n",
    "df_confusion = pd.crosstab(y_test, y_preds)\n",
    "df_confusion"
   ]
  },
  {
   "cell_type": "code",
   "execution_count": null,
   "metadata": {},
   "outputs": [],
   "source": []
  },
  {
   "cell_type": "code",
   "execution_count": null,
   "metadata": {},
   "outputs": [],
   "source": []
  },
  {
   "cell_type": "code",
   "execution_count": null,
   "metadata": {},
   "outputs": [],
   "source": []
  },
  {
   "cell_type": "code",
   "execution_count": null,
   "metadata": {},
   "outputs": [],
   "source": []
  },
  {
   "cell_type": "code",
   "execution_count": null,
   "metadata": {},
   "outputs": [],
   "source": []
  },
  {
   "cell_type": "markdown",
   "metadata": {},
   "source": [
    "#### Gridsearching pipeline"
   ]
  },
  {
   "cell_type": "code",
   "execution_count": 73,
   "metadata": {},
   "outputs": [],
   "source": [
    "params_grid = {\n",
    "    'vect__stop_words': [None, 'english'],\n",
    "    'vect__strip_accents': ['ascii', 'unicode'],\n",
    "    'vect__min_df': [1,5,10,20],\n",
    "    'rfc__n_estimators': [5,10,15,20],\n",
    "    'rfc__max_depth': [5,10,15,20,None],\n",
    "    'rfc__criterion': ['gini', 'entropy']\n",
    "}"
   ]
  },
  {
   "cell_type": "code",
   "execution_count": null,
   "metadata": {},
   "outputs": [],
   "source": [
    "%%time\n",
    "gs = GridSearchCV(pipeline, params_grid, n_jobs = 1)\n",
    "\n",
    "gs.fit(X_train, y_train)\n",
    "\n",
    "print(gs.score(X_train, y_train))\n",
    "print(gs.score(X_test, y_test))\n",
    "print(gs.best_params_)"
   ]
  },
  {
   "cell_type": "code",
   "execution_count": null,
   "metadata": {},
   "outputs": [],
   "source": []
  },
  {
   "cell_type": "code",
   "execution_count": null,
   "metadata": {},
   "outputs": [],
   "source": []
  },
  {
   "cell_type": "code",
   "execution_count": null,
   "metadata": {},
   "outputs": [],
   "source": []
  },
  {
   "cell_type": "code",
   "execution_count": null,
   "metadata": {},
   "outputs": [],
   "source": []
  },
  {
   "cell_type": "code",
   "execution_count": null,
   "metadata": {},
   "outputs": [],
   "source": []
  },
  {
   "cell_type": "code",
   "execution_count": 23,
   "metadata": {},
   "outputs": [
    {
     "name": "stdout",
     "output_type": "stream",
     "text": [
      "0.991293382971058\n",
      "0.7145459074068309\n",
      "CPU times: user 3min 32s, sys: 1.44 s, total: 3min 34s\n",
      "Wall time: 3min 34s\n"
     ]
    }
   ],
   "source": [
    "%%time\n",
    "\n",
    "#with tfidf\n",
    "pipeline = Pipeline([\n",
    "    ('tfidf', TfidfVectorizer()), # lowercase=True by default\n",
    "    ('rfc', RandomForestClassifier())\n",
    "     ])\n",
    "pipeline.fit(X_train, y_train)\n",
    "\n",
    "print(pipeline.score(X_train, y_train))\n",
    "print(pipeline.score(X_test, y_test))"
   ]
  },
  {
   "cell_type": "code",
   "execution_count": 24,
   "metadata": {},
   "outputs": [
    {
     "data": {
      "text/html": [
       "<div>\n",
       "<style>\n",
       "    .dataframe thead tr:only-child th {\n",
       "        text-align: right;\n",
       "    }\n",
       "\n",
       "    .dataframe thead th {\n",
       "        text-align: left;\n",
       "    }\n",
       "\n",
       "    .dataframe tbody tr th {\n",
       "        vertical-align: top;\n",
       "    }\n",
       "</style>\n",
       "<table border=\"1\" class=\"dataframe\">\n",
       "  <thead>\n",
       "    <tr style=\"text-align: right;\">\n",
       "      <th>col_0</th>\n",
       "      <th>0</th>\n",
       "      <th>1</th>\n",
       "    </tr>\n",
       "    <tr>\n",
       "      <th>row_0</th>\n",
       "      <th></th>\n",
       "      <th></th>\n",
       "    </tr>\n",
       "  </thead>\n",
       "  <tbody>\n",
       "    <tr>\n",
       "      <th>0</th>\n",
       "      <td>20601</td>\n",
       "      <td>8779</td>\n",
       "    </tr>\n",
       "    <tr>\n",
       "      <th>1</th>\n",
       "      <td>9558</td>\n",
       "      <td>25300</td>\n",
       "    </tr>\n",
       "  </tbody>\n",
       "</table>\n",
       "</div>"
      ],
      "text/plain": [
       "col_0      0      1\n",
       "row_0              \n",
       "0      20601   8779\n",
       "1       9558  25300"
      ]
     },
     "execution_count": 24,
     "metadata": {},
     "output_type": "execute_result"
    }
   ],
   "source": [
    "y_preds = pipeline.predict(X_test)\n",
    "\n",
    "df_confusion = pd.crosstab(y_test, y_preds)\n",
    "df_confusion"
   ]
  },
  {
   "cell_type": "markdown",
   "metadata": {},
   "source": [
    "#### Below is the effect of using our text_process function"
   ]
  },
  {
   "cell_type": "code",
   "execution_count": 27,
   "metadata": {},
   "outputs": [],
   "source": [
    "X = bipartisan['text'].apply(text_process)"
   ]
  },
  {
   "cell_type": "code",
   "execution_count": 28,
   "metadata": {
    "scrolled": true
   },
   "outputs": [
    {
     "data": {
      "text/plain": [
       "0         [franni, sinc, al, birthday, sinc, work, hard,...\n",
       "1         [profoundli, troubl, would, presid, trump, giv...\n",
       "2         [clearer, need, independ, investig, presid, tr...\n",
       "3         [troubl, news, ag, session, involv, fire, jeff...\n",
       "4         [troubl, news, probabl, know, presid, trump, f...\n",
       "5         [still, word, describ, sad, know, lui, gone, p...\n",
       "6         [tuesdayspromis, remark, move, amp, time, book...\n",
       "7         [congrat, namiminnesota, 40, year, incred, wor...\n",
       "8         [kick, saturday, meet, minnesotan, age, st, pa...\n",
       "9         [great, catch, melissahortman, minnesota, hous...\n",
       "10        [share, stori, amp, make, voic, heard, hold, g...\n",
       "11        [need, fight, back, million, disabl, elderli, ...\n",
       "12        [need, fight, back, older, american, could, ch...\n",
       "13        [need, fight, back, work, famili, would, face,...\n",
       "14        [need, fight, back, million, peopl, minnesota,...\n",
       "15        [bill, pass, hous, yesterday, time, major, us,...\n",
       "16        [gop, took, health, bill, approv, 17, percent,...\n",
       "17                              [tbt, http, co, 24oayebh59]\n",
       "18        [help, defeat, trumpcar, stand, million, ameri...\n",
       "19        [empow, women, mn, across, nation, take, step,...\n",
       "20        [finish, sheldon, book, captur, detail, look, ...\n",
       "21        [firmli, believ, part, job, also, respons, adu...\n",
       "22        [berniesand, sherrodbrown, know, big, pharma, ...\n",
       "23        [berniesand, sherrodbrown, partisan, effort, b...\n",
       "24        [work, w, berniesand, amp, sherrodbrown, amp, ...\n",
       "25        [wrong, forc, sick, peopl, choos, medicin, mor...\n",
       "26        [know, bloomington, finalist, nation, contest,...\n",
       "27        [thank, american, make, voic, heard, minnesota...\n",
       "28        [stood, ppmn, last, night, istandwithpp, everi...\n",
       "29        [said, bear, repeat, women, deserv, abl, make,...\n",
       "                                ...                        \n",
       "219509    [bataan, vet, deserv, gold, medal, recognit, t...\n",
       "219510    [raypaulick, state, reg, failur, show, need, u...\n",
       "219511    [enjoy, speak, wnmu, professor, teacher, great...\n",
       "219512    [discuss, energi, sw, nm, green, chamber, lunc...\n",
       "219513    [tonight, 7, 00, mt, watch, newmexicopb, tribu...\n",
       "219514    [great, roundtabl, lordsburg, valuabl, opinion...\n",
       "219515    [today, visit, deme, luna, co, econ, dev, boar...\n",
       "219516    [great, epw, hear, lascruc, must, work, togeth...\n",
       "219517    [head, vote, end, subsidi, bigoil, made, 137b,...\n",
       "219518    [rule, committe, hear, disclos, act, 10am, et,...\n",
       "219519    [wildfir, start, earli, year, follow, smokeybe...\n",
       "219520    [nytim, report, horserac, paint, disturb, pict...\n",
       "219521    [2, yr, ago, affordablecareact, becam, law, wa...\n",
       "219522    [know, pay, 40, elect, ad, http, co, gmphxan1,...\n",
       "219523    [look, guest, honor, white, hous, dinner, last...\n",
       "219524    [hi, andreaellenp, hear, w, neiltyson, excel, ...\n",
       "219525    [georg, clooney, amp, sudansentinel, use, sate...\n",
       "219526    [visit, fidel, mesa, del, sol, chat, w, biz, l...\n",
       "219527    [nat, l, agday, keep, nm, ag, issu, follow, gr...\n",
       "219528    [int, l, womensday, strong, smart, women, grea...\n",
       "219529    [last, spring, post, video, call, expedit, tra...\n",
       "219530    [jeff, 2, 24, senat, call, troop, come, home, ...\n",
       "219531    [great, superpactuesday, video, pulitz, prize,...\n",
       "219532    [unm, top, 10, school, video, game, design, ht...\n",
       "219533    [unm, nmsu, look, talent, student, intern, off...\n",
       "219534    [great, read, senatorsnow, sad, state, affair,...\n",
       "219535    [appli, internship, dc, abq, lascruc, santaf, ...\n",
       "219536    [jeff, bingaman, cesbil, job, pollut, w, right...\n",
       "219537    [congress, need, honor, bataan, survivor, w, g...\n",
       "219538    [salazar, 4th, grade, class, santaf, wrote, li...\n",
       "Name: text, Length: 214124, dtype: object"
      ]
     },
     "execution_count": 28,
     "metadata": {},
     "output_type": "execute_result"
    }
   ],
   "source": [
    "X"
   ]
  },
  {
   "cell_type": "code",
   "execution_count": 35,
   "metadata": {},
   "outputs": [
    {
     "name": "stdout",
     "output_type": "stream",
     "text": [
      "['franni', 'sinc', 'al', 'birthday', 'sinc', 'work', 'hard', 'want', 'us', 'someth', 'special', 'http', 'co', 'glglcprbj8']\n"
     ]
    }
   ],
   "source": [
    "print(str(X[0]))"
   ]
  },
  {
   "cell_type": "code",
   "execution_count": 36,
   "metadata": {},
   "outputs": [
    {
     "ename": "ValueError",
     "evalue": "Found input variables with inconsistent numbers of samples: [3701, 214124]",
     "output_type": "error",
     "traceback": [
      "\u001b[0;31m---------------------------------------------------------------------------\u001b[0m",
      "\u001b[0;31mValueError\u001b[0m                                Traceback (most recent call last)",
      "\u001b[0;32m<timed exec>\u001b[0m in \u001b[0;36m<module>\u001b[0;34m()\u001b[0m\n",
      "\u001b[0;32m~/anaconda3/lib/python3.6/site-packages/sklearn/model_selection/_split.py\u001b[0m in \u001b[0;36mtrain_test_split\u001b[0;34m(*arrays, **options)\u001b[0m\n\u001b[1;32m   2029\u001b[0m         \u001b[0mtest_size\u001b[0m \u001b[0;34m=\u001b[0m \u001b[0;36m0.25\u001b[0m\u001b[0;34m\u001b[0m\u001b[0m\n\u001b[1;32m   2030\u001b[0m \u001b[0;34m\u001b[0m\u001b[0m\n\u001b[0;32m-> 2031\u001b[0;31m     \u001b[0marrays\u001b[0m \u001b[0;34m=\u001b[0m \u001b[0mindexable\u001b[0m\u001b[0;34m(\u001b[0m\u001b[0;34m*\u001b[0m\u001b[0marrays\u001b[0m\u001b[0;34m)\u001b[0m\u001b[0;34m\u001b[0m\u001b[0m\n\u001b[0m\u001b[1;32m   2032\u001b[0m \u001b[0;34m\u001b[0m\u001b[0m\n\u001b[1;32m   2033\u001b[0m     \u001b[0;32mif\u001b[0m \u001b[0mshuffle\u001b[0m \u001b[0;32mis\u001b[0m \u001b[0;32mFalse\u001b[0m\u001b[0;34m:\u001b[0m\u001b[0;34m\u001b[0m\u001b[0m\n",
      "\u001b[0;32m~/anaconda3/lib/python3.6/site-packages/sklearn/utils/validation.py\u001b[0m in \u001b[0;36mindexable\u001b[0;34m(*iterables)\u001b[0m\n\u001b[1;32m    227\u001b[0m         \u001b[0;32melse\u001b[0m\u001b[0;34m:\u001b[0m\u001b[0;34m\u001b[0m\u001b[0m\n\u001b[1;32m    228\u001b[0m             \u001b[0mresult\u001b[0m\u001b[0;34m.\u001b[0m\u001b[0mappend\u001b[0m\u001b[0;34m(\u001b[0m\u001b[0mnp\u001b[0m\u001b[0;34m.\u001b[0m\u001b[0marray\u001b[0m\u001b[0;34m(\u001b[0m\u001b[0mX\u001b[0m\u001b[0;34m)\u001b[0m\u001b[0;34m)\u001b[0m\u001b[0;34m\u001b[0m\u001b[0m\n\u001b[0;32m--> 229\u001b[0;31m     \u001b[0mcheck_consistent_length\u001b[0m\u001b[0;34m(\u001b[0m\u001b[0;34m*\u001b[0m\u001b[0mresult\u001b[0m\u001b[0;34m)\u001b[0m\u001b[0;34m\u001b[0m\u001b[0m\n\u001b[0m\u001b[1;32m    230\u001b[0m     \u001b[0;32mreturn\u001b[0m \u001b[0mresult\u001b[0m\u001b[0;34m\u001b[0m\u001b[0m\n\u001b[1;32m    231\u001b[0m \u001b[0;34m\u001b[0m\u001b[0m\n",
      "\u001b[0;32m~/anaconda3/lib/python3.6/site-packages/sklearn/utils/validation.py\u001b[0m in \u001b[0;36mcheck_consistent_length\u001b[0;34m(*arrays)\u001b[0m\n\u001b[1;32m    202\u001b[0m     \u001b[0;32mif\u001b[0m \u001b[0mlen\u001b[0m\u001b[0;34m(\u001b[0m\u001b[0muniques\u001b[0m\u001b[0;34m)\u001b[0m \u001b[0;34m>\u001b[0m \u001b[0;36m1\u001b[0m\u001b[0;34m:\u001b[0m\u001b[0;34m\u001b[0m\u001b[0m\n\u001b[1;32m    203\u001b[0m         raise ValueError(\"Found input variables with inconsistent numbers of\"\n\u001b[0;32m--> 204\u001b[0;31m                          \" samples: %r\" % [int(l) for l in lengths])\n\u001b[0m\u001b[1;32m    205\u001b[0m \u001b[0;34m\u001b[0m\u001b[0m\n\u001b[1;32m    206\u001b[0m \u001b[0;34m\u001b[0m\u001b[0m\n",
      "\u001b[0;31mValueError\u001b[0m: Found input variables with inconsistent numbers of samples: [3701, 214124]"
     ]
    }
   ],
   "source": [
    "%%time \n",
    "y = bipartisan['party']\n",
    "X = str(X)\n",
    "\n",
    "X_train, X_test, y_train, y_test = train_test_split(X,y, test_size= 0.3, random_state=42)\n",
    "\n",
    "le = LabelEncoder()\n",
    "le.fit(y)\n",
    "\n",
    "y_train = le.transform(y_train)\n",
    "y_test = le.transform(y_test)\n",
    "\n",
    "pipeline = Pipeline([\n",
    "    ('vect', CountVectorizer(stop_words='english', strip_accents='ascii')), # lowercase=True by default\n",
    "    ('rfc', RandomForestClassifier())\n",
    "]) \n",
    "pipeline.fit(X_train, y_train)\n",
    "print(pipeline.score(X_train, y_train))\n",
    "print(pipeline.score(X_test, y_test))"
   ]
  },
  {
   "cell_type": "code",
   "execution_count": null,
   "metadata": {},
   "outputs": [],
   "source": [
    "y_preds = pipeline.predict(X_test)\n",
    "\n",
    "df_confusion = pd.crosstab(y_test, y_preds)\n",
    "df_confusion"
   ]
  },
  {
   "cell_type": "code",
   "execution_count": null,
   "metadata": {},
   "outputs": [],
   "source": [
    "#with tfidf\n",
    "pipeline = Pipeline([\n",
    "    ('tfidf', TfidfVectorizer()), # lowercase=True by default\n",
    "    ('rfc', RandomForestClassifier())\n",
    "     ])\n",
    "pipeline.fit(X_train, y_train)\n",
    "\n",
    "print(pipeline.score(X_train, y_train))\n",
    "print(pipeline.score(X_test, y_test))"
   ]
  },
  {
   "cell_type": "code",
   "execution_count": null,
   "metadata": {},
   "outputs": [],
   "source": [
    "y_preds = pipeline.predict(X_test)\n",
    "\n",
    "df_confusion = pd.crosstab(y_test, y_preds)\n",
    "df_confusion"
   ]
  },
  {
   "cell_type": "markdown",
   "metadata": {},
   "source": [
    "#### Let the gridsearch begin!"
   ]
  },
  {
   "cell_type": "code",
   "execution_count": null,
   "metadata": {},
   "outputs": [],
   "source": []
  }
 ],
 "metadata": {
  "kernelspec": {
   "display_name": "Python [default]",
   "language": "python",
   "name": "python3"
  },
  "language_info": {
   "codemirror_mode": {
    "name": "ipython",
    "version": 3
   },
   "file_extension": ".py",
   "mimetype": "text/x-python",
   "name": "python",
   "nbconvert_exporter": "python",
   "pygments_lexer": "ipython3",
   "version": "3.6.3"
  }
 },
 "nbformat": 4,
 "nbformat_minor": 2
}
