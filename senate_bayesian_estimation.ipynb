{
 "cells": [
  {
   "cell_type": "code",
   "execution_count": 48,
   "metadata": {},
   "outputs": [],
   "source": [
    "import pandas as pd\n",
    "import numpy as np\n",
    "import seaborn as sns\n",
    "import matplotlib.pyplot as plt\n",
    "import os\n",
    "from nltk.tokenize import RegexpTokenizer\n",
    "from nltk.stem import PorterStemmer\n",
    "from nltk.corpus import stopwords\n",
    "import re\n",
    "from sklearn.feature_extraction.text import CountVectorizer\n",
    "from sklearn.preprocessing import LabelEncoder\n",
    "import scipy.stats as stats\n",
    "import pymc3 as pm\n",
    "\n",
    "%matplotlib inline"
   ]
  },
  {
   "cell_type": "code",
   "execution_count": 49,
   "metadata": {
    "scrolled": true
   },
   "outputs": [],
   "source": [
    "senate = pd.read_csv('./data/senate.csv')"
   ]
  },
  {
   "cell_type": "code",
   "execution_count": 50,
   "metadata": {
    "scrolled": true
   },
   "outputs": [
    {
     "data": {
      "text/html": [
       "<div>\n",
       "<style>\n",
       "    .dataframe thead tr:only-child th {\n",
       "        text-align: right;\n",
       "    }\n",
       "\n",
       "    .dataframe thead th {\n",
       "        text-align: left;\n",
       "    }\n",
       "\n",
       "    .dataframe tbody tr th {\n",
       "        vertical-align: top;\n",
       "    }\n",
       "</style>\n",
       "<table border=\"1\" class=\"dataframe\">\n",
       "  <thead>\n",
       "    <tr style=\"text-align: right;\">\n",
       "      <th></th>\n",
       "      <th>created_at</th>\n",
       "      <th>id_str</th>\n",
       "      <th>reply_count</th>\n",
       "      <th>retweet_count</th>\n",
       "      <th>text</th>\n",
       "      <th>user</th>\n",
       "      <th>name</th>\n",
       "      <th>state</th>\n",
       "      <th>party</th>\n",
       "      <th>the_ratio</th>\n",
       "    </tr>\n",
       "  </thead>\n",
       "  <tbody>\n",
       "    <tr>\n",
       "      <th>0</th>\n",
       "      <td>Sun May 21 19:26:26 +0000 2017</td>\n",
       "      <td>8.660000e+17</td>\n",
       "      <td>116.0</td>\n",
       "      <td>174.0</td>\n",
       "      <td>Franni here. Since it's Al's birthday, and sin...</td>\n",
       "      <td>alfranken</td>\n",
       "      <td>Al Franken</td>\n",
       "      <td>New York</td>\n",
       "      <td>Democratic</td>\n",
       "      <td>0.666667</td>\n",
       "    </tr>\n",
       "    <tr>\n",
       "      <th>1</th>\n",
       "      <td>Tue May 16 01:44:44 +0000 2017</td>\n",
       "      <td>8.640000e+17</td>\n",
       "      <td>718.0</td>\n",
       "      <td>1248.0</td>\n",
       "      <td>This is profoundly troubling. Why would Presid...</td>\n",
       "      <td>alfranken</td>\n",
       "      <td>Al Franken</td>\n",
       "      <td>New York</td>\n",
       "      <td>Democratic</td>\n",
       "      <td>0.575321</td>\n",
       "    </tr>\n",
       "    <tr>\n",
       "      <th>2</th>\n",
       "      <td>Wed May 10 19:55:37 +0000 2017</td>\n",
       "      <td>8.620000e+17</td>\n",
       "      <td>218.0</td>\n",
       "      <td>1334.0</td>\n",
       "      <td>It couldn't be clearer: we need an independent...</td>\n",
       "      <td>alfranken</td>\n",
       "      <td>Al Franken</td>\n",
       "      <td>New York</td>\n",
       "      <td>Democratic</td>\n",
       "      <td>0.163418</td>\n",
       "    </tr>\n",
       "    <tr>\n",
       "      <th>3</th>\n",
       "      <td>Wed May 10 19:54:55 +0000 2017</td>\n",
       "      <td>8.620000e+17</td>\n",
       "      <td>134.0</td>\n",
       "      <td>794.0</td>\n",
       "      <td>More troubling news: AG Sessions was involved ...</td>\n",
       "      <td>alfranken</td>\n",
       "      <td>Al Franken</td>\n",
       "      <td>New York</td>\n",
       "      <td>Democratic</td>\n",
       "      <td>0.168766</td>\n",
       "    </tr>\n",
       "    <tr>\n",
       "      <th>4</th>\n",
       "      <td>Wed May 10 19:54:20 +0000 2017</td>\n",
       "      <td>8.620000e+17</td>\n",
       "      <td>131.0</td>\n",
       "      <td>556.0</td>\n",
       "      <td>Troubling news that you probably know by now: ...</td>\n",
       "      <td>alfranken</td>\n",
       "      <td>Al Franken</td>\n",
       "      <td>New York</td>\n",
       "      <td>Democratic</td>\n",
       "      <td>0.235612</td>\n",
       "    </tr>\n",
       "  </tbody>\n",
       "</table>\n",
       "</div>"
      ],
      "text/plain": [
       "                       created_at        id_str  reply_count  retweet_count  \\\n",
       "0  Sun May 21 19:26:26 +0000 2017  8.660000e+17        116.0          174.0   \n",
       "1  Tue May 16 01:44:44 +0000 2017  8.640000e+17        718.0         1248.0   \n",
       "2  Wed May 10 19:55:37 +0000 2017  8.620000e+17        218.0         1334.0   \n",
       "3  Wed May 10 19:54:55 +0000 2017  8.620000e+17        134.0          794.0   \n",
       "4  Wed May 10 19:54:20 +0000 2017  8.620000e+17        131.0          556.0   \n",
       "\n",
       "                                                text       user        name  \\\n",
       "0  Franni here. Since it's Al's birthday, and sin...  alfranken  Al Franken   \n",
       "1  This is profoundly troubling. Why would Presid...  alfranken  Al Franken   \n",
       "2  It couldn't be clearer: we need an independent...  alfranken  Al Franken   \n",
       "3  More troubling news: AG Sessions was involved ...  alfranken  Al Franken   \n",
       "4  Troubling news that you probably know by now: ...  alfranken  Al Franken   \n",
       "\n",
       "      state       party  the_ratio  \n",
       "0  New York  Democratic   0.666667  \n",
       "1  New York  Democratic   0.575321  \n",
       "2  New York  Democratic   0.163418  \n",
       "3  New York  Democratic   0.168766  \n",
       "4  New York  Democratic   0.235612  "
      ]
     },
     "execution_count": 50,
     "metadata": {},
     "output_type": "execute_result"
    }
   ],
   "source": [
    "senate.head()"
   ]
  },
  {
   "cell_type": "code",
   "execution_count": 51,
   "metadata": {},
   "outputs": [
    {
     "data": {
      "text/plain": [
       "<matplotlib.axes._subplots.AxesSubplot at 0x1c35ee56a0>"
      ]
     },
     "execution_count": 51,
     "metadata": {},
     "output_type": "execute_result"
    },
    {
     "data": {
      "image/png": "[encoded data removed]",
      "text/plain": [
       "<matplotlib.figure.Figure at 0x1c33c50898>"
      ]
     },
     "metadata": {},
     "output_type": "display_data"
    }
   ],
   "source": [
    "senate[senate['retweet_count'] > 1000].retweet_count.hist(bins=100)"
   ]
  },
  {
   "cell_type": "code",
   "execution_count": 91,
   "metadata": {},
   "outputs": [
    {
     "data": {
      "text/plain": [
       "<matplotlib.axes._subplots.AxesSubplot at 0x1c5bfda240>"
      ]
     },
     "execution_count": 91,
     "metadata": {},
     "output_type": "execute_result"
    },
    {
     "data": {
      "image/png": "[encoded data removed]",
      "text/plain": [
       "<matplotlib.figure.Figure at 0x1c5bfcfba8>"
      ]
     },
     "metadata": {},
     "output_type": "display_data"
    }
   ],
   "source": [
    "senate[(senate['the_ratio'] > 0) &(senate.the_ratio < 4)].the_ratio.hist(bins=100)"
   ]
  },
  {
   "cell_type": "code",
   "execution_count": 53,
   "metadata": {},
   "outputs": [],
   "source": [
    "senate['z'] = np.log1p(senate.the_ratio)"
   ]
  },
  {
   "cell_type": "code",
   "execution_count": 54,
   "metadata": {},
   "outputs": [
    {
     "data": {
      "text/html": [
       "<div>\n",
       "<style>\n",
       "    .dataframe thead tr:only-child th {\n",
       "        text-align: right;\n",
       "    }\n",
       "\n",
       "    .dataframe thead th {\n",
       "        text-align: left;\n",
       "    }\n",
       "\n",
       "    .dataframe tbody tr th {\n",
       "        vertical-align: top;\n",
       "    }\n",
       "</style>\n",
       "<table border=\"1\" class=\"dataframe\">\n",
       "  <thead>\n",
       "    <tr style=\"text-align: right;\">\n",
       "      <th></th>\n",
       "      <th>created_at</th>\n",
       "      <th>id_str</th>\n",
       "      <th>reply_count</th>\n",
       "      <th>retweet_count</th>\n",
       "      <th>text</th>\n",
       "      <th>user</th>\n",
       "      <th>name</th>\n",
       "      <th>state</th>\n",
       "      <th>party</th>\n",
       "      <th>the_ratio</th>\n",
       "      <th>z</th>\n",
       "    </tr>\n",
       "  </thead>\n",
       "  <tbody>\n",
       "    <tr>\n",
       "      <th>0</th>\n",
       "      <td>Sun May 21 19:26:26 +0000 2017</td>\n",
       "      <td>8.660000e+17</td>\n",
       "      <td>116.0</td>\n",
       "      <td>174.0</td>\n",
       "      <td>Franni here. Since it's Al's birthday, and sin...</td>\n",
       "      <td>alfranken</td>\n",
       "      <td>Al Franken</td>\n",
       "      <td>New York</td>\n",
       "      <td>Democratic</td>\n",
       "      <td>0.666667</td>\n",
       "      <td>0.510826</td>\n",
       "    </tr>\n",
       "    <tr>\n",
       "      <th>1</th>\n",
       "      <td>Tue May 16 01:44:44 +0000 2017</td>\n",
       "      <td>8.640000e+17</td>\n",
       "      <td>718.0</td>\n",
       "      <td>1248.0</td>\n",
       "      <td>This is profoundly troubling. Why would Presid...</td>\n",
       "      <td>alfranken</td>\n",
       "      <td>Al Franken</td>\n",
       "      <td>New York</td>\n",
       "      <td>Democratic</td>\n",
       "      <td>0.575321</td>\n",
       "      <td>0.454459</td>\n",
       "    </tr>\n",
       "    <tr>\n",
       "      <th>2</th>\n",
       "      <td>Wed May 10 19:55:37 +0000 2017</td>\n",
       "      <td>8.620000e+17</td>\n",
       "      <td>218.0</td>\n",
       "      <td>1334.0</td>\n",
       "      <td>It couldn't be clearer: we need an independent...</td>\n",
       "      <td>alfranken</td>\n",
       "      <td>Al Franken</td>\n",
       "      <td>New York</td>\n",
       "      <td>Democratic</td>\n",
       "      <td>0.163418</td>\n",
       "      <td>0.151362</td>\n",
       "    </tr>\n",
       "    <tr>\n",
       "      <th>3</th>\n",
       "      <td>Wed May 10 19:54:55 +0000 2017</td>\n",
       "      <td>8.620000e+17</td>\n",
       "      <td>134.0</td>\n",
       "      <td>794.0</td>\n",
       "      <td>More troubling news: AG Sessions was involved ...</td>\n",
       "      <td>alfranken</td>\n",
       "      <td>Al Franken</td>\n",
       "      <td>New York</td>\n",
       "      <td>Democratic</td>\n",
       "      <td>0.168766</td>\n",
       "      <td>0.155948</td>\n",
       "    </tr>\n",
       "    <tr>\n",
       "      <th>4</th>\n",
       "      <td>Wed May 10 19:54:20 +0000 2017</td>\n",
       "      <td>8.620000e+17</td>\n",
       "      <td>131.0</td>\n",
       "      <td>556.0</td>\n",
       "      <td>Troubling news that you probably know by now: ...</td>\n",
       "      <td>alfranken</td>\n",
       "      <td>Al Franken</td>\n",
       "      <td>New York</td>\n",
       "      <td>Democratic</td>\n",
       "      <td>0.235612</td>\n",
       "      <td>0.211566</td>\n",
       "    </tr>\n",
       "  </tbody>\n",
       "</table>\n",
       "</div>"
      ],
      "text/plain": [
       "                       created_at        id_str  reply_count  retweet_count  \\\n",
       "0  Sun May 21 19:26:26 +0000 2017  8.660000e+17        116.0          174.0   \n",
       "1  Tue May 16 01:44:44 +0000 2017  8.640000e+17        718.0         1248.0   \n",
       "2  Wed May 10 19:55:37 +0000 2017  8.620000e+17        218.0         1334.0   \n",
       "3  Wed May 10 19:54:55 +0000 2017  8.620000e+17        134.0          794.0   \n",
       "4  Wed May 10 19:54:20 +0000 2017  8.620000e+17        131.0          556.0   \n",
       "\n",
       "                                                text       user        name  \\\n",
       "0  Franni here. Since it's Al's birthday, and sin...  alfranken  Al Franken   \n",
       "1  This is profoundly troubling. Why would Presid...  alfranken  Al Franken   \n",
       "2  It couldn't be clearer: we need an independent...  alfranken  Al Franken   \n",
       "3  More troubling news: AG Sessions was involved ...  alfranken  Al Franken   \n",
       "4  Troubling news that you probably know by now: ...  alfranken  Al Franken   \n",
       "\n",
       "      state       party  the_ratio         z  \n",
       "0  New York  Democratic   0.666667  0.510826  \n",
       "1  New York  Democratic   0.575321  0.454459  \n",
       "2  New York  Democratic   0.163418  0.151362  \n",
       "3  New York  Democratic   0.168766  0.155948  \n",
       "4  New York  Democratic   0.235612  0.211566  "
      ]
     },
     "execution_count": 54,
     "metadata": {},
     "output_type": "execute_result"
    }
   ],
   "source": [
    "senate.head()"
   ]
  },
  {
   "cell_type": "code",
   "execution_count": 55,
   "metadata": {},
   "outputs": [
    {
     "data": {
      "text/html": [
       "<div>\n",
       "<style>\n",
       "    .dataframe thead tr:only-child th {\n",
       "        text-align: right;\n",
       "    }\n",
       "\n",
       "    .dataframe thead th {\n",
       "        text-align: left;\n",
       "    }\n",
       "\n",
       "    .dataframe tbody tr th {\n",
       "        vertical-align: top;\n",
       "    }\n",
       "</style>\n",
       "<table border=\"1\" class=\"dataframe\">\n",
       "  <thead>\n",
       "    <tr style=\"text-align: right;\">\n",
       "      <th></th>\n",
       "      <th>id_str</th>\n",
       "      <th>reply_count</th>\n",
       "      <th>retweet_count</th>\n",
       "      <th>the_ratio</th>\n",
       "      <th>z</th>\n",
       "    </tr>\n",
       "  </thead>\n",
       "  <tbody>\n",
       "    <tr>\n",
       "      <th>count</th>\n",
       "      <td>2.195390e+05</td>\n",
       "      <td>219539.000000</td>\n",
       "      <td>219539.000000</td>\n",
       "      <td>219539.000000</td>\n",
       "      <td>219539.000000</td>\n",
       "    </tr>\n",
       "    <tr>\n",
       "      <th>mean</th>\n",
       "      <td>6.517680e+17</td>\n",
       "      <td>24.766652</td>\n",
       "      <td>137.181412</td>\n",
       "      <td>0.677336</td>\n",
       "      <td>0.361199</td>\n",
       "    </tr>\n",
       "    <tr>\n",
       "      <th>std</th>\n",
       "      <td>1.866934e+17</td>\n",
       "      <td>149.311035</td>\n",
       "      <td>1608.016919</td>\n",
       "      <td>1.847231</td>\n",
       "      <td>0.449842</td>\n",
       "    </tr>\n",
       "    <tr>\n",
       "      <th>min</th>\n",
       "      <td>2.299999e+09</td>\n",
       "      <td>0.000000</td>\n",
       "      <td>1.000000</td>\n",
       "      <td>0.000000</td>\n",
       "      <td>0.000000</td>\n",
       "    </tr>\n",
       "    <tr>\n",
       "      <th>25%</th>\n",
       "      <td>5.637520e+17</td>\n",
       "      <td>1.000000</td>\n",
       "      <td>3.000000</td>\n",
       "      <td>0.046512</td>\n",
       "      <td>0.045462</td>\n",
       "    </tr>\n",
       "    <tr>\n",
       "      <th>50%</th>\n",
       "      <td>7.054430e+17</td>\n",
       "      <td>2.000000</td>\n",
       "      <td>7.000000</td>\n",
       "      <td>0.250000</td>\n",
       "      <td>0.223144</td>\n",
       "    </tr>\n",
       "    <tr>\n",
       "      <th>75%</th>\n",
       "      <td>7.940000e+17</td>\n",
       "      <td>9.000000</td>\n",
       "      <td>22.000000</td>\n",
       "      <td>0.636364</td>\n",
       "      <td>0.492476</td>\n",
       "    </tr>\n",
       "    <tr>\n",
       "      <th>max</th>\n",
       "      <td>8.666520e+17</td>\n",
       "      <td>14230.000000</td>\n",
       "      <td>462572.000000</td>\n",
       "      <td>138.000000</td>\n",
       "      <td>4.934474</td>\n",
       "    </tr>\n",
       "  </tbody>\n",
       "</table>\n",
       "</div>"
      ],
      "text/plain": [
       "             id_str    reply_count  retweet_count      the_ratio  \\\n",
       "count  2.195390e+05  219539.000000  219539.000000  219539.000000   \n",
       "mean   6.517680e+17      24.766652     137.181412       0.677336   \n",
       "std    1.866934e+17     149.311035    1608.016919       1.847231   \n",
       "min    2.299999e+09       0.000000       1.000000       0.000000   \n",
       "25%    5.637520e+17       1.000000       3.000000       0.046512   \n",
       "50%    7.054430e+17       2.000000       7.000000       0.250000   \n",
       "75%    7.940000e+17       9.000000      22.000000       0.636364   \n",
       "max    8.666520e+17   14230.000000  462572.000000     138.000000   \n",
       "\n",
       "                   z  \n",
       "count  219539.000000  \n",
       "mean        0.361199  \n",
       "std         0.449842  \n",
       "min         0.000000  \n",
       "25%         0.045462  \n",
       "50%         0.223144  \n",
       "75%         0.492476  \n",
       "max         4.934474  "
      ]
     },
     "execution_count": 55,
     "metadata": {},
     "output_type": "execute_result"
    }
   ],
   "source": [
    "senate.describe()"
   ]
  },
  {
   "cell_type": "code",
   "execution_count": 107,
   "metadata": {},
   "outputs": [
    {
     "data": {
      "text/plain": [
       "0.25"
      ]
     },
     "execution_count": 107,
     "metadata": {},
     "output_type": "execute_result"
    }
   ],
   "source": [
    "senate['the_ratio'].median()"
   ]
  },
  {
   "cell_type": "code",
   "execution_count": 109,
   "metadata": {},
   "outputs": [
    {
     "data": {
      "text/plain": [
       "0.19642857142857145"
      ]
     },
     "execution_count": 109,
     "metadata": {},
     "output_type": "execute_result"
    }
   ],
   "source": [
    "senate[senate['party'] == 'Democratic'].the_ratio.median()"
   ]
  },
  {
   "cell_type": "code",
   "execution_count": 110,
   "metadata": {},
   "outputs": [
    {
     "data": {
      "text/plain": [
       "0.3333333333333333"
      ]
     },
     "execution_count": 110,
     "metadata": {},
     "output_type": "execute_result"
    }
   ],
   "source": [
    "senate[senate['party'] == 'Republican'].the_ratio.median()"
   ]
  },
  {
   "cell_type": "code",
   "execution_count": 56,
   "metadata": {},
   "outputs": [
    {
     "data": {
      "text/plain": [
       "3.4122469061637255"
      ]
     },
     "execution_count": 56,
     "metadata": {},
     "output_type": "execute_result"
    }
   ],
   "source": [
    "np.var(senate['the_ratio'])"
   ]
  },
  {
   "cell_type": "code",
   "execution_count": 57,
   "metadata": {},
   "outputs": [
    {
     "data": {
      "text/plain": [
       "0.6773362343539384"
      ]
     },
     "execution_count": 57,
     "metadata": {},
     "output_type": "execute_result"
    }
   ],
   "source": [
    "senate.the_ratio.mean()"
   ]
  },
  {
   "cell_type": "markdown",
   "metadata": {},
   "source": [
    "Gamma dist:\n",
    "\n",
    "mean = alpha*Beta\n",
    "\n",
    "Variance = alpha*(Beta**2)"
   ]
  },
  {
   "cell_type": "markdown",
   "metadata": {},
   "source": [
    "### Getting the ratio for Democrats and Republicans"
   ]
  },
  {
   "cell_type": "code",
   "execution_count": 58,
   "metadata": {},
   "outputs": [],
   "source": [
    "the_ratio_dem = senate[senate['party'] =='Democratic'].the_ratio.values\n",
    "the_ratio_rep = senate[senate['party'] =='Republican'].the_ratio.values"
   ]
  },
  {
   "cell_type": "code",
   "execution_count": 71,
   "metadata": {},
   "outputs": [
    {
     "name": "stdout",
     "output_type": "stream",
     "text": [
      "0.37668160435989506 0.7342832379182765 0.8569032838764691\n",
      "0.9539370092177968 5.682548775324917 2.3838097187747427\n"
     ]
    }
   ],
   "source": [
    "print(the_ratio_dem.mean(), the_ratio_dem.var(), the_ratio_dem.std())\n",
    "print(the_ratio_rep.mean(), the_ratio_rep.var(), the_ratio_rep.std())"
   ]
  },
  {
   "cell_type": "code",
   "execution_count": 87,
   "metadata": {},
   "outputs": [
    {
     "data": {
      "text/plain": [
       "[<matplotlib.lines.Line2D at 0x1c3c4726d8>]"
      ]
     },
     "execution_count": 87,
     "metadata": {},
     "output_type": "execute_result"
    },
    {
     "data": {
      "image/png": "[encoded data removed]",
      "text/plain": [
       "<matplotlib.figure.Figure at 0x1c1acbe5f8>"
      ]
     },
     "metadata": {},
     "output_type": "display_data"
    }
   ],
   "source": [
    "plt.plot(the_ratio_dem)"
   ]
  },
  {
   "cell_type": "code",
   "execution_count": 88,
   "metadata": {},
   "outputs": [
    {
     "data": {
      "text/plain": [
       "[<matplotlib.lines.Line2D at 0x1c50a6ff28>]"
      ]
     },
     "execution_count": 88,
     "metadata": {},
     "output_type": "execute_result"
    },
    {
     "data": {
      "image/png": "[encoded data removed]",
      "text/plain": [
       "<matplotlib.figure.Figure at 0x1c4ce37860>"
      ]
     },
     "metadata": {},
     "output_type": "display_data"
    }
   ],
   "source": [
    "plt.plot(the_ratio_rep)"
   ]
  },
  {
   "cell_type": "markdown",
   "metadata": {},
   "source": [
    "<a id='freq-ttest'></a>\n",
    "### Perform a Frequentist t-test of the mean the_ratio difference between groups."
   ]
  },
  {
   "cell_type": "code",
   "execution_count": 60,
   "metadata": {},
   "outputs": [
    {
     "name": "stdout",
     "output_type": "stream",
     "text": [
      "72.1505574553688\n",
      "0.0\n"
     ]
    }
   ],
   "source": [
    "tt = stats.ttest_ind(the_ratio_rep, the_ratio_dem)\n",
    "print(tt.statistic)\n",
    "print(tt.pvalue)"
   ]
  },
  {
   "cell_type": "code",
   "execution_count": 61,
   "metadata": {
    "scrolled": true
   },
   "outputs": [
    {
     "data": {
      "image/png": "[encoded data removed]",
      "text/plain": [
       "<matplotlib.figure.Figure at 0x104f401d0>"
      ]
     },
     "metadata": {},
     "output_type": "display_data"
    }
   ],
   "source": [
    "# THIS MAY OR MAYNOT BE USEFUL\n",
    "zdist = stats.gamma(1,1)\n",
    "xvals = np.linspace(-4, 100, 104)\n",
    "\n",
    "fig, ax = plt.subplots(figsize=(7,5))\n",
    "ax.plot(xvals, zdist.pdf(xvals), lw=3)\n",
    "ax.axvline(tt.statistic, color='black', ls='dashed', lw=5)\n",
    "plt.show()"
   ]
  },
  {
   "cell_type": "code",
   "execution_count": null,
   "metadata": {},
   "outputs": [],
   "source": []
  },
  {
   "cell_type": "markdown",
   "metadata": {},
   "source": [
    "<a id='priors'></a>\n",
    "### Set up the bayesian model with priors on mean APMs\n",
    "\n",
    "Next we'll go through the steps of the Bayesian estimation of the difference between means using `pymc3`.\n",
    "\n",
    "First we find the mean and standard deviation of the_ratio regardless of partisanship. We can going to use these values to inform our prior belief about the_ratio."
   ]
  },
  {
   "cell_type": "code",
   "execution_count": 62,
   "metadata": {},
   "outputs": [
    {
     "name": "stdout",
     "output_type": "stream",
     "text": [
      "0.6773362343539384 1.847231022102251\n"
     ]
    }
   ],
   "source": [
    "prior_mean = senate.the_ratio.mean()\n",
    "prior_std = senate.the_ratio.std()\n",
    "\n",
    "print(prior_mean, prior_std)"
   ]
  },
  {
   "cell_type": "code",
   "execution_count": null,
   "metadata": {},
   "outputs": [],
   "source": []
  },
  {
   "cell_type": "code",
   "execution_count": 118,
   "metadata": {},
   "outputs": [],
   "source": [
    "with pm.Model() as model:\n",
    "    dem_mean = pm.Gamma('ratio_dem_mean', \n",
    "                         alpha = 0.134, \n",
    "                         beta = 5.039)\n",
    "    rep_mean = pm.Gamma('ratio_rep_mean', \n",
    "                         alpha = 0.134, \n",
    "                         beta = 5.039)"
   ]
  },
  {
   "cell_type": "code",
   "execution_count": 119,
   "metadata": {},
   "outputs": [],
   "source": [
    "# A: P(mu_apm, std_apm)\n",
    "prior_std_lower = 0.000001\n",
    "prior_std_upper = 100.0\n",
    "\n",
    "with model:\n",
    "    dem_std = pm.Uniform('ratio_dem_std',\n",
    "                          lower=prior_std_lower,\n",
    "                          upper=prior_std_upper)\n",
    "    rep_std = pm.Uniform('ratio_rep_std',\n",
    "                          lower=prior_std_lower,\n",
    "                          upper=prior_std_upper)"
   ]
  },
  {
   "cell_type": "code",
   "execution_count": 120,
   "metadata": {},
   "outputs": [
    {
     "name": "stderr",
     "output_type": "stream",
     "text": [
      "/Users/reef/anaconda3/lib/python3.6/site-packages/pymc3/distributions/continuous.py:67: UserWarning: The variable specified for alpha has negative support for Gamma, likely making it unsuitable for this parameter.\n",
      "  warnings.warn(msg)\n",
      "/Users/reef/anaconda3/lib/python3.6/site-packages/pymc3/distributions/continuous.py:67: UserWarning: The variable specified for beta has negative support for Gamma, likely making it unsuitable for this parameter.\n",
      "  warnings.warn(msg)\n"
     ]
    }
   ],
   "source": [
    "# A: P(data | mu, std)\n",
    "with model:\n",
    "    dem = pm.Gamma('ratio_dem_like',\n",
    "                    observed = the_ratio_dem,\n",
    "                    alpha = pm.Normal('a_d_mean', mu=0.514, sd=.001),   \n",
    "                    beta = pm.Normal('b_d_mean', mu=1.940, sd=.25))\n",
    "    rep = pm.Gamma('ratio_rep_like',\n",
    "                    observed = the_ratio_rep,\n",
    "                    alpha = pm.Normal('a_r_mean', mu=0.168, sd=.001),   #0.168,\n",
    "                    beta = pm.Normal('b_r_mean', mu=5.957, sd=.25))   #5.957)"
   ]
  },
  {
   "cell_type": "code",
   "execution_count": 121,
   "metadata": {},
   "outputs": [],
   "source": [
    "with model:\n",
    "    diff_of_means = pm.Deterministic('mean_diff',\n",
    "                                      rep_mean - dem_mean)\n",
    "    diff_of_std = pm.Deterministic('std_diff',\n",
    "                                    rep_std - dem_std)"
   ]
  },
  {
   "cell_type": "code",
   "execution_count": 122,
   "metadata": {
    "scrolled": true
   },
   "outputs": [
    {
     "name": "stderr",
     "output_type": "stream",
     "text": [
      "logp = -inf, ||grad|| = 9.0674e+05: 100%|██████████| 3/3 [00:00<00:00, 207.14it/s]\n",
      "Multiprocess sampling (4 chains in 4 jobs)\n",
      "CompoundStep\n",
      ">Metropolis: [b_r_mean]\n",
      ">Metropolis: [a_r_mean]\n",
      ">Metropolis: [b_d_mean]\n",
      ">Metropolis: [a_d_mean]\n",
      ">Metropolis: [ratio_rep_std_interval__]\n",
      ">Metropolis: [ratio_dem_std_interval__]\n",
      ">Metropolis: [ratio_rep_mean_log__]\n",
      ">Metropolis: [ratio_dem_mean_log__]\n",
      "100%|██████████| 10500/10500 [04:02<00:00, 43.29it/s]\n",
      "The estimated number of effective samples is smaller than 200 for some parameters.\n"
     ]
    }
   ],
   "source": [
    "# A:\n",
    "with model:\n",
    "    start = pm.find_MAP()\n",
    "    step = pm.Metropolis()\n",
    "    trace = pm.sample(10000, step, start=start)\n",
    "    #trace = pm.sample(10000,step)\n",
    "    \n",
    "    "
   ]
  },
  {
   "cell_type": "code",
   "execution_count": 123,
   "metadata": {},
   "outputs": [
    {
     "data": {
      "text/plain": [
       "array([<matplotlib.axes._subplots.AxesSubplot object at 0x1c2d2362e8>,\n",
       "       <matplotlib.axes._subplots.AxesSubplot object at 0x1c2d10a828>,\n",
       "       <matplotlib.axes._subplots.AxesSubplot object at 0x1c20987f98>,\n",
       "       <matplotlib.axes._subplots.AxesSubplot object at 0x1c2e02b5f8>],\n",
       "      dtype=object)"
      ]
     },
     "execution_count": 123,
     "metadata": {},
     "output_type": "execute_result"
    },
    {
     "data": {
      "image/png": "[encoded data removed]",
      "text/plain": [
       "<matplotlib.figure.Figure at 0x1c2d236be0>"
      ]
     },
     "metadata": {},
     "output_type": "display_data"
    }
   ],
   "source": [
    "pm.plot_posterior(trace[1000:],\n",
    "                  varnames=['ratio_dem_mean', 'ratio_rep_mean',\n",
    "                            'ratio_dem_std', 'ratio_rep_std'],\n",
    "                  color='#ffd700')"
   ]
  },
  {
   "cell_type": "code",
   "execution_count": 106,
   "metadata": {},
   "outputs": [
    {
     "data": {
      "text/plain": [
       "array([<matplotlib.axes._subplots.AxesSubplot object at 0x1c3ddb72b0>,\n",
       "       <matplotlib.axes._subplots.AxesSubplot object at 0x1c3ddc2e48>],\n",
       "      dtype=object)"
      ]
     },
     "execution_count": 106,
     "metadata": {},
     "output_type": "execute_result"
    },
    {
     "data": {
      "image/png": "[encoded data removed]",
      "text/plain": [
       "<matplotlib.figure.Figure at 0x1c3ddb7908>"
      ]
     },
     "metadata": {},
     "output_type": "display_data"
    }
   ],
   "source": [
    "pm.plot_posterior(trace[1000:],\n",
    "                  varnames=['mean_diff', 'std_diff'],\n",
    "                  color='#00FA9A',\n",
    "                  ref_val=0)"
   ]
  },
  {
   "cell_type": "code",
   "execution_count": 60,
   "metadata": {},
   "outputs": [],
   "source": [
    "### nump.log1p - transform the ratio into \n",
    "\n",
    "## mean and variance of Z (new target variabe)"
   ]
  },
  {
   "cell_type": "code",
   "execution_count": 21,
   "metadata": {
    "scrolled": true
   },
   "outputs": [
    {
     "data": {
      "text/plain": [
       "(0.36119891517670105, 0.20235818469400238)"
      ]
     },
     "execution_count": 21,
     "metadata": {},
     "output_type": "execute_result"
    }
   ],
   "source": [
    "senate.z.mean(), senate.z.var()"
   ]
  },
  {
   "cell_type": "code",
   "execution_count": 22,
   "metadata": {},
   "outputs": [
    {
     "name": "stdout",
     "output_type": "stream",
     "text": [
      "Democrat 0.25661434708288705 0.09123438607177879\n",
      "Republican 0.4588512619374477 0.28339384664220113\n"
     ]
    }
   ],
   "source": [
    "z_dem = senate[senate['party'] =='Democratic'].z.values\n",
    "z_rep = senate[senate['party'] =='Republican'].z.values\n",
    "\n",
    "print('Democrat', z_dem.mean(), z_dem.var())\n",
    "print('Republican', z_rep.mean(), z_rep.var())"
   ]
  },
  {
   "cell_type": "code",
   "execution_count": 23,
   "metadata": {},
   "outputs": [
    {
     "name": "stdout",
     "output_type": "stream",
     "text": [
      "105.64033822739268\n",
      "0.0\n"
     ]
    }
   ],
   "source": [
    "tt = stats.ttest_ind(z_rep, z_dem)\n",
    "print(tt.statistic)\n",
    "print(tt.pvalue)"
   ]
  },
  {
   "cell_type": "code",
   "execution_count": 26,
   "metadata": {},
   "outputs": [],
   "source": [
    "with pm.Model() as model:\n",
    "    dem_mean = pm.Gamma('z_dem_mean', \n",
    "                         alpha = 0.645, \n",
    "                         beta = 0.560)\n",
    "    rep_mean = pm.Gamma('z_rep_mean', \n",
    "                         alpha = 0.645, \n",
    "                         beta = 0.560)"
   ]
  },
  {
   "cell_type": "code",
   "execution_count": 27,
   "metadata": {},
   "outputs": [],
   "source": [
    "# A: P(mu_apm, std_apm)\n",
    "prior_std_lower = 0.000001\n",
    "prior_std_upper = 100.0\n",
    "\n",
    "with model:\n",
    "    dem_std = pm.Uniform('z_dem_std',\n",
    "                          lower=prior_std_lower,\n",
    "                          upper=prior_std_upper)\n",
    "    rep_std = pm.Uniform('z_rep_std',\n",
    "                          lower=prior_std_lower,\n",
    "                          upper=prior_std_upper)"
   ]
  },
  {
   "cell_type": "code",
   "execution_count": 28,
   "metadata": {},
   "outputs": [],
   "source": [
    "with model:\n",
    "    dem = pm.Gamma('z_dem_like',\n",
    "                    observed = z_dem,\n",
    "                    alpha = 0.726,\n",
    "                    beta = 0.354)\n",
    "    rep = pm.Gamma('z_rep_like',\n",
    "                    observed = z_rep,\n",
    "                    alpha = 0.744,\n",
    "                    beta = 0.617)"
   ]
  },
  {
   "cell_type": "code",
   "execution_count": 29,
   "metadata": {},
   "outputs": [],
   "source": [
    "with model:\n",
    "    diff_of_means = pm.Deterministic('mean_diff',\n",
    "                                      rep_mean - dem_mean)\n",
    "    diff_of_std = pm.Deterministic('std_diff',\n",
    "                                    rep_std - dem_std)"
   ]
  },
  {
   "cell_type": "code",
   "execution_count": 37,
   "metadata": {},
   "outputs": [
    {
     "name": "stderr",
     "output_type": "stream",
     "text": [
      "Multiprocess sampling (4 chains in 4 jobs)\n",
      "CompoundStep\n",
      ">Metropolis: [z_rep_std_interval__]\n",
      ">Metropolis: [z_dem_std_interval__]\n",
      ">Metropolis: [z_rep_mean_log__]\n",
      ">Metropolis: [z_dem_mean_log__]\n",
      "100%|██████████| 10500/10500 [00:07<00:00, 1394.67it/s]\n",
      "The estimated number of effective samples is smaller than 200 for some parameters.\n"
     ]
    }
   ],
   "source": [
    "with model:\n",
    "    #start = pm.find_MAP()\n",
    "    step = pm.Metropolis()\n",
    "    #trace_mp = pm.sample(5000, step, start=start)\n",
    "    trace = pm.sample(10000, step)"
   ]
  },
  {
   "cell_type": "code",
   "execution_count": 38,
   "metadata": {},
   "outputs": [
    {
     "data": {
      "text/plain": [
       "{'mean_diff': 0.0,\n",
       " 'std_diff': 0.0,\n",
       " 'z_dem_mean': 1.1517857142857142,\n",
       " 'z_dem_mean_log__': 0.14131353306657748,\n",
       " 'z_dem_std': 50.0000005,\n",
       " 'z_dem_std_interval__': 0.0,\n",
       " 'z_rep_mean': 1.1517857142857142,\n",
       " 'z_rep_mean_log__': 0.14131353306657748,\n",
       " 'z_rep_std': 50.0000005,\n",
       " 'z_rep_std_interval__': 0.0}"
      ]
     },
     "execution_count": 38,
     "metadata": {},
     "output_type": "execute_result"
    }
   ],
   "source": [
    "trace[0]"
   ]
  },
  {
   "cell_type": "code",
   "execution_count": 39,
   "metadata": {},
   "outputs": [
    {
     "data": {
      "text/plain": [
       "array([<matplotlib.axes._subplots.AxesSubplot object at 0x1c20b044e0>,\n",
       "       <matplotlib.axes._subplots.AxesSubplot object at 0x1c275c6550>,\n",
       "       <matplotlib.axes._subplots.AxesSubplot object at 0x1c1c43b080>,\n",
       "       <matplotlib.axes._subplots.AxesSubplot object at 0x1c1271ff98>],\n",
       "      dtype=object)"
      ]
     },
     "execution_count": 39,
     "metadata": {},
     "output_type": "execute_result"
    },
    {
     "data": {
      "image/png": "[encoded data removed]",
      "text/plain": [
       "<matplotlib.figure.Figure at 0x1c20b175c0>"
      ]
     },
     "metadata": {},
     "output_type": "display_data"
    }
   ],
   "source": [
    "pm.plot_posterior(trace[1000:],\n",
    "                  varnames=['z_dem_mean', 'z_rep_mean',\n",
    "                            'z_dem_std', 'z_rep_std'],\n",
    "                  color='#ffd700')"
   ]
  }
 ],
 "metadata": {
  "kernelspec": {
   "display_name": "Python [default]",
   "language": "python",
   "name": "python3"
  },
  "language_info": {
   "codemirror_mode": {
    "name": "ipython",
    "version": 3
   },
   "file_extension": ".py",
   "mimetype": "text/x-python",
   "name": "python",
   "nbconvert_exporter": "python",
   "pygments_lexer": "ipython3",
   "version": "3.6.3"
  }
 },
 "nbformat": 4,
 "nbformat_minor": 2
}
