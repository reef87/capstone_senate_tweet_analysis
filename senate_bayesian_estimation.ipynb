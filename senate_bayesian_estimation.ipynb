{
 "cells": [
  {
   "cell_type": "code",
   "execution_count": 62,
   "metadata": {},
   "outputs": [],
   "source": [
    "import pandas as pd\n",
    "import numpy as np\n",
    "import seaborn as sns\n",
    "import matplotlib.pyplot as plt\n",
    "import os\n",
    "from nltk.tokenize import RegexpTokenizer\n",
    "from nltk.stem import PorterStemmer\n",
    "from nltk.corpus import stopwords\n",
    "import re\n",
    "from sklearn.feature_extraction.text import CountVectorizer\n",
    "from sklearn.preprocessing import LabelEncoder\n",
    "import scipy.stats as stats\n",
    "import pymc3 as pm\n",
    "\n",
    "%matplotlib inline"
   ]
  },
  {
   "cell_type": "code",
   "execution_count": 25,
   "metadata": {
    "scrolled": true
   },
   "outputs": [],
   "source": [
    "senate = pd.read_csv('./data/senate.csv')"
   ]
  },
  {
   "cell_type": "code",
   "execution_count": 26,
   "metadata": {
    "scrolled": true
   },
   "outputs": [
    {
     "data": {
      "text/html": [
       "<div>\n",
       "<style>\n",
       "    .dataframe thead tr:only-child th {\n",
       "        text-align: right;\n",
       "    }\n",
       "\n",
       "    .dataframe thead th {\n",
       "        text-align: left;\n",
       "    }\n",
       "\n",
       "    .dataframe tbody tr th {\n",
       "        vertical-align: top;\n",
       "    }\n",
       "</style>\n",
       "<table border=\"1\" class=\"dataframe\">\n",
       "  <thead>\n",
       "    <tr style=\"text-align: right;\">\n",
       "      <th></th>\n",
       "      <th>created_at</th>\n",
       "      <th>id_str</th>\n",
       "      <th>reply_count</th>\n",
       "      <th>retweet_count</th>\n",
       "      <th>text</th>\n",
       "      <th>user</th>\n",
       "      <th>name</th>\n",
       "      <th>state</th>\n",
       "      <th>party</th>\n",
       "      <th>the_ratio</th>\n",
       "    </tr>\n",
       "  </thead>\n",
       "  <tbody>\n",
       "    <tr>\n",
       "      <th>0</th>\n",
       "      <td>Sun May 21 19:26:26 +0000 2017</td>\n",
       "      <td>8.660000e+17</td>\n",
       "      <td>116.0</td>\n",
       "      <td>174.0</td>\n",
       "      <td>Franni here. Since it's Al's birthday, and sin...</td>\n",
       "      <td>alfranken</td>\n",
       "      <td>Al Franken</td>\n",
       "      <td>New York</td>\n",
       "      <td>Democratic</td>\n",
       "      <td>0.666667</td>\n",
       "    </tr>\n",
       "    <tr>\n",
       "      <th>1</th>\n",
       "      <td>Tue May 16 01:44:44 +0000 2017</td>\n",
       "      <td>8.640000e+17</td>\n",
       "      <td>718.0</td>\n",
       "      <td>1248.0</td>\n",
       "      <td>This is profoundly troubling. Why would Presid...</td>\n",
       "      <td>alfranken</td>\n",
       "      <td>Al Franken</td>\n",
       "      <td>New York</td>\n",
       "      <td>Democratic</td>\n",
       "      <td>0.575321</td>\n",
       "    </tr>\n",
       "    <tr>\n",
       "      <th>2</th>\n",
       "      <td>Wed May 10 19:55:37 +0000 2017</td>\n",
       "      <td>8.620000e+17</td>\n",
       "      <td>218.0</td>\n",
       "      <td>1334.0</td>\n",
       "      <td>It couldn't be clearer: we need an independent...</td>\n",
       "      <td>alfranken</td>\n",
       "      <td>Al Franken</td>\n",
       "      <td>New York</td>\n",
       "      <td>Democratic</td>\n",
       "      <td>0.163418</td>\n",
       "    </tr>\n",
       "    <tr>\n",
       "      <th>3</th>\n",
       "      <td>Wed May 10 19:54:55 +0000 2017</td>\n",
       "      <td>8.620000e+17</td>\n",
       "      <td>134.0</td>\n",
       "      <td>794.0</td>\n",
       "      <td>More troubling news: AG Sessions was involved ...</td>\n",
       "      <td>alfranken</td>\n",
       "      <td>Al Franken</td>\n",
       "      <td>New York</td>\n",
       "      <td>Democratic</td>\n",
       "      <td>0.168766</td>\n",
       "    </tr>\n",
       "    <tr>\n",
       "      <th>4</th>\n",
       "      <td>Wed May 10 19:54:20 +0000 2017</td>\n",
       "      <td>8.620000e+17</td>\n",
       "      <td>131.0</td>\n",
       "      <td>556.0</td>\n",
       "      <td>Troubling news that you probably know by now: ...</td>\n",
       "      <td>alfranken</td>\n",
       "      <td>Al Franken</td>\n",
       "      <td>New York</td>\n",
       "      <td>Democratic</td>\n",
       "      <td>0.235612</td>\n",
       "    </tr>\n",
       "  </tbody>\n",
       "</table>\n",
       "</div>"
      ],
      "text/plain": [
       "                       created_at        id_str  reply_count  retweet_count  \\\n",
       "0  Sun May 21 19:26:26 +0000 2017  8.660000e+17        116.0          174.0   \n",
       "1  Tue May 16 01:44:44 +0000 2017  8.640000e+17        718.0         1248.0   \n",
       "2  Wed May 10 19:55:37 +0000 2017  8.620000e+17        218.0         1334.0   \n",
       "3  Wed May 10 19:54:55 +0000 2017  8.620000e+17        134.0          794.0   \n",
       "4  Wed May 10 19:54:20 +0000 2017  8.620000e+17        131.0          556.0   \n",
       "\n",
       "                                                text       user        name  \\\n",
       "0  Franni here. Since it's Al's birthday, and sin...  alfranken  Al Franken   \n",
       "1  This is profoundly troubling. Why would Presid...  alfranken  Al Franken   \n",
       "2  It couldn't be clearer: we need an independent...  alfranken  Al Franken   \n",
       "3  More troubling news: AG Sessions was involved ...  alfranken  Al Franken   \n",
       "4  Troubling news that you probably know by now: ...  alfranken  Al Franken   \n",
       "\n",
       "      state       party  the_ratio  \n",
       "0  New York  Democratic   0.666667  \n",
       "1  New York  Democratic   0.575321  \n",
       "2  New York  Democratic   0.163418  \n",
       "3  New York  Democratic   0.168766  \n",
       "4  New York  Democratic   0.235612  "
      ]
     },
     "execution_count": 26,
     "metadata": {},
     "output_type": "execute_result"
    }
   ],
   "source": [
    "senate.head()"
   ]
  },
  {
   "cell_type": "code",
   "execution_count": 27,
   "metadata": {
    "scrolled": false
   },
   "outputs": [
    {
     "name": "stdout",
     "output_type": "stream",
     "text": [
      "<class 'pandas.core.frame.DataFrame'>\n",
      "RangeIndex: 219539 entries, 0 to 219538\n",
      "Data columns (total 10 columns):\n",
      "created_at       219539 non-null object\n",
      "id_str           219539 non-null float64\n",
      "reply_count      219539 non-null float64\n",
      "retweet_count    219539 non-null float64\n",
      "text             219539 non-null object\n",
      "user             219539 non-null object\n",
      "name             219539 non-null object\n",
      "state            219539 non-null object\n",
      "party            219539 non-null object\n",
      "the_ratio        219539 non-null float64\n",
      "dtypes: float64(4), object(6)\n",
      "memory usage: 16.7+ MB\n"
     ]
    }
   ],
   "source": [
    "senate.info()"
   ]
  },
  {
   "cell_type": "code",
   "execution_count": 28,
   "metadata": {
    "scrolled": true
   },
   "outputs": [
    {
     "data": {
      "text/html": [
       "<div>\n",
       "<style>\n",
       "    .dataframe thead tr:only-child th {\n",
       "        text-align: right;\n",
       "    }\n",
       "\n",
       "    .dataframe thead th {\n",
       "        text-align: left;\n",
       "    }\n",
       "\n",
       "    .dataframe tbody tr th {\n",
       "        vertical-align: top;\n",
       "    }\n",
       "</style>\n",
       "<table border=\"1\" class=\"dataframe\">\n",
       "  <thead>\n",
       "    <tr style=\"text-align: right;\">\n",
       "      <th></th>\n",
       "      <th>created_at</th>\n",
       "      <th>id_str</th>\n",
       "      <th>reply_count</th>\n",
       "      <th>retweet_count</th>\n",
       "      <th>text</th>\n",
       "      <th>user</th>\n",
       "      <th>name</th>\n",
       "      <th>state</th>\n",
       "      <th>party</th>\n",
       "      <th>the_ratio</th>\n",
       "    </tr>\n",
       "  </thead>\n",
       "  <tbody>\n",
       "    <tr>\n",
       "      <th>11976</th>\n",
       "      <td>Fri Nov 25 03:48:06 +0000 2016</td>\n",
       "      <td>8.019960e+17</td>\n",
       "      <td>138.0</td>\n",
       "      <td>1.0</td>\n",
       "      <td>Most endearing family name for a grandmother?</td>\n",
       "      <td>BenSasse</td>\n",
       "      <td>Ben Sasse</td>\n",
       "      <td>Nebraska</td>\n",
       "      <td>Republican</td>\n",
       "      <td>138.000000</td>\n",
       "    </tr>\n",
       "    <tr>\n",
       "      <th>155381</th>\n",
       "      <td>Thu Feb 02 18:24:16 +0000 2017</td>\n",
       "      <td>8.272210e+17</td>\n",
       "      <td>1505.0</td>\n",
       "      <td>11.0</td>\n",
       "      <td>Glad you stopped by @G_Dahlkemper https://t.co...</td>\n",
       "      <td>SenToomey</td>\n",
       "      <td>Pat Toomey</td>\n",
       "      <td>Pennsylvania</td>\n",
       "      <td>Republican</td>\n",
       "      <td>136.818182</td>\n",
       "    </tr>\n",
       "    <tr>\n",
       "      <th>109263</th>\n",
       "      <td>Fri Feb 10 21:44:52 +0000 2017</td>\n",
       "      <td>8.301710e+17</td>\n",
       "      <td>108.0</td>\n",
       "      <td>1.0</td>\n",
       "      <td>Here’s what happened this week in the Senate: ...</td>\n",
       "      <td>SenatorIsakson</td>\n",
       "      <td>Johnny Isakson</td>\n",
       "      <td>Georgia</td>\n",
       "      <td>Republican</td>\n",
       "      <td>108.000000</td>\n",
       "    </tr>\n",
       "    <tr>\n",
       "      <th>36978</th>\n",
       "      <td>Sat Jan 28 03:19:55 +0000 2017</td>\n",
       "      <td>8.251820e+17</td>\n",
       "      <td>193.0</td>\n",
       "      <td>2.0</td>\n",
       "      <td>Drake wins ovr UNI 88/79</td>\n",
       "      <td>ChuckGrassley</td>\n",
       "      <td>Chuck Grassley</td>\n",
       "      <td>Iowa</td>\n",
       "      <td>Republican</td>\n",
       "      <td>96.500000</td>\n",
       "    </tr>\n",
       "    <tr>\n",
       "      <th>15547</th>\n",
       "      <td>Tue Feb 07 17:59:44 +0000 2017</td>\n",
       "      <td>8.290270e+17</td>\n",
       "      <td>96.0</td>\n",
       "      <td>1.0</td>\n",
       "      <td>About to go on @CNN to speak with @wolfblitzer...</td>\n",
       "      <td>BillCassidy</td>\n",
       "      <td>Bill cassidy</td>\n",
       "      <td>Louisiana</td>\n",
       "      <td>Republican</td>\n",
       "      <td>96.000000</td>\n",
       "    </tr>\n",
       "  </tbody>\n",
       "</table>\n",
       "</div>"
      ],
      "text/plain": [
       "                            created_at        id_str  reply_count  \\\n",
       "11976   Fri Nov 25 03:48:06 +0000 2016  8.019960e+17        138.0   \n",
       "155381  Thu Feb 02 18:24:16 +0000 2017  8.272210e+17       1505.0   \n",
       "109263  Fri Feb 10 21:44:52 +0000 2017  8.301710e+17        108.0   \n",
       "36978   Sat Jan 28 03:19:55 +0000 2017  8.251820e+17        193.0   \n",
       "15547   Tue Feb 07 17:59:44 +0000 2017  8.290270e+17         96.0   \n",
       "\n",
       "        retweet_count                                               text  \\\n",
       "11976             1.0      Most endearing family name for a grandmother?   \n",
       "155381           11.0  Glad you stopped by @G_Dahlkemper https://t.co...   \n",
       "109263            1.0  Here’s what happened this week in the Senate: ...   \n",
       "36978             2.0                           Drake wins ovr UNI 88/79   \n",
       "15547             1.0  About to go on @CNN to speak with @wolfblitzer...   \n",
       "\n",
       "                  user            name         state       party   the_ratio  \n",
       "11976         BenSasse       Ben Sasse      Nebraska  Republican  138.000000  \n",
       "155381       SenToomey      Pat Toomey  Pennsylvania  Republican  136.818182  \n",
       "109263  SenatorIsakson  Johnny Isakson       Georgia  Republican  108.000000  \n",
       "36978    ChuckGrassley  Chuck Grassley          Iowa  Republican   96.500000  \n",
       "15547      BillCassidy    Bill cassidy     Louisiana  Republican   96.000000  "
      ]
     },
     "execution_count": 28,
     "metadata": {},
     "output_type": "execute_result"
    }
   ],
   "source": [
    "senate.sort_values('the_ratio', ascending=False).head()"
   ]
  },
  {
   "cell_type": "code",
   "execution_count": 29,
   "metadata": {},
   "outputs": [
    {
     "data": {
      "text/plain": [
       "<matplotlib.axes._subplots.AxesSubplot at 0x1c170947f0>"
      ]
     },
     "execution_count": 29,
     "metadata": {},
     "output_type": "execute_result"
    },
    {
     "data": {
      "image/png": "[encoded data removed]",
      "text/plain": [
       "<matplotlib.figure.Figure at 0x1c17221fd0>"
      ]
     },
     "metadata": {},
     "output_type": "display_data"
    }
   ],
   "source": [
    "senate[senate['retweet_count'] > 1000].retweet_count.hist(bins=100)"
   ]
  },
  {
   "cell_type": "code",
   "execution_count": 30,
   "metadata": {},
   "outputs": [
    {
     "data": {
      "text/plain": [
       "<matplotlib.axes._subplots.AxesSubplot at 0x1c14fc00b8>"
      ]
     },
     "execution_count": 30,
     "metadata": {},
     "output_type": "execute_result"
    },
    {
     "data": {
      "image/png": "[encoded data removed]",
      "text/plain": [
       "<matplotlib.figure.Figure at 0x1c14fa1550>"
      ]
     },
     "metadata": {},
     "output_type": "display_data"
    }
   ],
   "source": [
    "senate[senate['the_ratio'] > 0 ].the_ratio.hist(bins=100)"
   ]
  },
  {
   "cell_type": "code",
   "execution_count": 31,
   "metadata": {},
   "outputs": [
    {
     "data": {
      "text/html": [
       "<div>\n",
       "<style>\n",
       "    .dataframe thead tr:only-child th {\n",
       "        text-align: right;\n",
       "    }\n",
       "\n",
       "    .dataframe thead th {\n",
       "        text-align: left;\n",
       "    }\n",
       "\n",
       "    .dataframe tbody tr th {\n",
       "        vertical-align: top;\n",
       "    }\n",
       "</style>\n",
       "<table border=\"1\" class=\"dataframe\">\n",
       "  <thead>\n",
       "    <tr style=\"text-align: right;\">\n",
       "      <th></th>\n",
       "      <th>id_str</th>\n",
       "      <th>reply_count</th>\n",
       "      <th>retweet_count</th>\n",
       "      <th>the_ratio</th>\n",
       "    </tr>\n",
       "  </thead>\n",
       "  <tbody>\n",
       "    <tr>\n",
       "      <th>count</th>\n",
       "      <td>2.195390e+05</td>\n",
       "      <td>219539.000000</td>\n",
       "      <td>219539.000000</td>\n",
       "      <td>219539.000000</td>\n",
       "    </tr>\n",
       "    <tr>\n",
       "      <th>mean</th>\n",
       "      <td>6.517680e+17</td>\n",
       "      <td>24.766652</td>\n",
       "      <td>137.181412</td>\n",
       "      <td>0.677336</td>\n",
       "    </tr>\n",
       "    <tr>\n",
       "      <th>std</th>\n",
       "      <td>1.866934e+17</td>\n",
       "      <td>149.311035</td>\n",
       "      <td>1608.016919</td>\n",
       "      <td>1.847231</td>\n",
       "    </tr>\n",
       "    <tr>\n",
       "      <th>min</th>\n",
       "      <td>2.299999e+09</td>\n",
       "      <td>0.000000</td>\n",
       "      <td>1.000000</td>\n",
       "      <td>0.000000</td>\n",
       "    </tr>\n",
       "    <tr>\n",
       "      <th>25%</th>\n",
       "      <td>5.637520e+17</td>\n",
       "      <td>1.000000</td>\n",
       "      <td>3.000000</td>\n",
       "      <td>0.046512</td>\n",
       "    </tr>\n",
       "    <tr>\n",
       "      <th>50%</th>\n",
       "      <td>7.054430e+17</td>\n",
       "      <td>2.000000</td>\n",
       "      <td>7.000000</td>\n",
       "      <td>0.250000</td>\n",
       "    </tr>\n",
       "    <tr>\n",
       "      <th>75%</th>\n",
       "      <td>7.940000e+17</td>\n",
       "      <td>9.000000</td>\n",
       "      <td>22.000000</td>\n",
       "      <td>0.636364</td>\n",
       "    </tr>\n",
       "    <tr>\n",
       "      <th>max</th>\n",
       "      <td>8.666520e+17</td>\n",
       "      <td>14230.000000</td>\n",
       "      <td>462572.000000</td>\n",
       "      <td>138.000000</td>\n",
       "    </tr>\n",
       "  </tbody>\n",
       "</table>\n",
       "</div>"
      ],
      "text/plain": [
       "             id_str    reply_count  retweet_count      the_ratio\n",
       "count  2.195390e+05  219539.000000  219539.000000  219539.000000\n",
       "mean   6.517680e+17      24.766652     137.181412       0.677336\n",
       "std    1.866934e+17     149.311035    1608.016919       1.847231\n",
       "min    2.299999e+09       0.000000       1.000000       0.000000\n",
       "25%    5.637520e+17       1.000000       3.000000       0.046512\n",
       "50%    7.054430e+17       2.000000       7.000000       0.250000\n",
       "75%    7.940000e+17       9.000000      22.000000       0.636364\n",
       "max    8.666520e+17   14230.000000  462572.000000     138.000000"
      ]
     },
     "execution_count": 31,
     "metadata": {},
     "output_type": "execute_result"
    }
   ],
   "source": [
    "senate.describe()"
   ]
  },
  {
   "cell_type": "code",
   "execution_count": 32,
   "metadata": {},
   "outputs": [],
   "source": [
    "senate['z'] = np.log1p(senate.the_ratio)"
   ]
  },
  {
   "cell_type": "code",
   "execution_count": 33,
   "metadata": {},
   "outputs": [
    {
     "data": {
      "text/html": [
       "<div>\n",
       "<style>\n",
       "    .dataframe thead tr:only-child th {\n",
       "        text-align: right;\n",
       "    }\n",
       "\n",
       "    .dataframe thead th {\n",
       "        text-align: left;\n",
       "    }\n",
       "\n",
       "    .dataframe tbody tr th {\n",
       "        vertical-align: top;\n",
       "    }\n",
       "</style>\n",
       "<table border=\"1\" class=\"dataframe\">\n",
       "  <thead>\n",
       "    <tr style=\"text-align: right;\">\n",
       "      <th></th>\n",
       "      <th>created_at</th>\n",
       "      <th>id_str</th>\n",
       "      <th>reply_count</th>\n",
       "      <th>retweet_count</th>\n",
       "      <th>text</th>\n",
       "      <th>user</th>\n",
       "      <th>name</th>\n",
       "      <th>state</th>\n",
       "      <th>party</th>\n",
       "      <th>the_ratio</th>\n",
       "      <th>z</th>\n",
       "    </tr>\n",
       "  </thead>\n",
       "  <tbody>\n",
       "    <tr>\n",
       "      <th>0</th>\n",
       "      <td>Sun May 21 19:26:26 +0000 2017</td>\n",
       "      <td>8.660000e+17</td>\n",
       "      <td>116.0</td>\n",
       "      <td>174.0</td>\n",
       "      <td>Franni here. Since it's Al's birthday, and sin...</td>\n",
       "      <td>alfranken</td>\n",
       "      <td>Al Franken</td>\n",
       "      <td>New York</td>\n",
       "      <td>Democratic</td>\n",
       "      <td>0.666667</td>\n",
       "      <td>0.510826</td>\n",
       "    </tr>\n",
       "    <tr>\n",
       "      <th>1</th>\n",
       "      <td>Tue May 16 01:44:44 +0000 2017</td>\n",
       "      <td>8.640000e+17</td>\n",
       "      <td>718.0</td>\n",
       "      <td>1248.0</td>\n",
       "      <td>This is profoundly troubling. Why would Presid...</td>\n",
       "      <td>alfranken</td>\n",
       "      <td>Al Franken</td>\n",
       "      <td>New York</td>\n",
       "      <td>Democratic</td>\n",
       "      <td>0.575321</td>\n",
       "      <td>0.454459</td>\n",
       "    </tr>\n",
       "    <tr>\n",
       "      <th>2</th>\n",
       "      <td>Wed May 10 19:55:37 +0000 2017</td>\n",
       "      <td>8.620000e+17</td>\n",
       "      <td>218.0</td>\n",
       "      <td>1334.0</td>\n",
       "      <td>It couldn't be clearer: we need an independent...</td>\n",
       "      <td>alfranken</td>\n",
       "      <td>Al Franken</td>\n",
       "      <td>New York</td>\n",
       "      <td>Democratic</td>\n",
       "      <td>0.163418</td>\n",
       "      <td>0.151362</td>\n",
       "    </tr>\n",
       "    <tr>\n",
       "      <th>3</th>\n",
       "      <td>Wed May 10 19:54:55 +0000 2017</td>\n",
       "      <td>8.620000e+17</td>\n",
       "      <td>134.0</td>\n",
       "      <td>794.0</td>\n",
       "      <td>More troubling news: AG Sessions was involved ...</td>\n",
       "      <td>alfranken</td>\n",
       "      <td>Al Franken</td>\n",
       "      <td>New York</td>\n",
       "      <td>Democratic</td>\n",
       "      <td>0.168766</td>\n",
       "      <td>0.155948</td>\n",
       "    </tr>\n",
       "    <tr>\n",
       "      <th>4</th>\n",
       "      <td>Wed May 10 19:54:20 +0000 2017</td>\n",
       "      <td>8.620000e+17</td>\n",
       "      <td>131.0</td>\n",
       "      <td>556.0</td>\n",
       "      <td>Troubling news that you probably know by now: ...</td>\n",
       "      <td>alfranken</td>\n",
       "      <td>Al Franken</td>\n",
       "      <td>New York</td>\n",
       "      <td>Democratic</td>\n",
       "      <td>0.235612</td>\n",
       "      <td>0.211566</td>\n",
       "    </tr>\n",
       "  </tbody>\n",
       "</table>\n",
       "</div>"
      ],
      "text/plain": [
       "                       created_at        id_str  reply_count  retweet_count  \\\n",
       "0  Sun May 21 19:26:26 +0000 2017  8.660000e+17        116.0          174.0   \n",
       "1  Tue May 16 01:44:44 +0000 2017  8.640000e+17        718.0         1248.0   \n",
       "2  Wed May 10 19:55:37 +0000 2017  8.620000e+17        218.0         1334.0   \n",
       "3  Wed May 10 19:54:55 +0000 2017  8.620000e+17        134.0          794.0   \n",
       "4  Wed May 10 19:54:20 +0000 2017  8.620000e+17        131.0          556.0   \n",
       "\n",
       "                                                text       user        name  \\\n",
       "0  Franni here. Since it's Al's birthday, and sin...  alfranken  Al Franken   \n",
       "1  This is profoundly troubling. Why would Presid...  alfranken  Al Franken   \n",
       "2  It couldn't be clearer: we need an independent...  alfranken  Al Franken   \n",
       "3  More troubling news: AG Sessions was involved ...  alfranken  Al Franken   \n",
       "4  Troubling news that you probably know by now: ...  alfranken  Al Franken   \n",
       "\n",
       "      state       party  the_ratio         z  \n",
       "0  New York  Democratic   0.666667  0.510826  \n",
       "1  New York  Democratic   0.575321  0.454459  \n",
       "2  New York  Democratic   0.163418  0.151362  \n",
       "3  New York  Democratic   0.168766  0.155948  \n",
       "4  New York  Democratic   0.235612  0.211566  "
      ]
     },
     "execution_count": 33,
     "metadata": {},
     "output_type": "execute_result"
    }
   ],
   "source": [
    "senate.head()"
   ]
  },
  {
   "cell_type": "code",
   "execution_count": 34,
   "metadata": {},
   "outputs": [
    {
     "data": {
      "text/html": [
       "<div>\n",
       "<style>\n",
       "    .dataframe thead tr:only-child th {\n",
       "        text-align: right;\n",
       "    }\n",
       "\n",
       "    .dataframe thead th {\n",
       "        text-align: left;\n",
       "    }\n",
       "\n",
       "    .dataframe tbody tr th {\n",
       "        vertical-align: top;\n",
       "    }\n",
       "</style>\n",
       "<table border=\"1\" class=\"dataframe\">\n",
       "  <thead>\n",
       "    <tr style=\"text-align: right;\">\n",
       "      <th></th>\n",
       "      <th>created_at</th>\n",
       "      <th>id_str</th>\n",
       "      <th>reply_count</th>\n",
       "      <th>retweet_count</th>\n",
       "      <th>text</th>\n",
       "      <th>user</th>\n",
       "      <th>name</th>\n",
       "      <th>state</th>\n",
       "      <th>party</th>\n",
       "      <th>the_ratio</th>\n",
       "      <th>z</th>\n",
       "    </tr>\n",
       "  </thead>\n",
       "  <tbody>\n",
       "    <tr>\n",
       "      <th>11976</th>\n",
       "      <td>Fri Nov 25 03:48:06 +0000 2016</td>\n",
       "      <td>8.019960e+17</td>\n",
       "      <td>138.0</td>\n",
       "      <td>1.0</td>\n",
       "      <td>Most endearing family name for a grandmother?</td>\n",
       "      <td>BenSasse</td>\n",
       "      <td>Ben Sasse</td>\n",
       "      <td>Nebraska</td>\n",
       "      <td>Republican</td>\n",
       "      <td>138.000000</td>\n",
       "      <td>4.934474</td>\n",
       "    </tr>\n",
       "    <tr>\n",
       "      <th>155381</th>\n",
       "      <td>Thu Feb 02 18:24:16 +0000 2017</td>\n",
       "      <td>8.272210e+17</td>\n",
       "      <td>1505.0</td>\n",
       "      <td>11.0</td>\n",
       "      <td>Glad you stopped by @G_Dahlkemper https://t.co...</td>\n",
       "      <td>SenToomey</td>\n",
       "      <td>Pat Toomey</td>\n",
       "      <td>Pennsylvania</td>\n",
       "      <td>Republican</td>\n",
       "      <td>136.818182</td>\n",
       "      <td>4.925935</td>\n",
       "    </tr>\n",
       "    <tr>\n",
       "      <th>109263</th>\n",
       "      <td>Fri Feb 10 21:44:52 +0000 2017</td>\n",
       "      <td>8.301710e+17</td>\n",
       "      <td>108.0</td>\n",
       "      <td>1.0</td>\n",
       "      <td>Here’s what happened this week in the Senate: ...</td>\n",
       "      <td>SenatorIsakson</td>\n",
       "      <td>Johnny Isakson</td>\n",
       "      <td>Georgia</td>\n",
       "      <td>Republican</td>\n",
       "      <td>108.000000</td>\n",
       "      <td>4.691348</td>\n",
       "    </tr>\n",
       "    <tr>\n",
       "      <th>36978</th>\n",
       "      <td>Sat Jan 28 03:19:55 +0000 2017</td>\n",
       "      <td>8.251820e+17</td>\n",
       "      <td>193.0</td>\n",
       "      <td>2.0</td>\n",
       "      <td>Drake wins ovr UNI 88/79</td>\n",
       "      <td>ChuckGrassley</td>\n",
       "      <td>Chuck Grassley</td>\n",
       "      <td>Iowa</td>\n",
       "      <td>Republican</td>\n",
       "      <td>96.500000</td>\n",
       "      <td>4.579852</td>\n",
       "    </tr>\n",
       "    <tr>\n",
       "      <th>15547</th>\n",
       "      <td>Tue Feb 07 17:59:44 +0000 2017</td>\n",
       "      <td>8.290270e+17</td>\n",
       "      <td>96.0</td>\n",
       "      <td>1.0</td>\n",
       "      <td>About to go on @CNN to speak with @wolfblitzer...</td>\n",
       "      <td>BillCassidy</td>\n",
       "      <td>Bill cassidy</td>\n",
       "      <td>Louisiana</td>\n",
       "      <td>Republican</td>\n",
       "      <td>96.000000</td>\n",
       "      <td>4.574711</td>\n",
       "    </tr>\n",
       "  </tbody>\n",
       "</table>\n",
       "</div>"
      ],
      "text/plain": [
       "                            created_at        id_str  reply_count  \\\n",
       "11976   Fri Nov 25 03:48:06 +0000 2016  8.019960e+17        138.0   \n",
       "155381  Thu Feb 02 18:24:16 +0000 2017  8.272210e+17       1505.0   \n",
       "109263  Fri Feb 10 21:44:52 +0000 2017  8.301710e+17        108.0   \n",
       "36978   Sat Jan 28 03:19:55 +0000 2017  8.251820e+17        193.0   \n",
       "15547   Tue Feb 07 17:59:44 +0000 2017  8.290270e+17         96.0   \n",
       "\n",
       "        retweet_count                                               text  \\\n",
       "11976             1.0      Most endearing family name for a grandmother?   \n",
       "155381           11.0  Glad you stopped by @G_Dahlkemper https://t.co...   \n",
       "109263            1.0  Here’s what happened this week in the Senate: ...   \n",
       "36978             2.0                           Drake wins ovr UNI 88/79   \n",
       "15547             1.0  About to go on @CNN to speak with @wolfblitzer...   \n",
       "\n",
       "                  user            name         state       party   the_ratio  \\\n",
       "11976         BenSasse       Ben Sasse      Nebraska  Republican  138.000000   \n",
       "155381       SenToomey      Pat Toomey  Pennsylvania  Republican  136.818182   \n",
       "109263  SenatorIsakson  Johnny Isakson       Georgia  Republican  108.000000   \n",
       "36978    ChuckGrassley  Chuck Grassley          Iowa  Republican   96.500000   \n",
       "15547      BillCassidy    Bill cassidy     Louisiana  Republican   96.000000   \n",
       "\n",
       "               z  \n",
       "11976   4.934474  \n",
       "155381  4.925935  \n",
       "109263  4.691348  \n",
       "36978   4.579852  \n",
       "15547   4.574711  "
      ]
     },
     "execution_count": 34,
     "metadata": {},
     "output_type": "execute_result"
    }
   ],
   "source": [
    "senate.sort_values('the_ratio', ascending=False).head()"
   ]
  },
  {
   "cell_type": "code",
   "execution_count": 35,
   "metadata": {},
   "outputs": [
    {
     "data": {
      "text/plain": [
       "3.4122469061637255"
      ]
     },
     "execution_count": 35,
     "metadata": {},
     "output_type": "execute_result"
    }
   ],
   "source": [
    "np.var(senate['the_ratio'])"
   ]
  },
  {
   "cell_type": "code",
   "execution_count": 36,
   "metadata": {},
   "outputs": [
    {
     "data": {
      "text/plain": [
       "0.6773362343539384"
      ]
     },
     "execution_count": 36,
     "metadata": {},
     "output_type": "execute_result"
    }
   ],
   "source": [
    "senate.the_ratio.mean()"
   ]
  },
  {
   "cell_type": "code",
   "execution_count": 37,
   "metadata": {},
   "outputs": [
    {
     "data": {
      "text/plain": [
       "<matplotlib.axes._subplots.AxesSubplot at 0x1c1704cbe0>"
      ]
     },
     "execution_count": 37,
     "metadata": {},
     "output_type": "execute_result"
    },
    {
     "data": {
      "image/png": "[encoded data removed]",
      "text/plain": [
       "<matplotlib.figure.Figure at 0x1c173b3a90>"
      ]
     },
     "metadata": {},
     "output_type": "display_data"
    }
   ],
   "source": [
    "senate[senate['z'] > 0 ].the_ratio.hist(bins=100)"
   ]
  },
  {
   "cell_type": "code",
   "execution_count": 38,
   "metadata": {},
   "outputs": [
    {
     "data": {
      "text/plain": [
       "0.36119891517670105"
      ]
     },
     "execution_count": 38,
     "metadata": {},
     "output_type": "execute_result"
    }
   ],
   "source": [
    "senate.z.mean()"
   ]
  },
  {
   "cell_type": "code",
   "execution_count": 39,
   "metadata": {},
   "outputs": [
    {
     "data": {
      "text/plain": [
       "0.20235818469400238"
      ]
     },
     "execution_count": 39,
     "metadata": {},
     "output_type": "execute_result"
    }
   ],
   "source": [
    "senate.z.var()"
   ]
  },
  {
   "cell_type": "markdown",
   "metadata": {},
   "source": [
    "Gamma dist:\n",
    "\n",
    "mean = alpha*Beta\n",
    "\n",
    "Variance = alpha*(Beta**2)"
   ]
  },
  {
   "cell_type": "markdown",
   "metadata": {},
   "source": [
    "### Getting the ratio for Democrats and Republicans"
   ]
  },
  {
   "cell_type": "code",
   "execution_count": 41,
   "metadata": {},
   "outputs": [],
   "source": [
    "the_ratio_dem = senate[senate['party'] =='Democratic'].the_ratio.values\n",
    "the_ratio_rep = senate[senate['party'] =='Republican'].the_ratio.values"
   ]
  },
  {
   "cell_type": "code",
   "execution_count": 42,
   "metadata": {},
   "outputs": [
    {
     "name": "stdout",
     "output_type": "stream",
     "text": [
      "0.37668160435989506 0.7342832379182765\n",
      "0.9539370092177968 5.682548775324917\n"
     ]
    }
   ],
   "source": [
    "print(the_ratio_dem.mean(), the_ratio_dem.var())\n",
    "print(the_ratio_rep.mean(), the_ratio_rep.var())"
   ]
  },
  {
   "cell_type": "markdown",
   "metadata": {},
   "source": [
    "<a id='freq-ttest'></a>\n",
    "### Perform a Frequentist t-test of the mean the_ratio difference between groups."
   ]
  },
  {
   "cell_type": "code",
   "execution_count": 43,
   "metadata": {},
   "outputs": [
    {
     "name": "stdout",
     "output_type": "stream",
     "text": [
      "72.1505574553688\n",
      "0.0\n"
     ]
    }
   ],
   "source": [
    "tt = stats.ttest_ind(the_ratio_rep, the_ratio_dem)\n",
    "print(tt.statistic)\n",
    "print(tt.pvalue)"
   ]
  },
  {
   "cell_type": "code",
   "execution_count": 44,
   "metadata": {
    "scrolled": true
   },
   "outputs": [
    {
     "data": {
      "image/png": "[encoded data removed]",
      "text/plain": [
       "<matplotlib.figure.Figure at 0x1c1bb80e80>"
      ]
     },
     "metadata": {},
     "output_type": "display_data"
    }
   ],
   "source": [
    "# THIS MAY OR MAYNOT BE USEFUL\n",
    "zdist = stats.gamma(1,1)\n",
    "xvals = np.linspace(-4, 100, 104)\n",
    "\n",
    "fig, ax = plt.subplots(figsize=(7,5))\n",
    "ax.plot(xvals, zdist.pdf(xvals), lw=3)\n",
    "ax.axvline(tt.statistic, color='black', ls='dashed', lw=5)\n",
    "plt.show()"
   ]
  },
  {
   "cell_type": "code",
   "execution_count": null,
   "metadata": {},
   "outputs": [],
   "source": []
  },
  {
   "cell_type": "markdown",
   "metadata": {},
   "source": [
    "<a id='priors'></a>\n",
    "### Set up the bayesian model with priors on mean APMs\n",
    "\n",
    "Next we'll go through the steps of the Bayesian estimation of the difference between means using `pymc3`.\n",
    "\n",
    "First we find the mean and standard deviation of the_ratio regardless of partisanship. We can going to use these values to inform our prior belief about the_ratio."
   ]
  },
  {
   "cell_type": "code",
   "execution_count": 45,
   "metadata": {},
   "outputs": [
    {
     "name": "stdout",
     "output_type": "stream",
     "text": [
      "0.6773362343539384 1.847231022102251\n"
     ]
    }
   ],
   "source": [
    "prior_mean = senate.the_ratio.mean()\n",
    "prior_std = senate.the_ratio.std()\n",
    "\n",
    "print(prior_mean, prior_std)"
   ]
  },
  {
   "cell_type": "code",
   "execution_count": null,
   "metadata": {},
   "outputs": [],
   "source": []
  },
  {
   "cell_type": "code",
   "execution_count": 56,
   "metadata": {},
   "outputs": [],
   "source": [
    "with pm.Model() as model:\n",
    "    dem_mean = pm.Gamma('ratio_dem_mean', \n",
    "                               alpha = 0.134, \n",
    "                               beta = 5.039)\n",
    "    rep_mean = pm.Gamma('ratio_rep_mean', \n",
    "                               alpha = 0.134, \n",
    "                               beta = 5.039)"
   ]
  },
  {
   "cell_type": "code",
   "execution_count": 57,
   "metadata": {},
   "outputs": [],
   "source": [
    "# A: P(mu_apm, std_apm)\n",
    "prior_std_lower = 0.000001\n",
    "prior_std_upper = 100.0\n",
    "\n",
    "with model:\n",
    "    dem_std = pm.Uniform('ratio_dem_std',\n",
    "                          lower=prior_std_lower,\n",
    "                          upper=prior_std_upper)\n",
    "    rep_std = pm.Uniform('ratio_rep_std',\n",
    "                          lower=prior_std_lower,\n",
    "                          upper=prior_std_upper)"
   ]
  },
  {
   "cell_type": "code",
   "execution_count": 52,
   "metadata": {},
   "outputs": [],
   "source": [
    "# A: P(data | mu, std)\n",
    "with model:\n",
    "    dem = pm.Gamma('ratio_dem_like',\n",
    "                    observed = the_ratio_dem,\n",
    "                    alpha = 0.514,\n",
    "                    beta = 1.940)\n",
    "    rep = pm.Gamma('ratio_rep_like',\n",
    "                    observed = the_ratio_rep,\n",
    "                    alpha = 0.168,\n",
    "                    beta = 5.957)"
   ]
  },
  {
   "cell_type": "code",
   "execution_count": 58,
   "metadata": {},
   "outputs": [],
   "source": [
    "with model:\n",
    "    diff_of_means = pm.Deterministic('mean_diff',\n",
    "                                      rep_mean - dem_mean)\n",
    "    diff_of_std = pm.Deterministic('std_diff',\n",
    "                                    rep_std - dem_std)"
   ]
  },
  {
   "cell_type": "code",
   "execution_count": 59,
   "metadata": {},
   "outputs": [
    {
     "ename": "AttributeError",
     "evalue": "'int' object has no attribute 'sample'",
     "output_type": "error",
     "traceback": [
      "\u001b[0;31m---------------------------------------------------------------------------\u001b[0m",
      "\u001b[0;31mAttributeError\u001b[0m                            Traceback (most recent call last)",
      "\u001b[0;32m<ipython-input-59-dbaf80abd952>\u001b[0m in \u001b[0;36m<module>\u001b[0;34m()\u001b[0m\n\u001b[1;32m      1\u001b[0m \u001b[0;31m# A:\u001b[0m\u001b[0;34m\u001b[0m\u001b[0;34m\u001b[0m\u001b[0m\n\u001b[1;32m      2\u001b[0m \u001b[0;32mwith\u001b[0m \u001b[0mmodel\u001b[0m\u001b[0;34m:\u001b[0m\u001b[0;34m\u001b[0m\u001b[0m\n\u001b[0;32m----> 3\u001b[0;31m     \u001b[0mtrace\u001b[0m \u001b[0;34m=\u001b[0m \u001b[0mpm\u001b[0m\u001b[0;34m.\u001b[0m\u001b[0msample_approx\u001b[0m\u001b[0;34m(\u001b[0m\u001b[0;36m10000\u001b[0m\u001b[0;34m)\u001b[0m\u001b[0;34m\u001b[0m\u001b[0m\n\u001b[0m",
      "\u001b[0;32m~/anaconda3/lib/python3.6/site-packages/pymc3/variational/approximations.py\u001b[0m in \u001b[0;36msample_approx\u001b[0;34m(approx, draws, include_transformed)\u001b[0m\n\u001b[1;32m    521\u001b[0m         \u001b[0mSamples\u001b[0m \u001b[0mdrawn\u001b[0m \u001b[0;32mfrom\u001b[0m \u001b[0mvariational\u001b[0m \u001b[0mposterior\u001b[0m\u001b[0;34m.\u001b[0m\u001b[0;34m\u001b[0m\u001b[0m\n\u001b[1;32m    522\u001b[0m     \"\"\"\n\u001b[0;32m--> 523\u001b[0;31m     \u001b[0;32mreturn\u001b[0m \u001b[0mapprox\u001b[0m\u001b[0;34m.\u001b[0m\u001b[0msample\u001b[0m\u001b[0;34m(\u001b[0m\u001b[0mdraws\u001b[0m\u001b[0;34m=\u001b[0m\u001b[0mdraws\u001b[0m\u001b[0;34m,\u001b[0m \u001b[0minclude_transformed\u001b[0m\u001b[0;34m=\u001b[0m\u001b[0minclude_transformed\u001b[0m\u001b[0;34m)\u001b[0m\u001b[0;34m\u001b[0m\u001b[0m\n\u001b[0m\u001b[1;32m    524\u001b[0m \u001b[0;34m\u001b[0m\u001b[0m\n\u001b[1;32m    525\u001b[0m \u001b[0;34m\u001b[0m\u001b[0m\n",
      "\u001b[0;31mAttributeError\u001b[0m: 'int' object has no attribute 'sample'"
     ]
    }
   ],
   "source": [
    "# A:\n",
    "with model:\n",
    "    trace = pm.sample_approx(10000)"
   ]
  },
  {
   "cell_type": "code",
   "execution_count": 60,
   "metadata": {},
   "outputs": [],
   "source": [
    "### nump.log1p - transform the ratio into \n",
    "\n",
    "## mean and variance of Z (new target variabe)"
   ]
  },
  {
   "cell_type": "code",
   "execution_count": 22,
   "metadata": {},
   "outputs": [
    {
     "name": "stdout",
     "output_type": "stream",
     "text": [
      "Democrat 0.25661434708288705 0.09123438607177879\n",
      "Republican 0.4588512619374477 0.28339384664220113\n"
     ]
    }
   ],
   "source": [
    "z_dem = senate[senate['party'] =='Democratic'].z.values\n",
    "z_rep = senate[senate['party'] =='Republican'].z.values\n",
    "\n",
    "print('Democrat', z_dem.mean(), z_dem.var())\n",
    "print('Republican', z_rep.mean(), z_rep.var())"
   ]
  },
  {
   "cell_type": "code",
   "execution_count": 55,
   "metadata": {},
   "outputs": [
    {
     "name": "stdout",
     "output_type": "stream",
     "text": [
      "105.64033822739268\n",
      "0.0\n"
     ]
    }
   ],
   "source": [
    "tt = stats.ttest_ind(z_rep, z_dem)\n",
    "print(tt.statistic)\n",
    "print(tt.pvalue)"
   ]
  },
  {
   "cell_type": "code",
   "execution_count": null,
   "metadata": {},
   "outputs": [],
   "source": []
  }
 ],
 "metadata": {
  "kernelspec": {
   "display_name": "Python [default]",
   "language": "python",
   "name": "python3"
  },
  "language_info": {
   "codemirror_mode": {
    "name": "ipython",
    "version": 3
   },
   "file_extension": ".py",
   "mimetype": "text/x-python",
   "name": "python",
   "nbconvert_exporter": "python",
   "pygments_lexer": "ipython3",
   "version": "3.6.3"
  }
 },
 "nbformat": 4,
 "nbformat_minor": 2
}
