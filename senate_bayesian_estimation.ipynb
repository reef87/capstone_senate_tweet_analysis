{
 "cells": [
  {
   "cell_type": "code",
   "execution_count": 63,
   "metadata": {},
   "outputs": [],
   "source": [
    "import pandas as pd\n",
    "import numpy as np\n",
    "import seaborn as sns\n",
    "import matplotlib.pyplot as plt\n",
    "import os\n",
    "from nltk.tokenize import RegexpTokenizer\n",
    "from nltk.stem import PorterStemmer\n",
    "from nltk.corpus import stopwords\n",
    "import re\n",
    "from sklearn.feature_extraction.text import CountVectorizer\n",
    "from sklearn.preprocessing import LabelEncoder\n",
    "import scipy.stats as stats\n",
    "import pymc3 as pm\n",
    "\n",
    "%matplotlib inline"
   ]
  },
  {
   "cell_type": "code",
   "execution_count": 64,
   "metadata": {
    "scrolled": true
   },
   "outputs": [],
   "source": [
    "senate = pd.read_csv('./data/senate.csv')"
   ]
  },
  {
   "cell_type": "code",
   "execution_count": 65,
   "metadata": {
    "scrolled": true
   },
   "outputs": [
    {
     "data": {
      "text/html": [
       "<div>\n",
       "<style>\n",
       "    .dataframe thead tr:only-child th {\n",
       "        text-align: right;\n",
       "    }\n",
       "\n",
       "    .dataframe thead th {\n",
       "        text-align: left;\n",
       "    }\n",
       "\n",
       "    .dataframe tbody tr th {\n",
       "        vertical-align: top;\n",
       "    }\n",
       "</style>\n",
       "<table border=\"1\" class=\"dataframe\">\n",
       "  <thead>\n",
       "    <tr style=\"text-align: right;\">\n",
       "      <th></th>\n",
       "      <th>created_at</th>\n",
       "      <th>id_str</th>\n",
       "      <th>reply_count</th>\n",
       "      <th>retweet_count</th>\n",
       "      <th>text</th>\n",
       "      <th>user</th>\n",
       "      <th>name</th>\n",
       "      <th>state</th>\n",
       "      <th>party</th>\n",
       "      <th>the_ratio</th>\n",
       "    </tr>\n",
       "  </thead>\n",
       "  <tbody>\n",
       "    <tr>\n",
       "      <th>0</th>\n",
       "      <td>Sun May 21 19:26:26 +0000 2017</td>\n",
       "      <td>8.660000e+17</td>\n",
       "      <td>116.0</td>\n",
       "      <td>174.0</td>\n",
       "      <td>Franni here. Since it's Al's birthday, and sin...</td>\n",
       "      <td>alfranken</td>\n",
       "      <td>Al Franken</td>\n",
       "      <td>New York</td>\n",
       "      <td>Democratic</td>\n",
       "      <td>0.666667</td>\n",
       "    </tr>\n",
       "    <tr>\n",
       "      <th>1</th>\n",
       "      <td>Tue May 16 01:44:44 +0000 2017</td>\n",
       "      <td>8.640000e+17</td>\n",
       "      <td>718.0</td>\n",
       "      <td>1248.0</td>\n",
       "      <td>This is profoundly troubling. Why would Presid...</td>\n",
       "      <td>alfranken</td>\n",
       "      <td>Al Franken</td>\n",
       "      <td>New York</td>\n",
       "      <td>Democratic</td>\n",
       "      <td>0.575321</td>\n",
       "    </tr>\n",
       "    <tr>\n",
       "      <th>2</th>\n",
       "      <td>Wed May 10 19:55:37 +0000 2017</td>\n",
       "      <td>8.620000e+17</td>\n",
       "      <td>218.0</td>\n",
       "      <td>1334.0</td>\n",
       "      <td>It couldn't be clearer: we need an independent...</td>\n",
       "      <td>alfranken</td>\n",
       "      <td>Al Franken</td>\n",
       "      <td>New York</td>\n",
       "      <td>Democratic</td>\n",
       "      <td>0.163418</td>\n",
       "    </tr>\n",
       "    <tr>\n",
       "      <th>3</th>\n",
       "      <td>Wed May 10 19:54:55 +0000 2017</td>\n",
       "      <td>8.620000e+17</td>\n",
       "      <td>134.0</td>\n",
       "      <td>794.0</td>\n",
       "      <td>More troubling news: AG Sessions was involved ...</td>\n",
       "      <td>alfranken</td>\n",
       "      <td>Al Franken</td>\n",
       "      <td>New York</td>\n",
       "      <td>Democratic</td>\n",
       "      <td>0.168766</td>\n",
       "    </tr>\n",
       "    <tr>\n",
       "      <th>4</th>\n",
       "      <td>Wed May 10 19:54:20 +0000 2017</td>\n",
       "      <td>8.620000e+17</td>\n",
       "      <td>131.0</td>\n",
       "      <td>556.0</td>\n",
       "      <td>Troubling news that you probably know by now: ...</td>\n",
       "      <td>alfranken</td>\n",
       "      <td>Al Franken</td>\n",
       "      <td>New York</td>\n",
       "      <td>Democratic</td>\n",
       "      <td>0.235612</td>\n",
       "    </tr>\n",
       "  </tbody>\n",
       "</table>\n",
       "</div>"
      ],
      "text/plain": [
       "                       created_at        id_str  reply_count  retweet_count  \\\n",
       "0  Sun May 21 19:26:26 +0000 2017  8.660000e+17        116.0          174.0   \n",
       "1  Tue May 16 01:44:44 +0000 2017  8.640000e+17        718.0         1248.0   \n",
       "2  Wed May 10 19:55:37 +0000 2017  8.620000e+17        218.0         1334.0   \n",
       "3  Wed May 10 19:54:55 +0000 2017  8.620000e+17        134.0          794.0   \n",
       "4  Wed May 10 19:54:20 +0000 2017  8.620000e+17        131.0          556.0   \n",
       "\n",
       "                                                text       user        name  \\\n",
       "0  Franni here. Since it's Al's birthday, and sin...  alfranken  Al Franken   \n",
       "1  This is profoundly troubling. Why would Presid...  alfranken  Al Franken   \n",
       "2  It couldn't be clearer: we need an independent...  alfranken  Al Franken   \n",
       "3  More troubling news: AG Sessions was involved ...  alfranken  Al Franken   \n",
       "4  Troubling news that you probably know by now: ...  alfranken  Al Franken   \n",
       "\n",
       "      state       party  the_ratio  \n",
       "0  New York  Democratic   0.666667  \n",
       "1  New York  Democratic   0.575321  \n",
       "2  New York  Democratic   0.163418  \n",
       "3  New York  Democratic   0.168766  \n",
       "4  New York  Democratic   0.235612  "
      ]
     },
     "execution_count": 65,
     "metadata": {},
     "output_type": "execute_result"
    }
   ],
   "source": [
    "senate.head()"
   ]
  },
  {
   "cell_type": "code",
   "execution_count": 29,
   "metadata": {},
   "outputs": [
    {
     "data": {
      "text/plain": [
       "<matplotlib.axes._subplots.AxesSubplot at 0x1c170947f0>"
      ]
     },
     "execution_count": 29,
     "metadata": {},
     "output_type": "execute_result"
    },
    {
     "data": {
      "image/png": "[encoded data removed]",
      "text/plain": [
       "<matplotlib.figure.Figure at 0x1c17221fd0>"
      ]
     },
     "metadata": {},
     "output_type": "display_data"
    }
   ],
   "source": [
    "senate[senate['retweet_count'] > 1000].retweet_count.hist(bins=100)"
   ]
  },
  {
   "cell_type": "code",
   "execution_count": 30,
   "metadata": {},
   "outputs": [
    {
     "data": {
      "text/plain": [
       "<matplotlib.axes._subplots.AxesSubplot at 0x1c14fc00b8>"
      ]
     },
     "execution_count": 30,
     "metadata": {},
     "output_type": "execute_result"
    },
    {
     "data": {
      "image/png": "[encoded data removed]",
      "text/plain": [
       "<matplotlib.figure.Figure at 0x1c14fa1550>"
      ]
     },
     "metadata": {},
     "output_type": "display_data"
    }
   ],
   "source": [
    "senate[senate['the_ratio'] > 0 ].the_ratio.hist(bins=100)"
   ]
  },
  {
   "cell_type": "code",
   "execution_count": 67,
   "metadata": {},
   "outputs": [],
   "source": [
    "senate['z'] = np.log1p(senate.the_ratio)"
   ]
  },
  {
   "cell_type": "code",
   "execution_count": 68,
   "metadata": {},
   "outputs": [
    {
     "data": {
      "text/html": [
       "<div>\n",
       "<style>\n",
       "    .dataframe thead tr:only-child th {\n",
       "        text-align: right;\n",
       "    }\n",
       "\n",
       "    .dataframe thead th {\n",
       "        text-align: left;\n",
       "    }\n",
       "\n",
       "    .dataframe tbody tr th {\n",
       "        vertical-align: top;\n",
       "    }\n",
       "</style>\n",
       "<table border=\"1\" class=\"dataframe\">\n",
       "  <thead>\n",
       "    <tr style=\"text-align: right;\">\n",
       "      <th></th>\n",
       "      <th>created_at</th>\n",
       "      <th>id_str</th>\n",
       "      <th>reply_count</th>\n",
       "      <th>retweet_count</th>\n",
       "      <th>text</th>\n",
       "      <th>user</th>\n",
       "      <th>name</th>\n",
       "      <th>state</th>\n",
       "      <th>party</th>\n",
       "      <th>the_ratio</th>\n",
       "      <th>z</th>\n",
       "    </tr>\n",
       "  </thead>\n",
       "  <tbody>\n",
       "    <tr>\n",
       "      <th>0</th>\n",
       "      <td>Sun May 21 19:26:26 +0000 2017</td>\n",
       "      <td>8.660000e+17</td>\n",
       "      <td>116.0</td>\n",
       "      <td>174.0</td>\n",
       "      <td>Franni here. Since it's Al's birthday, and sin...</td>\n",
       "      <td>alfranken</td>\n",
       "      <td>Al Franken</td>\n",
       "      <td>New York</td>\n",
       "      <td>Democratic</td>\n",
       "      <td>0.666667</td>\n",
       "      <td>0.510826</td>\n",
       "    </tr>\n",
       "    <tr>\n",
       "      <th>1</th>\n",
       "      <td>Tue May 16 01:44:44 +0000 2017</td>\n",
       "      <td>8.640000e+17</td>\n",
       "      <td>718.0</td>\n",
       "      <td>1248.0</td>\n",
       "      <td>This is profoundly troubling. Why would Presid...</td>\n",
       "      <td>alfranken</td>\n",
       "      <td>Al Franken</td>\n",
       "      <td>New York</td>\n",
       "      <td>Democratic</td>\n",
       "      <td>0.575321</td>\n",
       "      <td>0.454459</td>\n",
       "    </tr>\n",
       "    <tr>\n",
       "      <th>2</th>\n",
       "      <td>Wed May 10 19:55:37 +0000 2017</td>\n",
       "      <td>8.620000e+17</td>\n",
       "      <td>218.0</td>\n",
       "      <td>1334.0</td>\n",
       "      <td>It couldn't be clearer: we need an independent...</td>\n",
       "      <td>alfranken</td>\n",
       "      <td>Al Franken</td>\n",
       "      <td>New York</td>\n",
       "      <td>Democratic</td>\n",
       "      <td>0.163418</td>\n",
       "      <td>0.151362</td>\n",
       "    </tr>\n",
       "    <tr>\n",
       "      <th>3</th>\n",
       "      <td>Wed May 10 19:54:55 +0000 2017</td>\n",
       "      <td>8.620000e+17</td>\n",
       "      <td>134.0</td>\n",
       "      <td>794.0</td>\n",
       "      <td>More troubling news: AG Sessions was involved ...</td>\n",
       "      <td>alfranken</td>\n",
       "      <td>Al Franken</td>\n",
       "      <td>New York</td>\n",
       "      <td>Democratic</td>\n",
       "      <td>0.168766</td>\n",
       "      <td>0.155948</td>\n",
       "    </tr>\n",
       "    <tr>\n",
       "      <th>4</th>\n",
       "      <td>Wed May 10 19:54:20 +0000 2017</td>\n",
       "      <td>8.620000e+17</td>\n",
       "      <td>131.0</td>\n",
       "      <td>556.0</td>\n",
       "      <td>Troubling news that you probably know by now: ...</td>\n",
       "      <td>alfranken</td>\n",
       "      <td>Al Franken</td>\n",
       "      <td>New York</td>\n",
       "      <td>Democratic</td>\n",
       "      <td>0.235612</td>\n",
       "      <td>0.211566</td>\n",
       "    </tr>\n",
       "  </tbody>\n",
       "</table>\n",
       "</div>"
      ],
      "text/plain": [
       "                       created_at        id_str  reply_count  retweet_count  \\\n",
       "0  Sun May 21 19:26:26 +0000 2017  8.660000e+17        116.0          174.0   \n",
       "1  Tue May 16 01:44:44 +0000 2017  8.640000e+17        718.0         1248.0   \n",
       "2  Wed May 10 19:55:37 +0000 2017  8.620000e+17        218.0         1334.0   \n",
       "3  Wed May 10 19:54:55 +0000 2017  8.620000e+17        134.0          794.0   \n",
       "4  Wed May 10 19:54:20 +0000 2017  8.620000e+17        131.0          556.0   \n",
       "\n",
       "                                                text       user        name  \\\n",
       "0  Franni here. Since it's Al's birthday, and sin...  alfranken  Al Franken   \n",
       "1  This is profoundly troubling. Why would Presid...  alfranken  Al Franken   \n",
       "2  It couldn't be clearer: we need an independent...  alfranken  Al Franken   \n",
       "3  More troubling news: AG Sessions was involved ...  alfranken  Al Franken   \n",
       "4  Troubling news that you probably know by now: ...  alfranken  Al Franken   \n",
       "\n",
       "      state       party  the_ratio         z  \n",
       "0  New York  Democratic   0.666667  0.510826  \n",
       "1  New York  Democratic   0.575321  0.454459  \n",
       "2  New York  Democratic   0.163418  0.151362  \n",
       "3  New York  Democratic   0.168766  0.155948  \n",
       "4  New York  Democratic   0.235612  0.211566  "
      ]
     },
     "execution_count": 68,
     "metadata": {},
     "output_type": "execute_result"
    }
   ],
   "source": [
    "senate.head()"
   ]
  },
  {
   "cell_type": "code",
   "execution_count": 69,
   "metadata": {},
   "outputs": [
    {
     "data": {
      "text/plain": [
       "3.4122469061637255"
      ]
     },
     "execution_count": 69,
     "metadata": {},
     "output_type": "execute_result"
    }
   ],
   "source": [
    "np.var(senate['the_ratio'])"
   ]
  },
  {
   "cell_type": "code",
   "execution_count": 70,
   "metadata": {},
   "outputs": [
    {
     "data": {
      "text/plain": [
       "0.6773362343539384"
      ]
     },
     "execution_count": 70,
     "metadata": {},
     "output_type": "execute_result"
    }
   ],
   "source": [
    "senate.the_ratio.mean()"
   ]
  },
  {
   "cell_type": "markdown",
   "metadata": {},
   "source": [
    "Gamma dist:\n",
    "\n",
    "mean = alpha*Beta\n",
    "\n",
    "Variance = alpha*(Beta**2)"
   ]
  },
  {
   "cell_type": "markdown",
   "metadata": {},
   "source": [
    "### Getting the ratio for Democrats and Republicans"
   ]
  },
  {
   "cell_type": "code",
   "execution_count": 71,
   "metadata": {},
   "outputs": [],
   "source": [
    "the_ratio_dem = senate[senate['party'] =='Democratic'].the_ratio.values\n",
    "the_ratio_rep = senate[senate['party'] =='Republican'].the_ratio.values"
   ]
  },
  {
   "cell_type": "code",
   "execution_count": 72,
   "metadata": {},
   "outputs": [
    {
     "name": "stdout",
     "output_type": "stream",
     "text": [
      "0.37668160435989506 0.7342832379182765\n",
      "0.9539370092177968 5.682548775324917\n"
     ]
    }
   ],
   "source": [
    "print(the_ratio_dem.mean(), the_ratio_dem.var())\n",
    "print(the_ratio_rep.mean(), the_ratio_rep.var())"
   ]
  },
  {
   "cell_type": "markdown",
   "metadata": {},
   "source": [
    "<a id='freq-ttest'></a>\n",
    "### Perform a Frequentist t-test of the mean the_ratio difference between groups."
   ]
  },
  {
   "cell_type": "code",
   "execution_count": 73,
   "metadata": {},
   "outputs": [
    {
     "name": "stdout",
     "output_type": "stream",
     "text": [
      "72.1505574553688\n",
      "0.0\n"
     ]
    }
   ],
   "source": [
    "tt = stats.ttest_ind(the_ratio_rep, the_ratio_dem)\n",
    "print(tt.statistic)\n",
    "print(tt.pvalue)"
   ]
  },
  {
   "cell_type": "code",
   "execution_count": 74,
   "metadata": {
    "scrolled": true
   },
   "outputs": [
    {
     "data": {
      "image/png": "[encoded data removed]",
      "text/plain": [
       "<matplotlib.figure.Figure at 0x1c1bb8b240>"
      ]
     },
     "metadata": {},
     "output_type": "display_data"
    }
   ],
   "source": [
    "# THIS MAY OR MAYNOT BE USEFUL\n",
    "zdist = stats.gamma(1,1)\n",
    "xvals = np.linspace(-4, 100, 104)\n",
    "\n",
    "fig, ax = plt.subplots(figsize=(7,5))\n",
    "ax.plot(xvals, zdist.pdf(xvals), lw=3)\n",
    "ax.axvline(tt.statistic, color='black', ls='dashed', lw=5)\n",
    "plt.show()"
   ]
  },
  {
   "cell_type": "code",
   "execution_count": null,
   "metadata": {},
   "outputs": [],
   "source": []
  },
  {
   "cell_type": "markdown",
   "metadata": {},
   "source": [
    "<a id='priors'></a>\n",
    "### Set up the bayesian model with priors on mean APMs\n",
    "\n",
    "Next we'll go through the steps of the Bayesian estimation of the difference between means using `pymc3`.\n",
    "\n",
    "First we find the mean and standard deviation of the_ratio regardless of partisanship. We can going to use these values to inform our prior belief about the_ratio."
   ]
  },
  {
   "cell_type": "code",
   "execution_count": 75,
   "metadata": {},
   "outputs": [
    {
     "name": "stdout",
     "output_type": "stream",
     "text": [
      "0.6773362343539384 1.847231022102251\n"
     ]
    }
   ],
   "source": [
    "prior_mean = senate.the_ratio.mean()\n",
    "prior_std = senate.the_ratio.std()\n",
    "\n",
    "print(prior_mean, prior_std)"
   ]
  },
  {
   "cell_type": "code",
   "execution_count": null,
   "metadata": {},
   "outputs": [],
   "source": []
  },
  {
   "cell_type": "code",
   "execution_count": 76,
   "metadata": {},
   "outputs": [],
   "source": [
    "with pm.Model() as model:\n",
    "    dem_mean = pm.Gamma('ratio_dem_mean', \n",
    "                         alpha = 0.134, \n",
    "                         beta = 5.039)\n",
    "    rep_mean = pm.Gamma('ratio_rep_mean', \n",
    "                         alpha = 0.134, \n",
    "                         beta = 5.039)"
   ]
  },
  {
   "cell_type": "code",
   "execution_count": 77,
   "metadata": {},
   "outputs": [],
   "source": [
    "# A: P(mu_apm, std_apm)\n",
    "prior_std_lower = 0.000001\n",
    "prior_std_upper = 100.0\n",
    "\n",
    "with model:\n",
    "    dem_std = pm.Uniform('ratio_dem_std',\n",
    "                          lower=prior_std_lower,\n",
    "                          upper=prior_std_upper)\n",
    "    rep_std = pm.Uniform('ratio_rep_std',\n",
    "                          lower=prior_std_lower,\n",
    "                          upper=prior_std_upper)"
   ]
  },
  {
   "cell_type": "code",
   "execution_count": 78,
   "metadata": {},
   "outputs": [],
   "source": [
    "# A: P(data | mu, std)\n",
    "with model:\n",
    "    dem = pm.Gamma('ratio_dem_like',\n",
    "                    observed = the_ratio_dem,\n",
    "                    alpha = 0.514,\n",
    "                    beta = 1.940)\n",
    "    rep = pm.Gamma('ratio_rep_like',\n",
    "                    observed = the_ratio_rep,\n",
    "                    alpha = 0.168,\n",
    "                    beta = 5.957)"
   ]
  },
  {
   "cell_type": "code",
   "execution_count": 79,
   "metadata": {},
   "outputs": [],
   "source": [
    "with model:\n",
    "    diff_of_means = pm.Deterministic('mean_diff',\n",
    "                                      rep_mean - dem_mean)\n",
    "    diff_of_std = pm.Deterministic('std_diff',\n",
    "                                    rep_std - dem_std)"
   ]
  },
  {
   "cell_type": "code",
   "execution_count": 81,
   "metadata": {},
   "outputs": [
    {
     "name": "stderr",
     "output_type": "stream",
     "text": [
      "Auto-assigning NUTS sampler...\n",
      "Initializing NUTS using jitter+adapt_diag...\n",
      "/Users/reef/anaconda3/lib/python3.6/site-packages/pymc3/model.py:384: FutureWarning: Conversion of the second argument of issubdtype from `float` to `np.floating` is deprecated. In future, it will be treated as `np.float64 == np.dtype(float).type`.\n",
      "  if not np.issubdtype(var.dtype, float):\n",
      "Multiprocess sampling (4 chains in 4 jobs)\n",
      "NUTS: [ratio_rep_std_interval__, ratio_dem_std_interval__, ratio_rep_mean_log__, ratio_dem_mean_log__]\n",
      "  0%|          | 0/10500 [00:00<?, ?it/s]\n"
     ]
    },
    {
     "ename": "JoblibValueError",
     "evalue": "JoblibValueError\n___________________________________________________________________________\nMultiprocessing exception:\n...........................................................................\n/Users/reef/anaconda3/lib/python3.6/runpy.py in _run_module_as_main(mod_name='ipykernel.__main__', alter_argv=1)\n    188         sys.exit(msg)\n    189     main_globals = sys.modules[\"__main__\"].__dict__\n    190     if alter_argv:\n    191         sys.argv[0] = mod_spec.origin\n    192     return _run_code(code, main_globals, None,\n--> 193                      \"__main__\", mod_spec)\n        mod_spec = ModuleSpec(name='ipykernel.__main__', loader=<_f...b/python3.6/site-packages/ipykernel/__main__.py')\n    194 \n    195 def run_module(mod_name, init_globals=None,\n    196                run_name=None, alter_sys=False):\n    197     \"\"\"Execute a module's code without importing it\n\n...........................................................................\n/Users/reef/anaconda3/lib/python3.6/runpy.py in _run_code(code=<code object <module> at 0x103cbc660, file \"/Use...3.6/site-packages/ipykernel/__main__.py\", line 1>, run_globals={'__annotations__': {}, '__builtins__': <module 'builtins' (built-in)>, '__cached__': '/Users/reef/anaconda3/lib/python3.6/site-packages/ipykernel/__pycache__/__main__.cpython-36.pyc', '__doc__': None, '__file__': '/Users/reef/anaconda3/lib/python3.6/site-packages/ipykernel/__main__.py', '__loader__': <_frozen_importlib_external.SourceFileLoader object>, '__name__': '__main__', '__package__': 'ipykernel', '__spec__': ModuleSpec(name='ipykernel.__main__', loader=<_f...b/python3.6/site-packages/ipykernel/__main__.py'), 'app': <module 'ipykernel.kernelapp' from '/Users/reef/.../python3.6/site-packages/ipykernel/kernelapp.py'>}, init_globals=None, mod_name='__main__', mod_spec=ModuleSpec(name='ipykernel.__main__', loader=<_f...b/python3.6/site-packages/ipykernel/__main__.py'), pkg_name='ipykernel', script_name=None)\n     80                        __cached__ = cached,\n     81                        __doc__ = None,\n     82                        __loader__ = loader,\n     83                        __package__ = pkg_name,\n     84                        __spec__ = mod_spec)\n---> 85     exec(code, run_globals)\n        code = <code object <module> at 0x103cbc660, file \"/Use...3.6/site-packages/ipykernel/__main__.py\", line 1>\n        run_globals = {'__annotations__': {}, '__builtins__': <module 'builtins' (built-in)>, '__cached__': '/Users/reef/anaconda3/lib/python3.6/site-packages/ipykernel/__pycache__/__main__.cpython-36.pyc', '__doc__': None, '__file__': '/Users/reef/anaconda3/lib/python3.6/site-packages/ipykernel/__main__.py', '__loader__': <_frozen_importlib_external.SourceFileLoader object>, '__name__': '__main__', '__package__': 'ipykernel', '__spec__': ModuleSpec(name='ipykernel.__main__', loader=<_f...b/python3.6/site-packages/ipykernel/__main__.py'), 'app': <module 'ipykernel.kernelapp' from '/Users/reef/.../python3.6/site-packages/ipykernel/kernelapp.py'>}\n     86     return run_globals\n     87 \n     88 def _run_module_code(code, init_globals=None,\n     89                     mod_name=None, mod_spec=None,\n\n...........................................................................\n/Users/reef/anaconda3/lib/python3.6/site-packages/ipykernel/__main__.py in <module>()\n      1 if __name__ == '__main__':\n      2     from ipykernel import kernelapp as app\n----> 3     app.launch_new_instance()\n\n...........................................................................\n/Users/reef/anaconda3/lib/python3.6/site-packages/traitlets/config/application.py in launch_instance(cls=<class 'ipykernel.kernelapp.IPKernelApp'>, argv=None, **kwargs={})\n    653 \n    654         If a global instance already exists, this reinitializes and starts it\n    655         \"\"\"\n    656         app = cls.instance(**kwargs)\n    657         app.initialize(argv)\n--> 658         app.start()\n        app.start = <bound method IPKernelApp.start of <ipykernel.kernelapp.IPKernelApp object>>\n    659 \n    660 #-----------------------------------------------------------------------------\n    661 # utility functions, for convenience\n    662 #-----------------------------------------------------------------------------\n\n...........................................................................\n/Users/reef/anaconda3/lib/python3.6/site-packages/ipykernel/kernelapp.py in start(self=<ipykernel.kernelapp.IPKernelApp object>)\n    481         if self.poller is not None:\n    482             self.poller.start()\n    483         self.kernel.start()\n    484         self.io_loop = ioloop.IOLoop.current()\n    485         try:\n--> 486             self.io_loop.start()\n        self.io_loop.start = <bound method PollIOLoop.start of <zmq.eventloop.ioloop.ZMQIOLoop object>>\n    487         except KeyboardInterrupt:\n    488             pass\n    489 \n    490 launch_new_instance = IPKernelApp.launch_instance\n\n...........................................................................\n/Users/reef/anaconda3/lib/python3.6/site-packages/tornado/ioloop.py in start(self=<zmq.eventloop.ioloop.ZMQIOLoop object>)\n    883                 self._events.update(event_pairs)\n    884                 while self._events:\n    885                     fd, events = self._events.popitem()\n    886                     try:\n    887                         fd_obj, handler_func = self._handlers[fd]\n--> 888                         handler_func(fd_obj, events)\n        handler_func = <function wrap.<locals>.null_wrapper>\n        fd_obj = <zmq.sugar.socket.Socket object>\n        events = 1\n    889                     except (OSError, IOError) as e:\n    890                         if errno_from_exception(e) == errno.EPIPE:\n    891                             # Happens when the client closes the connection\n    892                             pass\n\n...........................................................................\n/Users/reef/anaconda3/lib/python3.6/site-packages/tornado/stack_context.py in null_wrapper(*args=(<zmq.sugar.socket.Socket object>, 1), **kwargs={})\n    272         # Fast path when there are no active contexts.\n    273         def null_wrapper(*args, **kwargs):\n    274             try:\n    275                 current_state = _state.contexts\n    276                 _state.contexts = cap_contexts[0]\n--> 277                 return fn(*args, **kwargs)\n        args = (<zmq.sugar.socket.Socket object>, 1)\n        kwargs = {}\n    278             finally:\n    279                 _state.contexts = current_state\n    280         null_wrapper._wrapped = True\n    281         return null_wrapper\n\n...........................................................................\n/Users/reef/anaconda3/lib/python3.6/site-packages/zmq/eventloop/zmqstream.py in _handle_events(self=<zmq.eventloop.zmqstream.ZMQStream object>, fd=<zmq.sugar.socket.Socket object>, events=1)\n    445             return\n    446         zmq_events = self.socket.EVENTS\n    447         try:\n    448             # dispatch events:\n    449             if zmq_events & zmq.POLLIN and self.receiving():\n--> 450                 self._handle_recv()\n        self._handle_recv = <bound method ZMQStream._handle_recv of <zmq.eventloop.zmqstream.ZMQStream object>>\n    451                 if not self.socket:\n    452                     return\n    453             if zmq_events & zmq.POLLOUT and self.sending():\n    454                 self._handle_send()\n\n...........................................................................\n/Users/reef/anaconda3/lib/python3.6/site-packages/zmq/eventloop/zmqstream.py in _handle_recv(self=<zmq.eventloop.zmqstream.ZMQStream object>)\n    475             else:\n    476                 raise\n    477         else:\n    478             if self._recv_callback:\n    479                 callback = self._recv_callback\n--> 480                 self._run_callback(callback, msg)\n        self._run_callback = <bound method ZMQStream._run_callback of <zmq.eventloop.zmqstream.ZMQStream object>>\n        callback = <function wrap.<locals>.null_wrapper>\n        msg = [<zmq.sugar.frame.Frame object>, <zmq.sugar.frame.Frame object>, <zmq.sugar.frame.Frame object>, <zmq.sugar.frame.Frame object>, <zmq.sugar.frame.Frame object>, <zmq.sugar.frame.Frame object>, <zmq.sugar.frame.Frame object>]\n    481         \n    482 \n    483     def _handle_send(self):\n    484         \"\"\"Handle a send event.\"\"\"\n\n...........................................................................\n/Users/reef/anaconda3/lib/python3.6/site-packages/zmq/eventloop/zmqstream.py in _run_callback(self=<zmq.eventloop.zmqstream.ZMQStream object>, callback=<function wrap.<locals>.null_wrapper>, *args=([<zmq.sugar.frame.Frame object>, <zmq.sugar.frame.Frame object>, <zmq.sugar.frame.Frame object>, <zmq.sugar.frame.Frame object>, <zmq.sugar.frame.Frame object>, <zmq.sugar.frame.Frame object>, <zmq.sugar.frame.Frame object>],), **kwargs={})\n    427         close our socket.\"\"\"\n    428         try:\n    429             # Use a NullContext to ensure that all StackContexts are run\n    430             # inside our blanket exception handler rather than outside.\n    431             with stack_context.NullContext():\n--> 432                 callback(*args, **kwargs)\n        callback = <function wrap.<locals>.null_wrapper>\n        args = ([<zmq.sugar.frame.Frame object>, <zmq.sugar.frame.Frame object>, <zmq.sugar.frame.Frame object>, <zmq.sugar.frame.Frame object>, <zmq.sugar.frame.Frame object>, <zmq.sugar.frame.Frame object>, <zmq.sugar.frame.Frame object>],)\n        kwargs = {}\n    433         except:\n    434             gen_log.error(\"Uncaught exception in ZMQStream callback\",\n    435                           exc_info=True)\n    436             # Re-raise the exception so that IOLoop.handle_callback_exception\n\n...........................................................................\n/Users/reef/anaconda3/lib/python3.6/site-packages/tornado/stack_context.py in null_wrapper(*args=([<zmq.sugar.frame.Frame object>, <zmq.sugar.frame.Frame object>, <zmq.sugar.frame.Frame object>, <zmq.sugar.frame.Frame object>, <zmq.sugar.frame.Frame object>, <zmq.sugar.frame.Frame object>, <zmq.sugar.frame.Frame object>],), **kwargs={})\n    272         # Fast path when there are no active contexts.\n    273         def null_wrapper(*args, **kwargs):\n    274             try:\n    275                 current_state = _state.contexts\n    276                 _state.contexts = cap_contexts[0]\n--> 277                 return fn(*args, **kwargs)\n        args = ([<zmq.sugar.frame.Frame object>, <zmq.sugar.frame.Frame object>, <zmq.sugar.frame.Frame object>, <zmq.sugar.frame.Frame object>, <zmq.sugar.frame.Frame object>, <zmq.sugar.frame.Frame object>, <zmq.sugar.frame.Frame object>],)\n        kwargs = {}\n    278             finally:\n    279                 _state.contexts = current_state\n    280         null_wrapper._wrapped = True\n    281         return null_wrapper\n\n...........................................................................\n/Users/reef/anaconda3/lib/python3.6/site-packages/ipykernel/kernelbase.py in dispatcher(msg=[<zmq.sugar.frame.Frame object>, <zmq.sugar.frame.Frame object>, <zmq.sugar.frame.Frame object>, <zmq.sugar.frame.Frame object>, <zmq.sugar.frame.Frame object>, <zmq.sugar.frame.Frame object>, <zmq.sugar.frame.Frame object>])\n    278         if self.control_stream:\n    279             self.control_stream.on_recv(self.dispatch_control, copy=False)\n    280 \n    281         def make_dispatcher(stream):\n    282             def dispatcher(msg):\n--> 283                 return self.dispatch_shell(stream, msg)\n        msg = [<zmq.sugar.frame.Frame object>, <zmq.sugar.frame.Frame object>, <zmq.sugar.frame.Frame object>, <zmq.sugar.frame.Frame object>, <zmq.sugar.frame.Frame object>, <zmq.sugar.frame.Frame object>, <zmq.sugar.frame.Frame object>]\n    284             return dispatcher\n    285 \n    286         for s in self.shell_streams:\n    287             s.on_recv(make_dispatcher(s), copy=False)\n\n...........................................................................\n/Users/reef/anaconda3/lib/python3.6/site-packages/ipykernel/kernelbase.py in dispatch_shell(self=<ipykernel.ipkernel.IPythonKernel object>, stream=<zmq.eventloop.zmqstream.ZMQStream object>, msg={'buffers': [], 'content': {'allow_stdin': True, 'code': '# A:\\nwith model:\\n    trace = pm.sample(10000)', 'silent': False, 'stop_on_error': True, 'store_history': True, 'user_expressions': {}}, 'header': {'date': datetime.datetime(2018, 3, 28, 18, 4, 54, 462624, tzinfo=tzutc()), 'msg_id': '7ca9d1015b3440aa93bf0c5e080f762d', 'msg_type': 'execute_request', 'session': 'f622455d736648a190622fa76f732796', 'username': 'username', 'version': '5.2'}, 'metadata': {}, 'msg_id': '7ca9d1015b3440aa93bf0c5e080f762d', 'msg_type': 'execute_request', 'parent_header': {}})\n    228             self.log.warn(\"Unknown message type: %r\", msg_type)\n    229         else:\n    230             self.log.debug(\"%s: %s\", msg_type, msg)\n    231             self.pre_handler_hook()\n    232             try:\n--> 233                 handler(stream, idents, msg)\n        handler = <bound method Kernel.execute_request of <ipykernel.ipkernel.IPythonKernel object>>\n        stream = <zmq.eventloop.zmqstream.ZMQStream object>\n        idents = [b'f622455d736648a190622fa76f732796']\n        msg = {'buffers': [], 'content': {'allow_stdin': True, 'code': '# A:\\nwith model:\\n    trace = pm.sample(10000)', 'silent': False, 'stop_on_error': True, 'store_history': True, 'user_expressions': {}}, 'header': {'date': datetime.datetime(2018, 3, 28, 18, 4, 54, 462624, tzinfo=tzutc()), 'msg_id': '7ca9d1015b3440aa93bf0c5e080f762d', 'msg_type': 'execute_request', 'session': 'f622455d736648a190622fa76f732796', 'username': 'username', 'version': '5.2'}, 'metadata': {}, 'msg_id': '7ca9d1015b3440aa93bf0c5e080f762d', 'msg_type': 'execute_request', 'parent_header': {}}\n    234             except Exception:\n    235                 self.log.error(\"Exception in message handler:\", exc_info=True)\n    236             finally:\n    237                 self.post_handler_hook()\n\n...........................................................................\n/Users/reef/anaconda3/lib/python3.6/site-packages/ipykernel/kernelbase.py in execute_request(self=<ipykernel.ipkernel.IPythonKernel object>, stream=<zmq.eventloop.zmqstream.ZMQStream object>, ident=[b'f622455d736648a190622fa76f732796'], parent={'buffers': [], 'content': {'allow_stdin': True, 'code': '# A:\\nwith model:\\n    trace = pm.sample(10000)', 'silent': False, 'stop_on_error': True, 'store_history': True, 'user_expressions': {}}, 'header': {'date': datetime.datetime(2018, 3, 28, 18, 4, 54, 462624, tzinfo=tzutc()), 'msg_id': '7ca9d1015b3440aa93bf0c5e080f762d', 'msg_type': 'execute_request', 'session': 'f622455d736648a190622fa76f732796', 'username': 'username', 'version': '5.2'}, 'metadata': {}, 'msg_id': '7ca9d1015b3440aa93bf0c5e080f762d', 'msg_type': 'execute_request', 'parent_header': {}})\n    394         if not silent:\n    395             self.execution_count += 1\n    396             self._publish_execute_input(code, parent, self.execution_count)\n    397 \n    398         reply_content = self.do_execute(code, silent, store_history,\n--> 399                                         user_expressions, allow_stdin)\n        user_expressions = {}\n        allow_stdin = True\n    400 \n    401         # Flush output before sending the reply.\n    402         sys.stdout.flush()\n    403         sys.stderr.flush()\n\n...........................................................................\n/Users/reef/anaconda3/lib/python3.6/site-packages/ipykernel/ipkernel.py in do_execute(self=<ipykernel.ipkernel.IPythonKernel object>, code='# A:\\nwith model:\\n    trace = pm.sample(10000)', silent=False, store_history=True, user_expressions={}, allow_stdin=True)\n    203 \n    204         self._forward_input(allow_stdin)\n    205 \n    206         reply_content = {}\n    207         try:\n--> 208             res = shell.run_cell(code, store_history=store_history, silent=silent)\n        res = undefined\n        shell.run_cell = <bound method ZMQInteractiveShell.run_cell of <ipykernel.zmqshell.ZMQInteractiveShell object>>\n        code = '# A:\\nwith model:\\n    trace = pm.sample(10000)'\n        store_history = True\n        silent = False\n    209         finally:\n    210             self._restore_input()\n    211 \n    212         if res.error_before_exec is not None:\n\n...........................................................................\n/Users/reef/anaconda3/lib/python3.6/site-packages/ipykernel/zmqshell.py in run_cell(self=<ipykernel.zmqshell.ZMQInteractiveShell object>, *args=('# A:\\nwith model:\\n    trace = pm.sample(10000)',), **kwargs={'silent': False, 'store_history': True})\n    532             )\n    533         self.payload_manager.write_payload(payload)\n    534 \n    535     def run_cell(self, *args, **kwargs):\n    536         self._last_traceback = None\n--> 537         return super(ZMQInteractiveShell, self).run_cell(*args, **kwargs)\n        self.run_cell = <bound method ZMQInteractiveShell.run_cell of <ipykernel.zmqshell.ZMQInteractiveShell object>>\n        args = ('# A:\\nwith model:\\n    trace = pm.sample(10000)',)\n        kwargs = {'silent': False, 'store_history': True}\n    538 \n    539     def _showtraceback(self, etype, evalue, stb):\n    540         # try to preserve ordering of tracebacks and print statements\n    541         sys.stdout.flush()\n\n...........................................................................\n/Users/reef/anaconda3/lib/python3.6/site-packages/IPython/core/interactiveshell.py in run_cell(self=<ipykernel.zmqshell.ZMQInteractiveShell object>, raw_cell='# A:\\nwith model:\\n    trace = pm.sample(10000)', store_history=True, silent=False, shell_futures=True)\n   2723                 self.displayhook.exec_result = result\n   2724 \n   2725                 # Execute the user code\n   2726                 interactivity = \"none\" if silent else self.ast_node_interactivity\n   2727                 has_raised = self.run_ast_nodes(code_ast.body, cell_name,\n-> 2728                    interactivity=interactivity, compiler=compiler, result=result)\n        interactivity = 'last_expr'\n        compiler = <IPython.core.compilerop.CachingCompiler object>\n   2729                 \n   2730                 self.last_execution_succeeded = not has_raised\n   2731                 self.last_execution_result = result\n   2732 \n\n...........................................................................\n/Users/reef/anaconda3/lib/python3.6/site-packages/IPython/core/interactiveshell.py in run_ast_nodes(self=<ipykernel.zmqshell.ZMQInteractiveShell object>, nodelist=[<_ast.With object>], cell_name='<ipython-input-81-01a9e3a75e03>', interactivity='none', compiler=<IPython.core.compilerop.CachingCompiler object>, result=<ExecutionResult object at 1c25122e48, execution..._before_exec=None error_in_exec=None result=None>)\n   2845 \n   2846         try:\n   2847             for i, node in enumerate(to_run_exec):\n   2848                 mod = ast.Module([node])\n   2849                 code = compiler(mod, cell_name, \"exec\")\n-> 2850                 if self.run_code(code, result):\n        self.run_code = <bound method InteractiveShell.run_code of <ipykernel.zmqshell.ZMQInteractiveShell object>>\n        code = <code object <module> at 0x1c20dfb930, file \"<ipython-input-81-01a9e3a75e03>\", line 2>\n        result = <ExecutionResult object at 1c25122e48, execution..._before_exec=None error_in_exec=None result=None>\n   2851                     return True\n   2852 \n   2853             for i, node in enumerate(to_run_interactive):\n   2854                 mod = ast.Interactive([node])\n\n...........................................................................\n/Users/reef/anaconda3/lib/python3.6/site-packages/IPython/core/interactiveshell.py in run_code(self=<ipykernel.zmqshell.ZMQInteractiveShell object>, code_obj=<code object <module> at 0x1c20dfb930, file \"<ipython-input-81-01a9e3a75e03>\", line 2>, result=<ExecutionResult object at 1c25122e48, execution..._before_exec=None error_in_exec=None result=None>)\n   2905         outflag = True  # happens in more places, so it's easier as default\n   2906         try:\n   2907             try:\n   2908                 self.hooks.pre_run_code_hook()\n   2909                 #rprint('Running code', repr(code_obj)) # dbg\n-> 2910                 exec(code_obj, self.user_global_ns, self.user_ns)\n        code_obj = <code object <module> at 0x1c20dfb930, file \"<ipython-input-81-01a9e3a75e03>\", line 2>\n        self.user_global_ns = {'CountVectorizer': <class 'sklearn.feature_extraction.text.CountVectorizer'>, 'In': ['', \"import pandas as pd\\nimport numpy as np\\nimport se..._ipython().run_line_magic('matplotlib', 'inline')\", \"import pandas as pd\\nimport numpy as np\\nimport se..._ipython().run_line_magic('matplotlib', 'inline')\", \"senate = pd.read_csv('./data/senate.csv')\", 'senate.head()', 'senate.info()', \"senate.sort_values('the_ratio', ascending=False).head()\", 'senate.dropna(inplace=True)', \"senate.sort_values('the_ratio', ascending=False).head()\", \"senate['z'] = np.log1p(senate.the_ratio)\", 'senate.head()', \"senate.sort_values('the_ratio', ascending=False).head()\", \"senate[senate['z'] > 0 ].the_ratio.hist(bins=100)\", \"senate[senate['z'] > 0 ].the_ratio.hist(bins=50)\", \"senate[senate['z'] > 0 ].the_ratio.hist(bins=100)\", 'senate.z.mean()', 'senate.z.var()', \"z_dem = senate[senate['party'] =='Democratic'].z...))\\nprint('Republican:' z_rep.mean(), z_rep.var())\", \"z_dem = senate[senate['party'] =='Democratic'].z...))\\nprint('Republican': z_rep.mean(), z_rep.var())\", \"z_dem = senate[senate['party'] =='Democratic'].z...))\\nprint('Republican', z_rep.mean(), z_rep.var())\", ...], 'LabelEncoder': <class 'sklearn.preprocessing.label.LabelEncoder'>, 'Out': {4:                        created_at        id_str ...  0.168766  \n4  New York  Democratic   0.235612  , 6:                             created_at        id...l cassidy     Louisiana  Republican   96.000000  , 8:                             created_at        id...l cassidy     Louisiana  Republican   96.000000  , 10:                        created_at        id_str ...  \n4  New York  Democratic   0.235612  0.211566  , 11:                             created_at        id... 4.691348  \n36978   4.579852  \n15547   4.574711  , 12: <matplotlib.axes._subplots.AxesSubplot object>, 13: <matplotlib.axes._subplots.AxesSubplot object>, 14: <matplotlib.axes._subplots.AxesSubplot object>, 15: 0.36119891517670105, 16: 0.20235818469400238, ...}, 'PorterStemmer': <class 'nltk.stem.porter.PorterStemmer'>, 'RegexpTokenizer': <class 'nltk.tokenize.regexp.RegexpTokenizer'>, '_': 0.6773362343539384, '_10':                        created_at        id_str ...  \n4  New York  Democratic   0.235612  0.211566  , '_11':                             created_at        id... 4.691348  \n36978   4.579852  \n15547   4.574711  , '_12': <matplotlib.axes._subplots.AxesSubplot object>, ...}\n        self.user_ns = {'CountVectorizer': <class 'sklearn.feature_extraction.text.CountVectorizer'>, 'In': ['', \"import pandas as pd\\nimport numpy as np\\nimport se..._ipython().run_line_magic('matplotlib', 'inline')\", \"import pandas as pd\\nimport numpy as np\\nimport se..._ipython().run_line_magic('matplotlib', 'inline')\", \"senate = pd.read_csv('./data/senate.csv')\", 'senate.head()', 'senate.info()', \"senate.sort_values('the_ratio', ascending=False).head()\", 'senate.dropna(inplace=True)', \"senate.sort_values('the_ratio', ascending=False).head()\", \"senate['z'] = np.log1p(senate.the_ratio)\", 'senate.head()', \"senate.sort_values('the_ratio', ascending=False).head()\", \"senate[senate['z'] > 0 ].the_ratio.hist(bins=100)\", \"senate[senate['z'] > 0 ].the_ratio.hist(bins=50)\", \"senate[senate['z'] > 0 ].the_ratio.hist(bins=100)\", 'senate.z.mean()', 'senate.z.var()', \"z_dem = senate[senate['party'] =='Democratic'].z...))\\nprint('Republican:' z_rep.mean(), z_rep.var())\", \"z_dem = senate[senate['party'] =='Democratic'].z...))\\nprint('Republican': z_rep.mean(), z_rep.var())\", \"z_dem = senate[senate['party'] =='Democratic'].z...))\\nprint('Republican', z_rep.mean(), z_rep.var())\", ...], 'LabelEncoder': <class 'sklearn.preprocessing.label.LabelEncoder'>, 'Out': {4:                        created_at        id_str ...  0.168766  \n4  New York  Democratic   0.235612  , 6:                             created_at        id...l cassidy     Louisiana  Republican   96.000000  , 8:                             created_at        id...l cassidy     Louisiana  Republican   96.000000  , 10:                        created_at        id_str ...  \n4  New York  Democratic   0.235612  0.211566  , 11:                             created_at        id... 4.691348  \n36978   4.579852  \n15547   4.574711  , 12: <matplotlib.axes._subplots.AxesSubplot object>, 13: <matplotlib.axes._subplots.AxesSubplot object>, 14: <matplotlib.axes._subplots.AxesSubplot object>, 15: 0.36119891517670105, 16: 0.20235818469400238, ...}, 'PorterStemmer': <class 'nltk.stem.porter.PorterStemmer'>, 'RegexpTokenizer': <class 'nltk.tokenize.regexp.RegexpTokenizer'>, '_': 0.6773362343539384, '_10':                        created_at        id_str ...  \n4  New York  Democratic   0.235612  0.211566  , '_11':                             created_at        id... 4.691348  \n36978   4.579852  \n15547   4.574711  , '_12': <matplotlib.axes._subplots.AxesSubplot object>, ...}\n   2911             finally:\n   2912                 # Reset our crash handler in place\n   2913                 sys.excepthook = old_excepthook\n   2914         except SystemExit as e:\n\n...........................................................................\n/Users/reef/dsi/Projects/Capstone/<ipython-input-81-01a9e3a75e03> in <module>()\n      1 # A:\n      2 with model:\n----> 3     trace = pm.sample(10000)\n\n...........................................................................\n/Users/reef/anaconda3/lib/python3.6/site-packages/pymc3/sampling.py in sample(draws=10500, step=<pymc3.step_methods.hmc.nuts.NUTS object>, init='auto', n_init=200000, start=[{'ratio_dem_mean_log__': array(-3.85365685), 'ratio_dem_std_interval__': array(0.33251673), 'ratio_rep_mean_log__': array(-3.71459111), 'ratio_rep_std_interval__': array(0.53691369)}, {'ratio_dem_mean_log__': array(-3.51510421), 'ratio_dem_std_interval__': array(0.04972884), 'ratio_rep_mean_log__': array(-3.17318038), 'ratio_rep_std_interval__': array(0.32805788)}, {'ratio_dem_mean_log__': array(-2.71013003), 'ratio_dem_std_interval__': array(0.15764348), 'ratio_rep_mean_log__': array(-3.97791512), 'ratio_rep_std_interval__': array(-0.00471864)}, {'ratio_dem_mean_log__': array(-4.44220304), 'ratio_dem_std_interval__': array(-0.44182391), 'ratio_rep_mean_log__': array(-4.54057767), 'ratio_rep_std_interval__': array(-0.35444256)}], trace=None, chain_idx=0, chains=4, njobs=4, tune=500, nuts_kwargs=None, step_kwargs=None, progressbar=True, model=<pymc3.model.Model object>, random_seed=[606274741, 455790063, 425410589, 136584993], live_plot=False, discard_tuned_samples=True, live_plot_kwargs=None, compute_convergence_checks=True, **kwargs={})\n    414     parallel = njobs > 1 and chains > 1 and not has_population_samplers\n    415     if parallel:\n    416         _log.info('Multiprocess sampling ({} chains in {} jobs)'.format(chains, njobs))\n    417         _print_step_hierarchy(step)\n    418         try:\n--> 419             trace = _mp_sample(**sample_args)\n        trace = None\n        sample_args = {'chain': 0, 'chains': 4, 'draws': 10500, 'live_plot': False, 'live_plot_kwargs': None, 'model': <pymc3.model.Model object>, 'njobs': 4, 'progressbar': True, 'random_seed': [606274741, 455790063, 425410589, 136584993], 'start': [{'ratio_dem_mean_log__': array(-3.85365685), 'ratio_dem_std_interval__': array(0.33251673), 'ratio_rep_mean_log__': array(-3.71459111), 'ratio_rep_std_interval__': array(0.53691369)}, {'ratio_dem_mean_log__': array(-3.51510421), 'ratio_dem_std_interval__': array(0.04972884), 'ratio_rep_mean_log__': array(-3.17318038), 'ratio_rep_std_interval__': array(0.32805788)}, {'ratio_dem_mean_log__': array(-2.71013003), 'ratio_dem_std_interval__': array(0.15764348), 'ratio_rep_mean_log__': array(-3.97791512), 'ratio_rep_std_interval__': array(-0.00471864)}, {'ratio_dem_mean_log__': array(-4.44220304), 'ratio_dem_std_interval__': array(-0.44182391), 'ratio_rep_mean_log__': array(-4.54057767), 'ratio_rep_std_interval__': array(-0.35444256)}], ...}\n    420         except pickle.PickleError:\n    421             _log.warn(\"Could not pickle model, sampling singlethreaded.\")\n    422             _log.debug('Pickling error:', exec_info=True)\n    423             parallel = False\n\n...........................................................................\n/Users/reef/anaconda3/lib/python3.6/site-packages/pymc3/sampling.py in _mp_sample(**kwargs={'draws': 10500, 'live_plot': False, 'live_plot_kwargs': None, 'model': <pymc3.model.Model object>, 'step': <pymc3.step_methods.hmc.nuts.NUTS object>, 'trace': None, 'tune': 500})\n    944 \n    945     chain_nums = list(range(chain, chain + chains))\n    946     pbars = [kwargs.pop('progressbar')] + [False] * (chains - 1)\n    947     jobs = (delayed(_sample)(*args, **kwargs)\n    948             for args in zip(chain_nums, pbars, rseed, start))\n--> 949     traces = Parallel(n_jobs=njobs)(jobs)\n        traces = undefined\n        njobs = 4\n        jobs = <generator object _mp_sample.<locals>.<genexpr>>\n    950     return MultiTrace(traces)\n    951 \n    952 \n    953 def stop_tuning(step):\n\n...........................................................................\n/Users/reef/anaconda3/lib/python3.6/site-packages/joblib/parallel.py in __call__(self=Parallel(n_jobs=4), iterable=<generator object _mp_sample.<locals>.<genexpr>>)\n    784             if pre_dispatch == \"all\" or n_jobs == 1:\n    785                 # The iterable was consumed all at once by the above for loop.\n    786                 # No need to wait for async callbacks to trigger to\n    787                 # consumption.\n    788                 self._iterating = False\n--> 789             self.retrieve()\n        self.retrieve = <bound method Parallel.retrieve of Parallel(n_jobs=4)>\n    790             # Make sure that we get a last message telling us we are done\n    791             elapsed_time = time.time() - self._start_time\n    792             self._print('Done %3i out of %3i | elapsed: %s finished',\n    793                         (len(self._output), len(self._output),\n\n---------------------------------------------------------------------------\nSub-process traceback:\n---------------------------------------------------------------------------\nValueError                                         Wed Mar 28 14:05:01 2018\nPID: 12207                   Python 3.6.3: /Users/reef/anaconda3/bin/python\n...........................................................................\n/Users/reef/anaconda3/lib/python3.6/site-packages/joblib/parallel.py in __call__(self=<joblib.parallel.BatchedCalls object>)\n    126     def __init__(self, iterator_slice):\n    127         self.items = list(iterator_slice)\n    128         self._size = len(self.items)\n    129 \n    130     def __call__(self):\n--> 131         return [func(*args, **kwargs) for func, args, kwargs in self.items]\n        self.items = [(<function _sample>, (0, True, 606274741, {'ratio_dem_mean_log__': array(-3.85365685), 'ratio_dem_std_interval__': array(0.33251673), 'ratio_rep_mean_log__': array(-3.71459111), 'ratio_rep_std_interval__': array(0.53691369)}), {'draws': 10500, 'live_plot': False, 'live_plot_kwargs': None, 'model': <pymc3.model.Model object>, 'step': <pymc3.step_methods.hmc.nuts.NUTS object>, 'trace': None, 'tune': 500})]\n    132 \n    133     def __len__(self):\n    134         return self._size\n    135 \n\n...........................................................................\n/Users/reef/anaconda3/lib/python3.6/site-packages/joblib/parallel.py in <listcomp>(.0=<list_iterator object>)\n    126     def __init__(self, iterator_slice):\n    127         self.items = list(iterator_slice)\n    128         self._size = len(self.items)\n    129 \n    130     def __call__(self):\n--> 131         return [func(*args, **kwargs) for func, args, kwargs in self.items]\n        func = <function _sample>\n        args = (0, True, 606274741, {'ratio_dem_mean_log__': array(-3.85365685), 'ratio_dem_std_interval__': array(0.33251673), 'ratio_rep_mean_log__': array(-3.71459111), 'ratio_rep_std_interval__': array(0.53691369)})\n        kwargs = {'draws': 10500, 'live_plot': False, 'live_plot_kwargs': None, 'model': <pymc3.model.Model object>, 'step': <pymc3.step_methods.hmc.nuts.NUTS object>, 'trace': None, 'tune': 500}\n    132 \n    133     def __len__(self):\n    134         return self._size\n    135 \n\n...........................................................................\n/Users/reef/anaconda3/lib/python3.6/site-packages/pymc3/sampling.py in _sample(chain=0, progressbar=True, random_seed=606274741, start={'ratio_dem_mean_log__': array(-3.85365685), 'ratio_dem_std_interval__': array(0.33251673), 'ratio_rep_mean_log__': array(-3.71459111), 'ratio_rep_std_interval__': array(0.53691369)}, draws=10500, step=<pymc3.step_methods.hmc.nuts.NUTS object>, trace=None, tune=500, model=<pymc3.model.Model object>, live_plot=False, live_plot_kwargs=None, **kwargs={})\n    521                             tune, model, random_seed)\n    522     if progressbar:\n    523         sampling = tqdm(sampling, total=draws)\n    524     try:\n    525         strace = None\n--> 526         for it, strace in enumerate(sampling):\n        it = undefined\n        strace = None\n        sampling =   0%|          | 0/10500 [00:01<?, ?it/s]\n    527             if live_plot:\n    528                 if live_plot_kwargs is None:\n    529                     live_plot_kwargs = {}\n    530                 if it >= skip_first:\n\n...........................................................................\n/Users/reef/anaconda3/lib/python3.6/site-packages/tqdm/_tqdm.py in __iter__(self=  0%|          | 0/10500 [00:01<?, ?it/s])\n    948             except AttributeError:\n    949                 raise TqdmDeprecationWarning(\"\"\"\\\n    950 Please use `tqdm_gui(...)` instead of `tqdm(..., gui=True)`\n    951 \"\"\", fp_write=getattr(self.fp, 'write', sys.stderr.write))\n    952 \n--> 953             for obj in iterable:\n        obj = undefined\n        iterable = <generator object _iter_sample>\n    954                 yield obj\n    955                 # Update and possibly print the progressbar.\n    956                 # Note: does not call self.update(1) for speed optimisation.\n    957                 n += 1\n\n...........................................................................\n/Users/reef/anaconda3/lib/python3.6/site-packages/pymc3/sampling.py in _iter_sample(draws=10500, step=<pymc3.step_methods.hmc.nuts.NUTS object>, start={'ratio_dem_mean_log__': array(-3.85365685), 'ratio_dem_std_interval__': array(0.33251673), 'ratio_rep_mean_log__': array(-3.71459111), 'ratio_rep_std_interval__': array(0.53691369)}, trace=None, chain=0, tune=500, model=<pymc3.model.Model object>, random_seed=606274741)\n    619         step.tune = bool(tune)\n    620         for i in range(draws):\n    621             if i == tune:\n    622                 step = stop_tuning(step)\n    623             if step.generates_stats:\n--> 624                 point, states = step.step(point)\n        point = {'ratio_dem_mean_log__': array(-3.85365685), 'ratio_dem_std_interval__': array(0.33251673), 'ratio_rep_mean_log__': array(-3.71459111), 'ratio_rep_std_interval__': array(0.53691369)}\n        states = undefined\n        step.step = <bound method GradientSharedStep.step of <pymc3.step_methods.hmc.nuts.NUTS object>>\n    625                 if strace.supports_sampler_stats:\n    626                     strace.record(point, states)\n    627                 else:\n    628                     strace.record(point)\n\n...........................................................................\n/Users/reef/anaconda3/lib/python3.6/site-packages/pymc3/step_methods/arraystep.py in step(self=<pymc3.step_methods.hmc.nuts.NUTS object>, point={'ratio_dem_mean_log__': array(-3.85365685), 'ratio_dem_std_interval__': array(0.33251673), 'ratio_rep_mean_log__': array(-3.71459111), 'ratio_rep_std_interval__': array(0.53691369)})\n    217     def step(self, point):\n    218         self._logp_dlogp_func.set_extra_values(point)\n    219         array = self._logp_dlogp_func.dict_to_array(point)\n    220 \n    221         if self.generates_stats:\n--> 222             apoint, stats = self.astep(array)\n        apoint = undefined\n        stats = undefined\n        self.astep = <bound method BaseHMC.astep of <pymc3.step_methods.hmc.nuts.NUTS object>>\n        array = array([ 0.53691369,  0.33251673, -3.71459111, -3.85365685])\n    223             point = self._logp_dlogp_func.array_to_full_dict(apoint)\n    224             return point, stats\n    225         else:\n    226             apoint = self.astep(array)\n\n...........................................................................\n/Users/reef/anaconda3/lib/python3.6/site-packages/pymc3/step_methods/hmc/base_hmc.py in astep(self=<pymc3.step_methods.hmc.nuts.NUTS object>, q0=array([ 0.53691369,  0.33251673, -3.71459111, -3.85365685]))\n    112         start = self.integrator.compute_state(q0, p0)\n    113 \n    114         if not np.isfinite(start.energy):\n    115             self.potential.raise_ok()\n    116             raise ValueError('Bad initial energy: %s. The model '\n--> 117                              'might be misspecified.' % start.energy)\n        start.energy = inf\n    118 \n    119         adapt_step = self.tune and self.adapt_step_size\n    120         step_size = self.step_adapt.current(adapt_step)\n    121         self.step_size = step_size\n\nValueError: Bad initial energy: inf. The model might be misspecified.\n___________________________________________________________________________",
     "output_type": "error",
     "traceback": [
      "\u001b[0;31m---------------------------------------------------------------------------\u001b[0m",
      "\u001b[0;31mRemoteTraceback\u001b[0m                           Traceback (most recent call last)",
      "\u001b[0;31mRemoteTraceback\u001b[0m: \n\"\"\"\nTraceback (most recent call last):\n  File \"/Users/reef/anaconda3/lib/python3.6/site-packages/joblib/_parallel_backends.py\", line 350, in __call__\n    return self.func(*args, **kwargs)\n  File \"/Users/reef/anaconda3/lib/python3.6/site-packages/joblib/parallel.py\", line 131, in __call__\n    return [func(*args, **kwargs) for func, args, kwargs in self.items]\n  File \"/Users/reef/anaconda3/lib/python3.6/site-packages/joblib/parallel.py\", line 131, in <listcomp>\n    return [func(*args, **kwargs) for func, args, kwargs in self.items]\n  File \"/Users/reef/anaconda3/lib/python3.6/site-packages/pymc3/sampling.py\", line 526, in _sample\n    for it, strace in enumerate(sampling):\n  File \"/Users/reef/anaconda3/lib/python3.6/site-packages/tqdm/_tqdm.py\", line 953, in __iter__\n    for obj in iterable:\n  File \"/Users/reef/anaconda3/lib/python3.6/site-packages/pymc3/sampling.py\", line 624, in _iter_sample\n    point, states = step.step(point)\n  File \"/Users/reef/anaconda3/lib/python3.6/site-packages/pymc3/step_methods/arraystep.py\", line 222, in step\n    apoint, stats = self.astep(array)\n  File \"/Users/reef/anaconda3/lib/python3.6/site-packages/pymc3/step_methods/hmc/base_hmc.py\", line 117, in astep\n    'might be misspecified.' % start.energy)\nValueError: Bad initial energy: inf. The model might be misspecified.\n\nDuring handling of the above exception, another exception occurred:\n\nTraceback (most recent call last):\n  File \"/Users/reef/anaconda3/lib/python3.6/multiprocessing/pool.py\", line 119, in worker\n    result = (True, func(*args, **kwds))\n  File \"/Users/reef/anaconda3/lib/python3.6/site-packages/joblib/_parallel_backends.py\", line 359, in __call__\n    raise TransportableException(text, e_type)\njoblib.my_exceptions.TransportableException: TransportableException\n___________________________________________________________________________\nValueError                                         Wed Mar 28 14:05:01 2018\nPID: 12207                   Python 3.6.3: /Users/reef/anaconda3/bin/python\n...........................................................................\n/Users/reef/anaconda3/lib/python3.6/site-packages/joblib/parallel.py in __call__(self=<joblib.parallel.BatchedCalls object>)\n    126     def __init__(self, iterator_slice):\n    127         self.items = list(iterator_slice)\n    128         self._size = len(self.items)\n    129 \n    130     def __call__(self):\n--> 131         return [func(*args, **kwargs) for func, args, kwargs in self.items]\n        self.items = [(<function _sample>, (0, True, 606274741, {'ratio_dem_mean_log__': array(-3.85365685), 'ratio_dem_std_interval__': array(0.33251673), 'ratio_rep_mean_log__': array(-3.71459111), 'ratio_rep_std_interval__': array(0.53691369)}), {'draws': 10500, 'live_plot': False, 'live_plot_kwargs': None, 'model': <pymc3.model.Model object>, 'step': <pymc3.step_methods.hmc.nuts.NUTS object>, 'trace': None, 'tune': 500})]\n    132 \n    133     def __len__(self):\n    134         return self._size\n    135 \n\n...........................................................................\n/Users/reef/anaconda3/lib/python3.6/site-packages/joblib/parallel.py in <listcomp>(.0=<list_iterator object>)\n    126     def __init__(self, iterator_slice):\n    127         self.items = list(iterator_slice)\n    128         self._size = len(self.items)\n    129 \n    130     def __call__(self):\n--> 131         return [func(*args, **kwargs) for func, args, kwargs in self.items]\n        func = <function _sample>\n        args = (0, True, 606274741, {'ratio_dem_mean_log__': array(-3.85365685), 'ratio_dem_std_interval__': array(0.33251673), 'ratio_rep_mean_log__': array(-3.71459111), 'ratio_rep_std_interval__': array(0.53691369)})\n        kwargs = {'draws': 10500, 'live_plot': False, 'live_plot_kwargs': None, 'model': <pymc3.model.Model object>, 'step': <pymc3.step_methods.hmc.nuts.NUTS object>, 'trace': None, 'tune': 500}\n    132 \n    133     def __len__(self):\n    134         return self._size\n    135 \n\n...........................................................................\n/Users/reef/anaconda3/lib/python3.6/site-packages/pymc3/sampling.py in _sample(chain=0, progressbar=True, random_seed=606274741, start={'ratio_dem_mean_log__': array(-3.85365685), 'ratio_dem_std_interval__': array(0.33251673), 'ratio_rep_mean_log__': array(-3.71459111), 'ratio_rep_std_interval__': array(0.53691369)}, draws=10500, step=<pymc3.step_methods.hmc.nuts.NUTS object>, trace=None, tune=500, model=<pymc3.model.Model object>, live_plot=False, live_plot_kwargs=None, **kwargs={})\n    521                             tune, model, random_seed)\n    522     if progressbar:\n    523         sampling = tqdm(sampling, total=draws)\n    524     try:\n    525         strace = None\n--> 526         for it, strace in enumerate(sampling):\n        it = undefined\n        strace = None\n        sampling =   0%|          | 0/10500 [00:01<?, ?it/s]\n    527             if live_plot:\n    528                 if live_plot_kwargs is None:\n    529                     live_plot_kwargs = {}\n    530                 if it >= skip_first:\n\n...........................................................................\n/Users/reef/anaconda3/lib/python3.6/site-packages/tqdm/_tqdm.py in __iter__(self=  0%|          | 0/10500 [00:01<?, ?it/s])\n    948             except AttributeError:\n    949                 raise TqdmDeprecationWarning(\"\"\"\\\n    950 Please use `tqdm_gui(...)` instead of `tqdm(..., gui=True)`\n    951 \"\"\", fp_write=getattr(self.fp, 'write', sys.stderr.write))\n    952 \n--> 953             for obj in iterable:\n        obj = undefined\n        iterable = <generator object _iter_sample>\n    954                 yield obj\n    955                 # Update and possibly print the progressbar.\n    956                 # Note: does not call self.update(1) for speed optimisation.\n    957                 n += 1\n\n...........................................................................\n/Users/reef/anaconda3/lib/python3.6/site-packages/pymc3/sampling.py in _iter_sample(draws=10500, step=<pymc3.step_methods.hmc.nuts.NUTS object>, start={'ratio_dem_mean_log__': array(-3.85365685), 'ratio_dem_std_interval__': array(0.33251673), 'ratio_rep_mean_log__': array(-3.71459111), 'ratio_rep_std_interval__': array(0.53691369)}, trace=None, chain=0, tune=500, model=<pymc3.model.Model object>, random_seed=606274741)\n    619         step.tune = bool(tune)\n    620         for i in range(draws):\n    621             if i == tune:\n    622                 step = stop_tuning(step)\n    623             if step.generates_stats:\n--> 624                 point, states = step.step(point)\n        point = {'ratio_dem_mean_log__': array(-3.85365685), 'ratio_dem_std_interval__': array(0.33251673), 'ratio_rep_mean_log__': array(-3.71459111), 'ratio_rep_std_interval__': array(0.53691369)}\n        states = undefined\n        step.step = <bound method GradientSharedStep.step of <pymc3.step_methods.hmc.nuts.NUTS object>>\n    625                 if strace.supports_sampler_stats:\n    626                     strace.record(point, states)\n    627                 else:\n    628                     strace.record(point)\n\n...........................................................................\n/Users/reef/anaconda3/lib/python3.6/site-packages/pymc3/step_methods/arraystep.py in step(self=<pymc3.step_methods.hmc.nuts.NUTS object>, point={'ratio_dem_mean_log__': array(-3.85365685), 'ratio_dem_std_interval__': array(0.33251673), 'ratio_rep_mean_log__': array(-3.71459111), 'ratio_rep_std_interval__': array(0.53691369)})\n    217     def step(self, point):\n    218         self._logp_dlogp_func.set_extra_values(point)\n    219         array = self._logp_dlogp_func.dict_to_array(point)\n    220 \n    221         if self.generates_stats:\n--> 222             apoint, stats = self.astep(array)\n        apoint = undefined\n        stats = undefined\n        self.astep = <bound method BaseHMC.astep of <pymc3.step_methods.hmc.nuts.NUTS object>>\n        array = array([ 0.53691369,  0.33251673, -3.71459111, -3.85365685])\n    223             point = self._logp_dlogp_func.array_to_full_dict(apoint)\n    224             return point, stats\n    225         else:\n    226             apoint = self.astep(array)\n\n...........................................................................\n/Users/reef/anaconda3/lib/python3.6/site-packages/pymc3/step_methods/hmc/base_hmc.py in astep(self=<pymc3.step_methods.hmc.nuts.NUTS object>, q0=array([ 0.53691369,  0.33251673, -3.71459111, -3.85365685]))\n    112         start = self.integrator.compute_state(q0, p0)\n    113 \n    114         if not np.isfinite(start.energy):\n    115             self.potential.raise_ok()\n    116             raise ValueError('Bad initial energy: %s. The model '\n--> 117                              'might be misspecified.' % start.energy)\n        start.energy = inf\n    118 \n    119         adapt_step = self.tune and self.adapt_step_size\n    120         step_size = self.step_adapt.current(adapt_step)\n    121         self.step_size = step_size\n\nValueError: Bad initial energy: inf. The model might be misspecified.\n___________________________________________________________________________\n\"\"\"",
      "\nThe above exception was the direct cause of the following exception:\n",
      "\u001b[0;31mTransportableException\u001b[0m                    Traceback (most recent call last)",
      "\u001b[0;32m~/anaconda3/lib/python3.6/site-packages/joblib/parallel.py\u001b[0m in \u001b[0;36mretrieve\u001b[0;34m(self)\u001b[0m\n\u001b[1;32m    698\u001b[0m                 \u001b[0;32mif\u001b[0m \u001b[0mgetattr\u001b[0m\u001b[0;34m(\u001b[0m\u001b[0mself\u001b[0m\u001b[0;34m.\u001b[0m\u001b[0m_backend\u001b[0m\u001b[0;34m,\u001b[0m \u001b[0;34m'supports_timeout'\u001b[0m\u001b[0;34m,\u001b[0m \u001b[0;32mFalse\u001b[0m\u001b[0;34m)\u001b[0m\u001b[0;34m:\u001b[0m\u001b[0;34m\u001b[0m\u001b[0m\n\u001b[0;32m--> 699\u001b[0;31m                     \u001b[0mself\u001b[0m\u001b[0;34m.\u001b[0m\u001b[0m_output\u001b[0m\u001b[0;34m.\u001b[0m\u001b[0mextend\u001b[0m\u001b[0;34m(\u001b[0m\u001b[0mjob\u001b[0m\u001b[0;34m.\u001b[0m\u001b[0mget\u001b[0m\u001b[0;34m(\u001b[0m\u001b[0mtimeout\u001b[0m\u001b[0;34m=\u001b[0m\u001b[0mself\u001b[0m\u001b[0;34m.\u001b[0m\u001b[0mtimeout\u001b[0m\u001b[0;34m)\u001b[0m\u001b[0;34m)\u001b[0m\u001b[0;34m\u001b[0m\u001b[0m\n\u001b[0m\u001b[1;32m    700\u001b[0m                 \u001b[0;32melse\u001b[0m\u001b[0;34m:\u001b[0m\u001b[0;34m\u001b[0m\u001b[0m\n",
      "\u001b[0;32m~/anaconda3/lib/python3.6/multiprocessing/pool.py\u001b[0m in \u001b[0;36mget\u001b[0;34m(self, timeout)\u001b[0m\n\u001b[1;32m    643\u001b[0m         \u001b[0;32melse\u001b[0m\u001b[0;34m:\u001b[0m\u001b[0;34m\u001b[0m\u001b[0m\n\u001b[0;32m--> 644\u001b[0;31m             \u001b[0;32mraise\u001b[0m \u001b[0mself\u001b[0m\u001b[0;34m.\u001b[0m\u001b[0m_value\u001b[0m\u001b[0;34m\u001b[0m\u001b[0m\n\u001b[0m\u001b[1;32m    645\u001b[0m \u001b[0;34m\u001b[0m\u001b[0m\n",
      "\u001b[0;31mTransportableException\u001b[0m: TransportableException\n___________________________________________________________________________\nValueError                                         Wed Mar 28 14:05:01 2018\nPID: 12207                   Python 3.6.3: /Users/reef/anaconda3/bin/python\n...........................................................................\n/Users/reef/anaconda3/lib/python3.6/site-packages/joblib/parallel.py in __call__(self=<joblib.parallel.BatchedCalls object>)\n    126     def __init__(self, iterator_slice):\n    127         self.items = list(iterator_slice)\n    128         self._size = len(self.items)\n    129 \n    130     def __call__(self):\n--> 131         return [func(*args, **kwargs) for func, args, kwargs in self.items]\n        self.items = [(<function _sample>, (0, True, 606274741, {'ratio_dem_mean_log__': array(-3.85365685), 'ratio_dem_std_interval__': array(0.33251673), 'ratio_rep_mean_log__': array(-3.71459111), 'ratio_rep_std_interval__': array(0.53691369)}), {'draws': 10500, 'live_plot': False, 'live_plot_kwargs': None, 'model': <pymc3.model.Model object>, 'step': <pymc3.step_methods.hmc.nuts.NUTS object>, 'trace': None, 'tune': 500})]\n    132 \n    133     def __len__(self):\n    134         return self._size\n    135 \n\n...........................................................................\n/Users/reef/anaconda3/lib/python3.6/site-packages/joblib/parallel.py in <listcomp>(.0=<list_iterator object>)\n    126     def __init__(self, iterator_slice):\n    127         self.items = list(iterator_slice)\n    128         self._size = len(self.items)\n    129 \n    130     def __call__(self):\n--> 131         return [func(*args, **kwargs) for func, args, kwargs in self.items]\n        func = <function _sample>\n        args = (0, True, 606274741, {'ratio_dem_mean_log__': array(-3.85365685), 'ratio_dem_std_interval__': array(0.33251673), 'ratio_rep_mean_log__': array(-3.71459111), 'ratio_rep_std_interval__': array(0.53691369)})\n        kwargs = {'draws': 10500, 'live_plot': False, 'live_plot_kwargs': None, 'model': <pymc3.model.Model object>, 'step': <pymc3.step_methods.hmc.nuts.NUTS object>, 'trace': None, 'tune': 500}\n    132 \n    133     def __len__(self):\n    134         return self._size\n    135 \n\n...........................................................................\n/Users/reef/anaconda3/lib/python3.6/site-packages/pymc3/sampling.py in _sample(chain=0, progressbar=True, random_seed=606274741, start={'ratio_dem_mean_log__': array(-3.85365685), 'ratio_dem_std_interval__': array(0.33251673), 'ratio_rep_mean_log__': array(-3.71459111), 'ratio_rep_std_interval__': array(0.53691369)}, draws=10500, step=<pymc3.step_methods.hmc.nuts.NUTS object>, trace=None, tune=500, model=<pymc3.model.Model object>, live_plot=False, live_plot_kwargs=None, **kwargs={})\n    521                             tune, model, random_seed)\n    522     if progressbar:\n    523         sampling = tqdm(sampling, total=draws)\n    524     try:\n    525         strace = None\n--> 526         for it, strace in enumerate(sampling):\n        it = undefined\n        strace = None\n        sampling =   0%|          | 0/10500 [00:01<?, ?it/s]\n    527             if live_plot:\n    528                 if live_plot_kwargs is None:\n    529                     live_plot_kwargs = {}\n    530                 if it >= skip_first:\n\n...........................................................................\n/Users/reef/anaconda3/lib/python3.6/site-packages/tqdm/_tqdm.py in __iter__(self=  0%|          | 0/10500 [00:01<?, ?it/s])\n    948             except AttributeError:\n    949                 raise TqdmDeprecationWarning(\"\"\"\\\n    950 Please use `tqdm_gui(...)` instead of `tqdm(..., gui=True)`\n    951 \"\"\", fp_write=getattr(self.fp, 'write', sys.stderr.write))\n    952 \n--> 953             for obj in iterable:\n        obj = undefined\n        iterable = <generator object _iter_sample>\n    954                 yield obj\n    955                 # Update and possibly print the progressbar.\n    956                 # Note: does not call self.update(1) for speed optimisation.\n    957                 n += 1\n\n...........................................................................\n/Users/reef/anaconda3/lib/python3.6/site-packages/pymc3/sampling.py in _iter_sample(draws=10500, step=<pymc3.step_methods.hmc.nuts.NUTS object>, start={'ratio_dem_mean_log__': array(-3.85365685), 'ratio_dem_std_interval__': array(0.33251673), 'ratio_rep_mean_log__': array(-3.71459111), 'ratio_rep_std_interval__': array(0.53691369)}, trace=None, chain=0, tune=500, model=<pymc3.model.Model object>, random_seed=606274741)\n    619         step.tune = bool(tune)\n    620         for i in range(draws):\n    621             if i == tune:\n    622                 step = stop_tuning(step)\n    623             if step.generates_stats:\n--> 624                 point, states = step.step(point)\n        point = {'ratio_dem_mean_log__': array(-3.85365685), 'ratio_dem_std_interval__': array(0.33251673), 'ratio_rep_mean_log__': array(-3.71459111), 'ratio_rep_std_interval__': array(0.53691369)}\n        states = undefined\n        step.step = <bound method GradientSharedStep.step of <pymc3.step_methods.hmc.nuts.NUTS object>>\n    625                 if strace.supports_sampler_stats:\n    626                     strace.record(point, states)\n    627                 else:\n    628                     strace.record(point)\n\n...........................................................................\n/Users/reef/anaconda3/lib/python3.6/site-packages/pymc3/step_methods/arraystep.py in step(self=<pymc3.step_methods.hmc.nuts.NUTS object>, point={'ratio_dem_mean_log__': array(-3.85365685), 'ratio_dem_std_interval__': array(0.33251673), 'ratio_rep_mean_log__': array(-3.71459111), 'ratio_rep_std_interval__': array(0.53691369)})\n    217     def step(self, point):\n    218         self._logp_dlogp_func.set_extra_values(point)\n    219         array = self._logp_dlogp_func.dict_to_array(point)\n    220 \n    221         if self.generates_stats:\n--> 222             apoint, stats = self.astep(array)\n        apoint = undefined\n        stats = undefined\n        self.astep = <bound method BaseHMC.astep of <pymc3.step_methods.hmc.nuts.NUTS object>>\n        array = array([ 0.53691369,  0.33251673, -3.71459111, -3.85365685])\n    223             point = self._logp_dlogp_func.array_to_full_dict(apoint)\n    224             return point, stats\n    225         else:\n    226             apoint = self.astep(array)\n\n...........................................................................\n/Users/reef/anaconda3/lib/python3.6/site-packages/pymc3/step_methods/hmc/base_hmc.py in astep(self=<pymc3.step_methods.hmc.nuts.NUTS object>, q0=array([ 0.53691369,  0.33251673, -3.71459111, -3.85365685]))\n    112         start = self.integrator.compute_state(q0, p0)\n    113 \n    114         if not np.isfinite(start.energy):\n    115             self.potential.raise_ok()\n    116             raise ValueError('Bad initial energy: %s. The model '\n--> 117                              'might be misspecified.' % start.energy)\n        start.energy = inf\n    118 \n    119         adapt_step = self.tune and self.adapt_step_size\n    120         step_size = self.step_adapt.current(adapt_step)\n    121         self.step_size = step_size\n\nValueError: Bad initial energy: inf. The model might be misspecified.\n___________________________________________________________________________",
      "\nDuring handling of the above exception, another exception occurred:\n",
      "\u001b[0;31mJoblibValueError\u001b[0m                          Traceback (most recent call last)",
      "\u001b[0;32m<ipython-input-81-01a9e3a75e03>\u001b[0m in \u001b[0;36m<module>\u001b[0;34m()\u001b[0m\n\u001b[1;32m      1\u001b[0m \u001b[0;31m# A:\u001b[0m\u001b[0;34m\u001b[0m\u001b[0;34m\u001b[0m\u001b[0m\n\u001b[1;32m      2\u001b[0m \u001b[0;32mwith\u001b[0m \u001b[0mmodel\u001b[0m\u001b[0;34m:\u001b[0m\u001b[0;34m\u001b[0m\u001b[0m\n\u001b[0;32m----> 3\u001b[0;31m     \u001b[0mtrace\u001b[0m \u001b[0;34m=\u001b[0m \u001b[0mpm\u001b[0m\u001b[0;34m.\u001b[0m\u001b[0msample\u001b[0m\u001b[0;34m(\u001b[0m\u001b[0;36m10000\u001b[0m\u001b[0;34m)\u001b[0m\u001b[0;34m\u001b[0m\u001b[0m\n\u001b[0m",
      "\u001b[0;32m~/anaconda3/lib/python3.6/site-packages/pymc3/sampling.py\u001b[0m in \u001b[0;36msample\u001b[0;34m(draws, step, init, n_init, start, trace, chain_idx, chains, njobs, tune, nuts_kwargs, step_kwargs, progressbar, model, random_seed, live_plot, discard_tuned_samples, live_plot_kwargs, compute_convergence_checks, **kwargs)\u001b[0m\n\u001b[1;32m    417\u001b[0m         \u001b[0m_print_step_hierarchy\u001b[0m\u001b[0;34m(\u001b[0m\u001b[0mstep\u001b[0m\u001b[0;34m)\u001b[0m\u001b[0;34m\u001b[0m\u001b[0m\n\u001b[1;32m    418\u001b[0m         \u001b[0;32mtry\u001b[0m\u001b[0;34m:\u001b[0m\u001b[0;34m\u001b[0m\u001b[0m\n\u001b[0;32m--> 419\u001b[0;31m             \u001b[0mtrace\u001b[0m \u001b[0;34m=\u001b[0m \u001b[0m_mp_sample\u001b[0m\u001b[0;34m(\u001b[0m\u001b[0;34m**\u001b[0m\u001b[0msample_args\u001b[0m\u001b[0;34m)\u001b[0m\u001b[0;34m\u001b[0m\u001b[0m\n\u001b[0m\u001b[1;32m    420\u001b[0m         \u001b[0;32mexcept\u001b[0m \u001b[0mpickle\u001b[0m\u001b[0;34m.\u001b[0m\u001b[0mPickleError\u001b[0m\u001b[0;34m:\u001b[0m\u001b[0;34m\u001b[0m\u001b[0m\n\u001b[1;32m    421\u001b[0m             \u001b[0m_log\u001b[0m\u001b[0;34m.\u001b[0m\u001b[0mwarn\u001b[0m\u001b[0;34m(\u001b[0m\u001b[0;34m\"Could not pickle model, sampling singlethreaded.\"\u001b[0m\u001b[0;34m)\u001b[0m\u001b[0;34m\u001b[0m\u001b[0m\n",
      "\u001b[0;32m~/anaconda3/lib/python3.6/site-packages/pymc3/sampling.py\u001b[0m in \u001b[0;36m_mp_sample\u001b[0;34m(**kwargs)\u001b[0m\n\u001b[1;32m    947\u001b[0m     jobs = (delayed(_sample)(*args, **kwargs)\n\u001b[1;32m    948\u001b[0m             for args in zip(chain_nums, pbars, rseed, start))\n\u001b[0;32m--> 949\u001b[0;31m     \u001b[0mtraces\u001b[0m \u001b[0;34m=\u001b[0m \u001b[0mParallel\u001b[0m\u001b[0;34m(\u001b[0m\u001b[0mn_jobs\u001b[0m\u001b[0;34m=\u001b[0m\u001b[0mnjobs\u001b[0m\u001b[0;34m)\u001b[0m\u001b[0;34m(\u001b[0m\u001b[0mjobs\u001b[0m\u001b[0;34m)\u001b[0m\u001b[0;34m\u001b[0m\u001b[0m\n\u001b[0m\u001b[1;32m    950\u001b[0m     \u001b[0;32mreturn\u001b[0m \u001b[0mMultiTrace\u001b[0m\u001b[0;34m(\u001b[0m\u001b[0mtraces\u001b[0m\u001b[0;34m)\u001b[0m\u001b[0;34m\u001b[0m\u001b[0m\n\u001b[1;32m    951\u001b[0m \u001b[0;34m\u001b[0m\u001b[0m\n",
      "\u001b[0;32m~/anaconda3/lib/python3.6/site-packages/joblib/parallel.py\u001b[0m in \u001b[0;36m__call__\u001b[0;34m(self, iterable)\u001b[0m\n\u001b[1;32m    787\u001b[0m                 \u001b[0;31m# consumption.\u001b[0m\u001b[0;34m\u001b[0m\u001b[0;34m\u001b[0m\u001b[0m\n\u001b[1;32m    788\u001b[0m                 \u001b[0mself\u001b[0m\u001b[0;34m.\u001b[0m\u001b[0m_iterating\u001b[0m \u001b[0;34m=\u001b[0m \u001b[0;32mFalse\u001b[0m\u001b[0;34m\u001b[0m\u001b[0m\n\u001b[0;32m--> 789\u001b[0;31m             \u001b[0mself\u001b[0m\u001b[0;34m.\u001b[0m\u001b[0mretrieve\u001b[0m\u001b[0;34m(\u001b[0m\u001b[0;34m)\u001b[0m\u001b[0;34m\u001b[0m\u001b[0m\n\u001b[0m\u001b[1;32m    790\u001b[0m             \u001b[0;31m# Make sure that we get a last message telling us we are done\u001b[0m\u001b[0;34m\u001b[0m\u001b[0;34m\u001b[0m\u001b[0m\n\u001b[1;32m    791\u001b[0m             \u001b[0melapsed_time\u001b[0m \u001b[0;34m=\u001b[0m \u001b[0mtime\u001b[0m\u001b[0;34m.\u001b[0m\u001b[0mtime\u001b[0m\u001b[0;34m(\u001b[0m\u001b[0;34m)\u001b[0m \u001b[0;34m-\u001b[0m \u001b[0mself\u001b[0m\u001b[0;34m.\u001b[0m\u001b[0m_start_time\u001b[0m\u001b[0;34m\u001b[0m\u001b[0m\n",
      "\u001b[0;32m~/anaconda3/lib/python3.6/site-packages/joblib/parallel.py\u001b[0m in \u001b[0;36mretrieve\u001b[0;34m(self)\u001b[0m\n\u001b[1;32m    738\u001b[0m                     \u001b[0mexception\u001b[0m \u001b[0;34m=\u001b[0m \u001b[0mexception_type\u001b[0m\u001b[0;34m(\u001b[0m\u001b[0mreport\u001b[0m\u001b[0;34m)\u001b[0m\u001b[0;34m\u001b[0m\u001b[0m\n\u001b[1;32m    739\u001b[0m \u001b[0;34m\u001b[0m\u001b[0m\n\u001b[0;32m--> 740\u001b[0;31m                     \u001b[0;32mraise\u001b[0m \u001b[0mexception\u001b[0m\u001b[0;34m\u001b[0m\u001b[0m\n\u001b[0m\u001b[1;32m    741\u001b[0m \u001b[0;34m\u001b[0m\u001b[0m\n\u001b[1;32m    742\u001b[0m     \u001b[0;32mdef\u001b[0m \u001b[0m__call__\u001b[0m\u001b[0;34m(\u001b[0m\u001b[0mself\u001b[0m\u001b[0;34m,\u001b[0m \u001b[0miterable\u001b[0m\u001b[0;34m)\u001b[0m\u001b[0;34m:\u001b[0m\u001b[0;34m\u001b[0m\u001b[0m\n",
      "\u001b[0;31mJoblibValueError\u001b[0m: JoblibValueError\n___________________________________________________________________________\nMultiprocessing exception:\n...........................................................................\n/Users/reef/anaconda3/lib/python3.6/runpy.py in _run_module_as_main(mod_name='ipykernel.__main__', alter_argv=1)\n    188         sys.exit(msg)\n    189     main_globals = sys.modules[\"__main__\"].__dict__\n    190     if alter_argv:\n    191         sys.argv[0] = mod_spec.origin\n    192     return _run_code(code, main_globals, None,\n--> 193                      \"__main__\", mod_spec)\n        mod_spec = ModuleSpec(name='ipykernel.__main__', loader=<_f...b/python3.6/site-packages/ipykernel/__main__.py')\n    194 \n    195 def run_module(mod_name, init_globals=None,\n    196                run_name=None, alter_sys=False):\n    197     \"\"\"Execute a module's code without importing it\n\n...........................................................................\n/Users/reef/anaconda3/lib/python3.6/runpy.py in _run_code(code=<code object <module> at 0x103cbc660, file \"/Use...3.6/site-packages/ipykernel/__main__.py\", line 1>, run_globals={'__annotations__': {}, '__builtins__': <module 'builtins' (built-in)>, '__cached__': '/Users/reef/anaconda3/lib/python3.6/site-packages/ipykernel/__pycache__/__main__.cpython-36.pyc', '__doc__': None, '__file__': '/Users/reef/anaconda3/lib/python3.6/site-packages/ipykernel/__main__.py', '__loader__': <_frozen_importlib_external.SourceFileLoader object>, '__name__': '__main__', '__package__': 'ipykernel', '__spec__': ModuleSpec(name='ipykernel.__main__', loader=<_f...b/python3.6/site-packages/ipykernel/__main__.py'), 'app': <module 'ipykernel.kernelapp' from '/Users/reef/.../python3.6/site-packages/ipykernel/kernelapp.py'>}, init_globals=None, mod_name='__main__', mod_spec=ModuleSpec(name='ipykernel.__main__', loader=<_f...b/python3.6/site-packages/ipykernel/__main__.py'), pkg_name='ipykernel', script_name=None)\n     80                        __cached__ = cached,\n     81                        __doc__ = None,\n     82                        __loader__ = loader,\n     83                        __package__ = pkg_name,\n     84                        __spec__ = mod_spec)\n---> 85     exec(code, run_globals)\n        code = <code object <module> at 0x103cbc660, file \"/Use...3.6/site-packages/ipykernel/__main__.py\", line 1>\n        run_globals = {'__annotations__': {}, '__builtins__': <module 'builtins' (built-in)>, '__cached__': '/Users/reef/anaconda3/lib/python3.6/site-packages/ipykernel/__pycache__/__main__.cpython-36.pyc', '__doc__': None, '__file__': '/Users/reef/anaconda3/lib/python3.6/site-packages/ipykernel/__main__.py', '__loader__': <_frozen_importlib_external.SourceFileLoader object>, '__name__': '__main__', '__package__': 'ipykernel', '__spec__': ModuleSpec(name='ipykernel.__main__', loader=<_f...b/python3.6/site-packages/ipykernel/__main__.py'), 'app': <module 'ipykernel.kernelapp' from '/Users/reef/.../python3.6/site-packages/ipykernel/kernelapp.py'>}\n     86     return run_globals\n     87 \n     88 def _run_module_code(code, init_globals=None,\n     89                     mod_name=None, mod_spec=None,\n\n...........................................................................\n/Users/reef/anaconda3/lib/python3.6/site-packages/ipykernel/__main__.py in <module>()\n      1 if __name__ == '__main__':\n      2     from ipykernel import kernelapp as app\n----> 3     app.launch_new_instance()\n\n...........................................................................\n/Users/reef/anaconda3/lib/python3.6/site-packages/traitlets/config/application.py in launch_instance(cls=<class 'ipykernel.kernelapp.IPKernelApp'>, argv=None, **kwargs={})\n    653 \n    654         If a global instance already exists, this reinitializes and starts it\n    655         \"\"\"\n    656         app = cls.instance(**kwargs)\n    657         app.initialize(argv)\n--> 658         app.start()\n        app.start = <bound method IPKernelApp.start of <ipykernel.kernelapp.IPKernelApp object>>\n    659 \n    660 #-----------------------------------------------------------------------------\n    661 # utility functions, for convenience\n    662 #-----------------------------------------------------------------------------\n\n...........................................................................\n/Users/reef/anaconda3/lib/python3.6/site-packages/ipykernel/kernelapp.py in start(self=<ipykernel.kernelapp.IPKernelApp object>)\n    481         if self.poller is not None:\n    482             self.poller.start()\n    483         self.kernel.start()\n    484         self.io_loop = ioloop.IOLoop.current()\n    485         try:\n--> 486             self.io_loop.start()\n        self.io_loop.start = <bound method PollIOLoop.start of <zmq.eventloop.ioloop.ZMQIOLoop object>>\n    487         except KeyboardInterrupt:\n    488             pass\n    489 \n    490 launch_new_instance = IPKernelApp.launch_instance\n\n...........................................................................\n/Users/reef/anaconda3/lib/python3.6/site-packages/tornado/ioloop.py in start(self=<zmq.eventloop.ioloop.ZMQIOLoop object>)\n    883                 self._events.update(event_pairs)\n    884                 while self._events:\n    885                     fd, events = self._events.popitem()\n    886                     try:\n    887                         fd_obj, handler_func = self._handlers[fd]\n--> 888                         handler_func(fd_obj, events)\n        handler_func = <function wrap.<locals>.null_wrapper>\n        fd_obj = <zmq.sugar.socket.Socket object>\n        events = 1\n    889                     except (OSError, IOError) as e:\n    890                         if errno_from_exception(e) == errno.EPIPE:\n    891                             # Happens when the client closes the connection\n    892                             pass\n\n...........................................................................\n/Users/reef/anaconda3/lib/python3.6/site-packages/tornado/stack_context.py in null_wrapper(*args=(<zmq.sugar.socket.Socket object>, 1), **kwargs={})\n    272         # Fast path when there are no active contexts.\n    273         def null_wrapper(*args, **kwargs):\n    274             try:\n    275                 current_state = _state.contexts\n    276                 _state.contexts = cap_contexts[0]\n--> 277                 return fn(*args, **kwargs)\n        args = (<zmq.sugar.socket.Socket object>, 1)\n        kwargs = {}\n    278             finally:\n    279                 _state.contexts = current_state\n    280         null_wrapper._wrapped = True\n    281         return null_wrapper\n\n...........................................................................\n/Users/reef/anaconda3/lib/python3.6/site-packages/zmq/eventloop/zmqstream.py in _handle_events(self=<zmq.eventloop.zmqstream.ZMQStream object>, fd=<zmq.sugar.socket.Socket object>, events=1)\n    445             return\n    446         zmq_events = self.socket.EVENTS\n    447         try:\n    448             # dispatch events:\n    449             if zmq_events & zmq.POLLIN and self.receiving():\n--> 450                 self._handle_recv()\n        self._handle_recv = <bound method ZMQStream._handle_recv of <zmq.eventloop.zmqstream.ZMQStream object>>\n    451                 if not self.socket:\n    452                     return\n    453             if zmq_events & zmq.POLLOUT and self.sending():\n    454                 self._handle_send()\n\n...........................................................................\n/Users/reef/anaconda3/lib/python3.6/site-packages/zmq/eventloop/zmqstream.py in _handle_recv(self=<zmq.eventloop.zmqstream.ZMQStream object>)\n    475             else:\n    476                 raise\n    477         else:\n    478             if self._recv_callback:\n    479                 callback = self._recv_callback\n--> 480                 self._run_callback(callback, msg)\n        self._run_callback = <bound method ZMQStream._run_callback of <zmq.eventloop.zmqstream.ZMQStream object>>\n        callback = <function wrap.<locals>.null_wrapper>\n        msg = [<zmq.sugar.frame.Frame object>, <zmq.sugar.frame.Frame object>, <zmq.sugar.frame.Frame object>, <zmq.sugar.frame.Frame object>, <zmq.sugar.frame.Frame object>, <zmq.sugar.frame.Frame object>, <zmq.sugar.frame.Frame object>]\n    481         \n    482 \n    483     def _handle_send(self):\n    484         \"\"\"Handle a send event.\"\"\"\n\n...........................................................................\n/Users/reef/anaconda3/lib/python3.6/site-packages/zmq/eventloop/zmqstream.py in _run_callback(self=<zmq.eventloop.zmqstream.ZMQStream object>, callback=<function wrap.<locals>.null_wrapper>, *args=([<zmq.sugar.frame.Frame object>, <zmq.sugar.frame.Frame object>, <zmq.sugar.frame.Frame object>, <zmq.sugar.frame.Frame object>, <zmq.sugar.frame.Frame object>, <zmq.sugar.frame.Frame object>, <zmq.sugar.frame.Frame object>],), **kwargs={})\n    427         close our socket.\"\"\"\n    428         try:\n    429             # Use a NullContext to ensure that all StackContexts are run\n    430             # inside our blanket exception handler rather than outside.\n    431             with stack_context.NullContext():\n--> 432                 callback(*args, **kwargs)\n        callback = <function wrap.<locals>.null_wrapper>\n        args = ([<zmq.sugar.frame.Frame object>, <zmq.sugar.frame.Frame object>, <zmq.sugar.frame.Frame object>, <zmq.sugar.frame.Frame object>, <zmq.sugar.frame.Frame object>, <zmq.sugar.frame.Frame object>, <zmq.sugar.frame.Frame object>],)\n        kwargs = {}\n    433         except:\n    434             gen_log.error(\"Uncaught exception in ZMQStream callback\",\n    435                           exc_info=True)\n    436             # Re-raise the exception so that IOLoop.handle_callback_exception\n\n...........................................................................\n/Users/reef/anaconda3/lib/python3.6/site-packages/tornado/stack_context.py in null_wrapper(*args=([<zmq.sugar.frame.Frame object>, <zmq.sugar.frame.Frame object>, <zmq.sugar.frame.Frame object>, <zmq.sugar.frame.Frame object>, <zmq.sugar.frame.Frame object>, <zmq.sugar.frame.Frame object>, <zmq.sugar.frame.Frame object>],), **kwargs={})\n    272         # Fast path when there are no active contexts.\n    273         def null_wrapper(*args, **kwargs):\n    274             try:\n    275                 current_state = _state.contexts\n    276                 _state.contexts = cap_contexts[0]\n--> 277                 return fn(*args, **kwargs)\n        args = ([<zmq.sugar.frame.Frame object>, <zmq.sugar.frame.Frame object>, <zmq.sugar.frame.Frame object>, <zmq.sugar.frame.Frame object>, <zmq.sugar.frame.Frame object>, <zmq.sugar.frame.Frame object>, <zmq.sugar.frame.Frame object>],)\n        kwargs = {}\n    278             finally:\n    279                 _state.contexts = current_state\n    280         null_wrapper._wrapped = True\n    281         return null_wrapper\n\n...........................................................................\n/Users/reef/anaconda3/lib/python3.6/site-packages/ipykernel/kernelbase.py in dispatcher(msg=[<zmq.sugar.frame.Frame object>, <zmq.sugar.frame.Frame object>, <zmq.sugar.frame.Frame object>, <zmq.sugar.frame.Frame object>, <zmq.sugar.frame.Frame object>, <zmq.sugar.frame.Frame object>, <zmq.sugar.frame.Frame object>])\n    278         if self.control_stream:\n    279             self.control_stream.on_recv(self.dispatch_control, copy=False)\n    280 \n    281         def make_dispatcher(stream):\n    282             def dispatcher(msg):\n--> 283                 return self.dispatch_shell(stream, msg)\n        msg = [<zmq.sugar.frame.Frame object>, <zmq.sugar.frame.Frame object>, <zmq.sugar.frame.Frame object>, <zmq.sugar.frame.Frame object>, <zmq.sugar.frame.Frame object>, <zmq.sugar.frame.Frame object>, <zmq.sugar.frame.Frame object>]\n    284             return dispatcher\n    285 \n    286         for s in self.shell_streams:\n    287             s.on_recv(make_dispatcher(s), copy=False)\n\n...........................................................................\n/Users/reef/anaconda3/lib/python3.6/site-packages/ipykernel/kernelbase.py in dispatch_shell(self=<ipykernel.ipkernel.IPythonKernel object>, stream=<zmq.eventloop.zmqstream.ZMQStream object>, msg={'buffers': [], 'content': {'allow_stdin': True, 'code': '# A:\\nwith model:\\n    trace = pm.sample(10000)', 'silent': False, 'stop_on_error': True, 'store_history': True, 'user_expressions': {}}, 'header': {'date': datetime.datetime(2018, 3, 28, 18, 4, 54, 462624, tzinfo=tzutc()), 'msg_id': '7ca9d1015b3440aa93bf0c5e080f762d', 'msg_type': 'execute_request', 'session': 'f622455d736648a190622fa76f732796', 'username': 'username', 'version': '5.2'}, 'metadata': {}, 'msg_id': '7ca9d1015b3440aa93bf0c5e080f762d', 'msg_type': 'execute_request', 'parent_header': {}})\n    228             self.log.warn(\"Unknown message type: %r\", msg_type)\n    229         else:\n    230             self.log.debug(\"%s: %s\", msg_type, msg)\n    231             self.pre_handler_hook()\n    232             try:\n--> 233                 handler(stream, idents, msg)\n        handler = <bound method Kernel.execute_request of <ipykernel.ipkernel.IPythonKernel object>>\n        stream = <zmq.eventloop.zmqstream.ZMQStream object>\n        idents = [b'f622455d736648a190622fa76f732796']\n        msg = {'buffers': [], 'content': {'allow_stdin': True, 'code': '# A:\\nwith model:\\n    trace = pm.sample(10000)', 'silent': False, 'stop_on_error': True, 'store_history': True, 'user_expressions': {}}, 'header': {'date': datetime.datetime(2018, 3, 28, 18, 4, 54, 462624, tzinfo=tzutc()), 'msg_id': '7ca9d1015b3440aa93bf0c5e080f762d', 'msg_type': 'execute_request', 'session': 'f622455d736648a190622fa76f732796', 'username': 'username', 'version': '5.2'}, 'metadata': {}, 'msg_id': '7ca9d1015b3440aa93bf0c5e080f762d', 'msg_type': 'execute_request', 'parent_header': {}}\n    234             except Exception:\n    235                 self.log.error(\"Exception in message handler:\", exc_info=True)\n    236             finally:\n    237                 self.post_handler_hook()\n\n...........................................................................\n/Users/reef/anaconda3/lib/python3.6/site-packages/ipykernel/kernelbase.py in execute_request(self=<ipykernel.ipkernel.IPythonKernel object>, stream=<zmq.eventloop.zmqstream.ZMQStream object>, ident=[b'f622455d736648a190622fa76f732796'], parent={'buffers': [], 'content': {'allow_stdin': True, 'code': '# A:\\nwith model:\\n    trace = pm.sample(10000)', 'silent': False, 'stop_on_error': True, 'store_history': True, 'user_expressions': {}}, 'header': {'date': datetime.datetime(2018, 3, 28, 18, 4, 54, 462624, tzinfo=tzutc()), 'msg_id': '7ca9d1015b3440aa93bf0c5e080f762d', 'msg_type': 'execute_request', 'session': 'f622455d736648a190622fa76f732796', 'username': 'username', 'version': '5.2'}, 'metadata': {}, 'msg_id': '7ca9d1015b3440aa93bf0c5e080f762d', 'msg_type': 'execute_request', 'parent_header': {}})\n    394         if not silent:\n    395             self.execution_count += 1\n    396             self._publish_execute_input(code, parent, self.execution_count)\n    397 \n    398         reply_content = self.do_execute(code, silent, store_history,\n--> 399                                         user_expressions, allow_stdin)\n        user_expressions = {}\n        allow_stdin = True\n    400 \n    401         # Flush output before sending the reply.\n    402         sys.stdout.flush()\n    403         sys.stderr.flush()\n\n...........................................................................\n/Users/reef/anaconda3/lib/python3.6/site-packages/ipykernel/ipkernel.py in do_execute(self=<ipykernel.ipkernel.IPythonKernel object>, code='# A:\\nwith model:\\n    trace = pm.sample(10000)', silent=False, store_history=True, user_expressions={}, allow_stdin=True)\n    203 \n    204         self._forward_input(allow_stdin)\n    205 \n    206         reply_content = {}\n    207         try:\n--> 208             res = shell.run_cell(code, store_history=store_history, silent=silent)\n        res = undefined\n        shell.run_cell = <bound method ZMQInteractiveShell.run_cell of <ipykernel.zmqshell.ZMQInteractiveShell object>>\n        code = '# A:\\nwith model:\\n    trace = pm.sample(10000)'\n        store_history = True\n        silent = False\n    209         finally:\n    210             self._restore_input()\n    211 \n    212         if res.error_before_exec is not None:\n\n...........................................................................\n/Users/reef/anaconda3/lib/python3.6/site-packages/ipykernel/zmqshell.py in run_cell(self=<ipykernel.zmqshell.ZMQInteractiveShell object>, *args=('# A:\\nwith model:\\n    trace = pm.sample(10000)',), **kwargs={'silent': False, 'store_history': True})\n    532             )\n    533         self.payload_manager.write_payload(payload)\n    534 \n    535     def run_cell(self, *args, **kwargs):\n    536         self._last_traceback = None\n--> 537         return super(ZMQInteractiveShell, self).run_cell(*args, **kwargs)\n        self.run_cell = <bound method ZMQInteractiveShell.run_cell of <ipykernel.zmqshell.ZMQInteractiveShell object>>\n        args = ('# A:\\nwith model:\\n    trace = pm.sample(10000)',)\n        kwargs = {'silent': False, 'store_history': True}\n    538 \n    539     def _showtraceback(self, etype, evalue, stb):\n    540         # try to preserve ordering of tracebacks and print statements\n    541         sys.stdout.flush()\n\n...........................................................................\n/Users/reef/anaconda3/lib/python3.6/site-packages/IPython/core/interactiveshell.py in run_cell(self=<ipykernel.zmqshell.ZMQInteractiveShell object>, raw_cell='# A:\\nwith model:\\n    trace = pm.sample(10000)', store_history=True, silent=False, shell_futures=True)\n   2723                 self.displayhook.exec_result = result\n   2724 \n   2725                 # Execute the user code\n   2726                 interactivity = \"none\" if silent else self.ast_node_interactivity\n   2727                 has_raised = self.run_ast_nodes(code_ast.body, cell_name,\n-> 2728                    interactivity=interactivity, compiler=compiler, result=result)\n        interactivity = 'last_expr'\n        compiler = <IPython.core.compilerop.CachingCompiler object>\n   2729                 \n   2730                 self.last_execution_succeeded = not has_raised\n   2731                 self.last_execution_result = result\n   2732 \n\n...........................................................................\n/Users/reef/anaconda3/lib/python3.6/site-packages/IPython/core/interactiveshell.py in run_ast_nodes(self=<ipykernel.zmqshell.ZMQInteractiveShell object>, nodelist=[<_ast.With object>], cell_name='<ipython-input-81-01a9e3a75e03>', interactivity='none', compiler=<IPython.core.compilerop.CachingCompiler object>, result=<ExecutionResult object at 1c25122e48, execution..._before_exec=None error_in_exec=None result=None>)\n   2845 \n   2846         try:\n   2847             for i, node in enumerate(to_run_exec):\n   2848                 mod = ast.Module([node])\n   2849                 code = compiler(mod, cell_name, \"exec\")\n-> 2850                 if self.run_code(code, result):\n        self.run_code = <bound method InteractiveShell.run_code of <ipykernel.zmqshell.ZMQInteractiveShell object>>\n        code = <code object <module> at 0x1c20dfb930, file \"<ipython-input-81-01a9e3a75e03>\", line 2>\n        result = <ExecutionResult object at 1c25122e48, execution..._before_exec=None error_in_exec=None result=None>\n   2851                     return True\n   2852 \n   2853             for i, node in enumerate(to_run_interactive):\n   2854                 mod = ast.Interactive([node])\n\n...........................................................................\n/Users/reef/anaconda3/lib/python3.6/site-packages/IPython/core/interactiveshell.py in run_code(self=<ipykernel.zmqshell.ZMQInteractiveShell object>, code_obj=<code object <module> at 0x1c20dfb930, file \"<ipython-input-81-01a9e3a75e03>\", line 2>, result=<ExecutionResult object at 1c25122e48, execution..._before_exec=None error_in_exec=None result=None>)\n   2905         outflag = True  # happens in more places, so it's easier as default\n   2906         try:\n   2907             try:\n   2908                 self.hooks.pre_run_code_hook()\n   2909                 #rprint('Running code', repr(code_obj)) # dbg\n-> 2910                 exec(code_obj, self.user_global_ns, self.user_ns)\n        code_obj = <code object <module> at 0x1c20dfb930, file \"<ipython-input-81-01a9e3a75e03>\", line 2>\n        self.user_global_ns = {'CountVectorizer': <class 'sklearn.feature_extraction.text.CountVectorizer'>, 'In': ['', \"import pandas as pd\\nimport numpy as np\\nimport se..._ipython().run_line_magic('matplotlib', 'inline')\", \"import pandas as pd\\nimport numpy as np\\nimport se..._ipython().run_line_magic('matplotlib', 'inline')\", \"senate = pd.read_csv('./data/senate.csv')\", 'senate.head()', 'senate.info()', \"senate.sort_values('the_ratio', ascending=False).head()\", 'senate.dropna(inplace=True)', \"senate.sort_values('the_ratio', ascending=False).head()\", \"senate['z'] = np.log1p(senate.the_ratio)\", 'senate.head()', \"senate.sort_values('the_ratio', ascending=False).head()\", \"senate[senate['z'] > 0 ].the_ratio.hist(bins=100)\", \"senate[senate['z'] > 0 ].the_ratio.hist(bins=50)\", \"senate[senate['z'] > 0 ].the_ratio.hist(bins=100)\", 'senate.z.mean()', 'senate.z.var()', \"z_dem = senate[senate['party'] =='Democratic'].z...))\\nprint('Republican:' z_rep.mean(), z_rep.var())\", \"z_dem = senate[senate['party'] =='Democratic'].z...))\\nprint('Republican': z_rep.mean(), z_rep.var())\", \"z_dem = senate[senate['party'] =='Democratic'].z...))\\nprint('Republican', z_rep.mean(), z_rep.var())\", ...], 'LabelEncoder': <class 'sklearn.preprocessing.label.LabelEncoder'>, 'Out': {4:                        created_at        id_str ...  0.168766  \n4  New York  Democratic   0.235612  , 6:                             created_at        id...l cassidy     Louisiana  Republican   96.000000  , 8:                             created_at        id...l cassidy     Louisiana  Republican   96.000000  , 10:                        created_at        id_str ...  \n4  New York  Democratic   0.235612  0.211566  , 11:                             created_at        id... 4.691348  \n36978   4.579852  \n15547   4.574711  , 12: <matplotlib.axes._subplots.AxesSubplot object>, 13: <matplotlib.axes._subplots.AxesSubplot object>, 14: <matplotlib.axes._subplots.AxesSubplot object>, 15: 0.36119891517670105, 16: 0.20235818469400238, ...}, 'PorterStemmer': <class 'nltk.stem.porter.PorterStemmer'>, 'RegexpTokenizer': <class 'nltk.tokenize.regexp.RegexpTokenizer'>, '_': 0.6773362343539384, '_10':                        created_at        id_str ...  \n4  New York  Democratic   0.235612  0.211566  , '_11':                             created_at        id... 4.691348  \n36978   4.579852  \n15547   4.574711  , '_12': <matplotlib.axes._subplots.AxesSubplot object>, ...}\n        self.user_ns = {'CountVectorizer': <class 'sklearn.feature_extraction.text.CountVectorizer'>, 'In': ['', \"import pandas as pd\\nimport numpy as np\\nimport se..._ipython().run_line_magic('matplotlib', 'inline')\", \"import pandas as pd\\nimport numpy as np\\nimport se..._ipython().run_line_magic('matplotlib', 'inline')\", \"senate = pd.read_csv('./data/senate.csv')\", 'senate.head()', 'senate.info()', \"senate.sort_values('the_ratio', ascending=False).head()\", 'senate.dropna(inplace=True)', \"senate.sort_values('the_ratio', ascending=False).head()\", \"senate['z'] = np.log1p(senate.the_ratio)\", 'senate.head()', \"senate.sort_values('the_ratio', ascending=False).head()\", \"senate[senate['z'] > 0 ].the_ratio.hist(bins=100)\", \"senate[senate['z'] > 0 ].the_ratio.hist(bins=50)\", \"senate[senate['z'] > 0 ].the_ratio.hist(bins=100)\", 'senate.z.mean()', 'senate.z.var()', \"z_dem = senate[senate['party'] =='Democratic'].z...))\\nprint('Republican:' z_rep.mean(), z_rep.var())\", \"z_dem = senate[senate['party'] =='Democratic'].z...))\\nprint('Republican': z_rep.mean(), z_rep.var())\", \"z_dem = senate[senate['party'] =='Democratic'].z...))\\nprint('Republican', z_rep.mean(), z_rep.var())\", ...], 'LabelEncoder': <class 'sklearn.preprocessing.label.LabelEncoder'>, 'Out': {4:                        created_at        id_str ...  0.168766  \n4  New York  Democratic   0.235612  , 6:                             created_at        id...l cassidy     Louisiana  Republican   96.000000  , 8:                             created_at        id...l cassidy     Louisiana  Republican   96.000000  , 10:                        created_at        id_str ...  \n4  New York  Democratic   0.235612  0.211566  , 11:                             created_at        id... 4.691348  \n36978   4.579852  \n15547   4.574711  , 12: <matplotlib.axes._subplots.AxesSubplot object>, 13: <matplotlib.axes._subplots.AxesSubplot object>, 14: <matplotlib.axes._subplots.AxesSubplot object>, 15: 0.36119891517670105, 16: 0.20235818469400238, ...}, 'PorterStemmer': <class 'nltk.stem.porter.PorterStemmer'>, 'RegexpTokenizer': <class 'nltk.tokenize.regexp.RegexpTokenizer'>, '_': 0.6773362343539384, '_10':                        created_at        id_str ...  \n4  New York  Democratic   0.235612  0.211566  , '_11':                             created_at        id... 4.691348  \n36978   4.579852  \n15547   4.574711  , '_12': <matplotlib.axes._subplots.AxesSubplot object>, ...}\n   2911             finally:\n   2912                 # Reset our crash handler in place\n   2913                 sys.excepthook = old_excepthook\n   2914         except SystemExit as e:\n\n...........................................................................\n/Users/reef/dsi/Projects/Capstone/<ipython-input-81-01a9e3a75e03> in <module>()\n      1 # A:\n      2 with model:\n----> 3     trace = pm.sample(10000)\n\n...........................................................................\n/Users/reef/anaconda3/lib/python3.6/site-packages/pymc3/sampling.py in sample(draws=10500, step=<pymc3.step_methods.hmc.nuts.NUTS object>, init='auto', n_init=200000, start=[{'ratio_dem_mean_log__': array(-3.85365685), 'ratio_dem_std_interval__': array(0.33251673), 'ratio_rep_mean_log__': array(-3.71459111), 'ratio_rep_std_interval__': array(0.53691369)}, {'ratio_dem_mean_log__': array(-3.51510421), 'ratio_dem_std_interval__': array(0.04972884), 'ratio_rep_mean_log__': array(-3.17318038), 'ratio_rep_std_interval__': array(0.32805788)}, {'ratio_dem_mean_log__': array(-2.71013003), 'ratio_dem_std_interval__': array(0.15764348), 'ratio_rep_mean_log__': array(-3.97791512), 'ratio_rep_std_interval__': array(-0.00471864)}, {'ratio_dem_mean_log__': array(-4.44220304), 'ratio_dem_std_interval__': array(-0.44182391), 'ratio_rep_mean_log__': array(-4.54057767), 'ratio_rep_std_interval__': array(-0.35444256)}], trace=None, chain_idx=0, chains=4, njobs=4, tune=500, nuts_kwargs=None, step_kwargs=None, progressbar=True, model=<pymc3.model.Model object>, random_seed=[606274741, 455790063, 425410589, 136584993], live_plot=False, discard_tuned_samples=True, live_plot_kwargs=None, compute_convergence_checks=True, **kwargs={})\n    414     parallel = njobs > 1 and chains > 1 and not has_population_samplers\n    415     if parallel:\n    416         _log.info('Multiprocess sampling ({} chains in {} jobs)'.format(chains, njobs))\n    417         _print_step_hierarchy(step)\n    418         try:\n--> 419             trace = _mp_sample(**sample_args)\n        trace = None\n        sample_args = {'chain': 0, 'chains': 4, 'draws': 10500, 'live_plot': False, 'live_plot_kwargs': None, 'model': <pymc3.model.Model object>, 'njobs': 4, 'progressbar': True, 'random_seed': [606274741, 455790063, 425410589, 136584993], 'start': [{'ratio_dem_mean_log__': array(-3.85365685), 'ratio_dem_std_interval__': array(0.33251673), 'ratio_rep_mean_log__': array(-3.71459111), 'ratio_rep_std_interval__': array(0.53691369)}, {'ratio_dem_mean_log__': array(-3.51510421), 'ratio_dem_std_interval__': array(0.04972884), 'ratio_rep_mean_log__': array(-3.17318038), 'ratio_rep_std_interval__': array(0.32805788)}, {'ratio_dem_mean_log__': array(-2.71013003), 'ratio_dem_std_interval__': array(0.15764348), 'ratio_rep_mean_log__': array(-3.97791512), 'ratio_rep_std_interval__': array(-0.00471864)}, {'ratio_dem_mean_log__': array(-4.44220304), 'ratio_dem_std_interval__': array(-0.44182391), 'ratio_rep_mean_log__': array(-4.54057767), 'ratio_rep_std_interval__': array(-0.35444256)}], ...}\n    420         except pickle.PickleError:\n    421             _log.warn(\"Could not pickle model, sampling singlethreaded.\")\n    422             _log.debug('Pickling error:', exec_info=True)\n    423             parallel = False\n\n...........................................................................\n/Users/reef/anaconda3/lib/python3.6/site-packages/pymc3/sampling.py in _mp_sample(**kwargs={'draws': 10500, 'live_plot': False, 'live_plot_kwargs': None, 'model': <pymc3.model.Model object>, 'step': <pymc3.step_methods.hmc.nuts.NUTS object>, 'trace': None, 'tune': 500})\n    944 \n    945     chain_nums = list(range(chain, chain + chains))\n    946     pbars = [kwargs.pop('progressbar')] + [False] * (chains - 1)\n    947     jobs = (delayed(_sample)(*args, **kwargs)\n    948             for args in zip(chain_nums, pbars, rseed, start))\n--> 949     traces = Parallel(n_jobs=njobs)(jobs)\n        traces = undefined\n        njobs = 4\n        jobs = <generator object _mp_sample.<locals>.<genexpr>>\n    950     return MultiTrace(traces)\n    951 \n    952 \n    953 def stop_tuning(step):\n\n...........................................................................\n/Users/reef/anaconda3/lib/python3.6/site-packages/joblib/parallel.py in __call__(self=Parallel(n_jobs=4), iterable=<generator object _mp_sample.<locals>.<genexpr>>)\n    784             if pre_dispatch == \"all\" or n_jobs == 1:\n    785                 # The iterable was consumed all at once by the above for loop.\n    786                 # No need to wait for async callbacks to trigger to\n    787                 # consumption.\n    788                 self._iterating = False\n--> 789             self.retrieve()\n        self.retrieve = <bound method Parallel.retrieve of Parallel(n_jobs=4)>\n    790             # Make sure that we get a last message telling us we are done\n    791             elapsed_time = time.time() - self._start_time\n    792             self._print('Done %3i out of %3i | elapsed: %s finished',\n    793                         (len(self._output), len(self._output),\n\n---------------------------------------------------------------------------\nSub-process traceback:\n---------------------------------------------------------------------------\nValueError                                         Wed Mar 28 14:05:01 2018\nPID: 12207                   Python 3.6.3: /Users/reef/anaconda3/bin/python\n...........................................................................\n/Users/reef/anaconda3/lib/python3.6/site-packages/joblib/parallel.py in __call__(self=<joblib.parallel.BatchedCalls object>)\n    126     def __init__(self, iterator_slice):\n    127         self.items = list(iterator_slice)\n    128         self._size = len(self.items)\n    129 \n    130     def __call__(self):\n--> 131         return [func(*args, **kwargs) for func, args, kwargs in self.items]\n        self.items = [(<function _sample>, (0, True, 606274741, {'ratio_dem_mean_log__': array(-3.85365685), 'ratio_dem_std_interval__': array(0.33251673), 'ratio_rep_mean_log__': array(-3.71459111), 'ratio_rep_std_interval__': array(0.53691369)}), {'draws': 10500, 'live_plot': False, 'live_plot_kwargs': None, 'model': <pymc3.model.Model object>, 'step': <pymc3.step_methods.hmc.nuts.NUTS object>, 'trace': None, 'tune': 500})]\n    132 \n    133     def __len__(self):\n    134         return self._size\n    135 \n\n...........................................................................\n/Users/reef/anaconda3/lib/python3.6/site-packages/joblib/parallel.py in <listcomp>(.0=<list_iterator object>)\n    126     def __init__(self, iterator_slice):\n    127         self.items = list(iterator_slice)\n    128         self._size = len(self.items)\n    129 \n    130     def __call__(self):\n--> 131         return [func(*args, **kwargs) for func, args, kwargs in self.items]\n        func = <function _sample>\n        args = (0, True, 606274741, {'ratio_dem_mean_log__': array(-3.85365685), 'ratio_dem_std_interval__': array(0.33251673), 'ratio_rep_mean_log__': array(-3.71459111), 'ratio_rep_std_interval__': array(0.53691369)})\n        kwargs = {'draws': 10500, 'live_plot': False, 'live_plot_kwargs': None, 'model': <pymc3.model.Model object>, 'step': <pymc3.step_methods.hmc.nuts.NUTS object>, 'trace': None, 'tune': 500}\n    132 \n    133     def __len__(self):\n    134         return self._size\n    135 \n\n...........................................................................\n/Users/reef/anaconda3/lib/python3.6/site-packages/pymc3/sampling.py in _sample(chain=0, progressbar=True, random_seed=606274741, start={'ratio_dem_mean_log__': array(-3.85365685), 'ratio_dem_std_interval__': array(0.33251673), 'ratio_rep_mean_log__': array(-3.71459111), 'ratio_rep_std_interval__': array(0.53691369)}, draws=10500, step=<pymc3.step_methods.hmc.nuts.NUTS object>, trace=None, tune=500, model=<pymc3.model.Model object>, live_plot=False, live_plot_kwargs=None, **kwargs={})\n    521                             tune, model, random_seed)\n    522     if progressbar:\n    523         sampling = tqdm(sampling, total=draws)\n    524     try:\n    525         strace = None\n--> 526         for it, strace in enumerate(sampling):\n        it = undefined\n        strace = None\n        sampling =   0%|          | 0/10500 [00:01<?, ?it/s]\n    527             if live_plot:\n    528                 if live_plot_kwargs is None:\n    529                     live_plot_kwargs = {}\n    530                 if it >= skip_first:\n\n...........................................................................\n/Users/reef/anaconda3/lib/python3.6/site-packages/tqdm/_tqdm.py in __iter__(self=  0%|          | 0/10500 [00:01<?, ?it/s])\n    948             except AttributeError:\n    949                 raise TqdmDeprecationWarning(\"\"\"\\\n    950 Please use `tqdm_gui(...)` instead of `tqdm(..., gui=True)`\n    951 \"\"\", fp_write=getattr(self.fp, 'write', sys.stderr.write))\n    952 \n--> 953             for obj in iterable:\n        obj = undefined\n        iterable = <generator object _iter_sample>\n    954                 yield obj\n    955                 # Update and possibly print the progressbar.\n    956                 # Note: does not call self.update(1) for speed optimisation.\n    957                 n += 1\n\n...........................................................................\n/Users/reef/anaconda3/lib/python3.6/site-packages/pymc3/sampling.py in _iter_sample(draws=10500, step=<pymc3.step_methods.hmc.nuts.NUTS object>, start={'ratio_dem_mean_log__': array(-3.85365685), 'ratio_dem_std_interval__': array(0.33251673), 'ratio_rep_mean_log__': array(-3.71459111), 'ratio_rep_std_interval__': array(0.53691369)}, trace=None, chain=0, tune=500, model=<pymc3.model.Model object>, random_seed=606274741)\n    619         step.tune = bool(tune)\n    620         for i in range(draws):\n    621             if i == tune:\n    622                 step = stop_tuning(step)\n    623             if step.generates_stats:\n--> 624                 point, states = step.step(point)\n        point = {'ratio_dem_mean_log__': array(-3.85365685), 'ratio_dem_std_interval__': array(0.33251673), 'ratio_rep_mean_log__': array(-3.71459111), 'ratio_rep_std_interval__': array(0.53691369)}\n        states = undefined\n        step.step = <bound method GradientSharedStep.step of <pymc3.step_methods.hmc.nuts.NUTS object>>\n    625                 if strace.supports_sampler_stats:\n    626                     strace.record(point, states)\n    627                 else:\n    628                     strace.record(point)\n\n...........................................................................\n/Users/reef/anaconda3/lib/python3.6/site-packages/pymc3/step_methods/arraystep.py in step(self=<pymc3.step_methods.hmc.nuts.NUTS object>, point={'ratio_dem_mean_log__': array(-3.85365685), 'ratio_dem_std_interval__': array(0.33251673), 'ratio_rep_mean_log__': array(-3.71459111), 'ratio_rep_std_interval__': array(0.53691369)})\n    217     def step(self, point):\n    218         self._logp_dlogp_func.set_extra_values(point)\n    219         array = self._logp_dlogp_func.dict_to_array(point)\n    220 \n    221         if self.generates_stats:\n--> 222             apoint, stats = self.astep(array)\n        apoint = undefined\n        stats = undefined\n        self.astep = <bound method BaseHMC.astep of <pymc3.step_methods.hmc.nuts.NUTS object>>\n        array = array([ 0.53691369,  0.33251673, -3.71459111, -3.85365685])\n    223             point = self._logp_dlogp_func.array_to_full_dict(apoint)\n    224             return point, stats\n    225         else:\n    226             apoint = self.astep(array)\n\n...........................................................................\n/Users/reef/anaconda3/lib/python3.6/site-packages/pymc3/step_methods/hmc/base_hmc.py in astep(self=<pymc3.step_methods.hmc.nuts.NUTS object>, q0=array([ 0.53691369,  0.33251673, -3.71459111, -3.85365685]))\n    112         start = self.integrator.compute_state(q0, p0)\n    113 \n    114         if not np.isfinite(start.energy):\n    115             self.potential.raise_ok()\n    116             raise ValueError('Bad initial energy: %s. The model '\n--> 117                              'might be misspecified.' % start.energy)\n        start.energy = inf\n    118 \n    119         adapt_step = self.tune and self.adapt_step_size\n    120         step_size = self.step_adapt.current(adapt_step)\n    121         self.step_size = step_size\n\nValueError: Bad initial energy: inf. The model might be misspecified.\n___________________________________________________________________________"
     ]
    }
   ],
   "source": [
    "# A:\n",
    "with model:\n",
    "    trace = pm.sample(10000)"
   ]
  },
  {
   "cell_type": "code",
   "execution_count": 60,
   "metadata": {},
   "outputs": [],
   "source": [
    "### nump.log1p - transform the ratio into \n",
    "\n",
    "## mean and variance of Z (new target variabe)"
   ]
  },
  {
   "cell_type": "code",
   "execution_count": 83,
   "metadata": {},
   "outputs": [
    {
     "data": {
      "text/plain": [
       "(0.36119891517670105, 0.20235818469400238)"
      ]
     },
     "execution_count": 83,
     "metadata": {},
     "output_type": "execute_result"
    }
   ],
   "source": [
    "senate.z.mean(), senate.z.var()"
   ]
  },
  {
   "cell_type": "code",
   "execution_count": 22,
   "metadata": {},
   "outputs": [
    {
     "name": "stdout",
     "output_type": "stream",
     "text": [
      "Democrat 0.25661434708288705 0.09123438607177879\n",
      "Republican 0.4588512619374477 0.28339384664220113\n"
     ]
    }
   ],
   "source": [
    "z_dem = senate[senate['party'] =='Democratic'].z.values\n",
    "z_rep = senate[senate['party'] =='Republican'].z.values\n",
    "\n",
    "print('Democrat', z_dem.mean(), z_dem.var())\n",
    "print('Republican', z_rep.mean(), z_rep.var())"
   ]
  },
  {
   "cell_type": "code",
   "execution_count": 55,
   "metadata": {},
   "outputs": [
    {
     "name": "stdout",
     "output_type": "stream",
     "text": [
      "105.64033822739268\n",
      "0.0\n"
     ]
    }
   ],
   "source": [
    "tt = stats.ttest_ind(z_rep, z_dem)\n",
    "print(tt.statistic)\n",
    "print(tt.pvalue)"
   ]
  },
  {
   "cell_type": "code",
   "execution_count": null,
   "metadata": {},
   "outputs": [],
   "source": [
    "with pm.Model() as model:\n",
    "    dem_mean = pm.Gamma('ratio_dem_mean', \n",
    "                         alpha = 0.134, \n",
    "                         beta = 5.039)\n",
    "    rep_mean = pm.Gamma('ratio_rep_mean', \n",
    "                         alpha = 0.134, \n",
    "                         beta = 5.039)"
   ]
  }
 ],
 "metadata": {
  "kernelspec": {
   "display_name": "Python [default]",
   "language": "python",
   "name": "python3"
  },
  "language_info": {
   "codemirror_mode": {
    "name": "ipython",
    "version": 3
   },
   "file_extension": ".py",
   "mimetype": "text/x-python",
   "name": "python",
   "nbconvert_exporter": "python",
   "pygments_lexer": "ipython3",
   "version": "3.6.3"
  }
 },
 "nbformat": 4,
 "nbformat_minor": 2
}
