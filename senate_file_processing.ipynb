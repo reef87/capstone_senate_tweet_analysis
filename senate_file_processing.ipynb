{
 "cells": [
  {
   "cell_type": "code",
   "execution_count": 1,
   "metadata": {},
   "outputs": [],
   "source": [
    "import pandas as pd\n",
    "import numpy as np\n",
    "import os\n"
   ]
  },
  {
   "cell_type": "code",
   "execution_count": 3,
   "metadata": {},
   "outputs": [],
   "source": [
    "# Loading in all 100 Senator .csv files\n",
    "tweet_list = []\n",
    "for filename in os.listdir('tweets'):\n",
    "    if filename.endswith('csv'):\n",
    "        tweet_list.append(filename[:-4])\n",
    "\n",
    "# creating a dictionary of dataframes of each senator       \n",
    "tweet_dict = {}        \n",
    "for i in tweet_list:\n",
    "    tweet_dict[f'{i}'] = pd.read_csv('./tweets/%s.csv' %i, index_col=0)\n",
    "    \n",
    "\n",
    "# Compiling all of the dataframes into a single dataframes   \n",
    "senate_tweets = pd.DataFrame()\n",
    "for i in tweet_dict:\n",
    "    senate_tweets = senate_tweets.append(tweet_dict[i], ignore_index=True)\n",
    "    \n",
    "# feature engineering \"The Ratio\"\n",
    "senate_tweets['the_ratio'] = senate_tweets['reply_count']/senate_tweets['retweet_count']\n",
    "\n",
    "# dropping all null values (we only lose 4 observations)\n",
    "senate_tweets.dropna(inplace=True)\n",
    "\n",
    "# writing new dataframe into a .csv\n",
    "senate_tweets.to_csv('./data/senate.csv', index=False)"
   ]
  }
 ],
 "metadata": {
  "kernelspec": {
   "display_name": "Python [default]",
   "language": "python",
   "name": "python3"
  },
  "language_info": {
   "codemirror_mode": {
    "name": "ipython",
    "version": 3
   },
   "file_extension": ".py",
   "mimetype": "text/x-python",
   "name": "python",
   "nbconvert_exporter": "python",
   "pygments_lexer": "ipython3",
   "version": "3.6.3"
  }
 },
 "nbformat": 4,
 "nbformat_minor": 2
}
